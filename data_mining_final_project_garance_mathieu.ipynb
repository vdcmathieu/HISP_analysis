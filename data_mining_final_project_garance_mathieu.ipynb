{
  "cells": [
    {
      "cell_type": "markdown",
      "metadata": {
        "id": "view-in-github",
        "colab_type": "text"
      },
      "source": [
        "<a href=\"https://colab.research.google.com/github/vdcmathieu/HISP_analysis/blob/main/data_mining_final_project_garance_mathieu.ipynb\" target=\"_parent\"><img src=\"https://colab.research.google.com/assets/colab-badge.svg\" alt=\"Open In Colab\"/></a>"
      ]
    },
    {
      "cell_type": "markdown",
      "metadata": {
        "id": "kWG7A2B-xDrt"
      },
      "source": [
        "# HISP Project"
      ]
    },
    {
      "cell_type": "markdown",
      "metadata": {
        "id": "P591Ll681cen"
      },
      "source": [
        "This project was made by Garance Décarsin & Mathieu Van de catsije."
      ]
    },
    {
      "cell_type": "markdown",
      "metadata": {
        "id": "eCoGffqj04OP"
      },
      "source": [
        "## Library\n",
        "\n",
        "This code imports the different mandatory library useful for the project. Such as Pandas, Numpy, Seaborn or Scikit."
      ]
    },
    {
      "cell_type": "code",
      "execution_count": null,
      "metadata": {
        "id": "uKpDrStByR1f"
      },
      "outputs": [],
      "source": [
        "# Libraries Import\n",
        "import pandas as pd\n",
        "import numpy as np\n",
        "import seaborn as sns\n",
        "from sklearn.preprocessing import LabelEncoder\n",
        "import matplotlib.pyplot as plt\n",
        "from sklearn.model_selection import train_test_split"
      ]
    },
    {
      "cell_type": "markdown",
      "metadata": {
        "id": "N4u5paM11Fxi"
      },
      "source": [
        "## Data\n"
      ]
    },
    {
      "cell_type": "markdown",
      "metadata": {
        "id": "gk0jv9EeM9WG"
      },
      "source": [
        "### Import\n",
        "\n",
        "Import of the original dataset using GitHub. We're using Github to store the csv file with the *HISP* data, then importing it thanks to its raw url and the *read_csv* method from Pandas."
      ]
    },
    {
      "cell_type": "code",
      "execution_count": null,
      "metadata": {
        "id": "6AqC6g9Ow8k7"
      },
      "outputs": [],
      "source": [
        "# Import of the dataset from GitHub into a Dataframe variable\n",
        "import pandas as pd\n",
        "url = \"https://raw.githubusercontent.com/vdcmathieu/hisp_project/main/HISP.csv\"\n",
        "original_data_set = pd.read_csv(url)"
      ]
    },
    {
      "cell_type": "markdown",
      "metadata": {
        "id": "ijUARFwWM_kz"
      },
      "source": [
        "### Visualization"
      ]
    },
    {
      "cell_type": "code",
      "execution_count": null,
      "metadata": {
        "colab": {
          "base_uri": "https://localhost:8080/",
          "height": 574
        },
        "id": "ZkPGmvDAyk20",
        "outputId": "24aaa995-3f6e-4943-ecda-71e5c4e755c7"
      },
      "outputs": [
        {
          "data": {
            "text/html": [
              "\n",
              "  <div id=\"df-4d2b41bd-c722-49ae-a606-caecfde91548\">\n",
              "    <div class=\"colab-df-container\">\n",
              "      <div>\n",
              "<style scoped>\n",
              "    .dataframe tbody tr th:only-of-type {\n",
              "        vertical-align: middle;\n",
              "    }\n",
              "\n",
              "    .dataframe tbody tr th {\n",
              "        vertical-align: top;\n",
              "    }\n",
              "\n",
              "    .dataframe thead th {\n",
              "        text-align: right;\n",
              "    }\n",
              "</style>\n",
              "<table border=\"1\" class=\"dataframe\">\n",
              "  <thead>\n",
              "    <tr style=\"text-align: right;\">\n",
              "      <th></th>\n",
              "      <th>locality_identifier</th>\n",
              "      <th>household_identifier</th>\n",
              "      <th>treatment_locality</th>\n",
              "      <th>promotion_locality</th>\n",
              "      <th>eligible</th>\n",
              "      <th>enrolled</th>\n",
              "      <th>enrolled_rp</th>\n",
              "      <th>poverty_index</th>\n",
              "      <th>round</th>\n",
              "      <th>health_expenditures</th>\n",
              "      <th>age_hh</th>\n",
              "      <th>age_sp</th>\n",
              "      <th>educ_hh</th>\n",
              "      <th>educ_sp</th>\n",
              "      <th>female_hh</th>\n",
              "      <th>indigenous</th>\n",
              "      <th>hhsize</th>\n",
              "      <th>dirtfloor</th>\n",
              "      <th>bathroom</th>\n",
              "      <th>land</th>\n",
              "      <th>hospital_distance</th>\n",
              "      <th>enrolled_num</th>\n",
              "    </tr>\n",
              "  </thead>\n",
              "  <tbody>\n",
              "    <tr>\n",
              "      <th>0</th>\n",
              "      <td>26</td>\n",
              "      <td>5</td>\n",
              "      <td>Treatment</td>\n",
              "      <td>Promotion</td>\n",
              "      <td>Eligible</td>\n",
              "      <td>Enrolled</td>\n",
              "      <td>1</td>\n",
              "      <td>55.950542</td>\n",
              "      <td>Before</td>\n",
              "      <td>15.185455</td>\n",
              "      <td>24.0</td>\n",
              "      <td>23</td>\n",
              "      <td>0.0</td>\n",
              "      <td>6.0</td>\n",
              "      <td>0</td>\n",
              "      <td>0</td>\n",
              "      <td>4</td>\n",
              "      <td>1</td>\n",
              "      <td>0</td>\n",
              "      <td>1</td>\n",
              "      <td>124.819966</td>\n",
              "      <td>1</td>\n",
              "    </tr>\n",
              "    <tr>\n",
              "      <th>1</th>\n",
              "      <td>26</td>\n",
              "      <td>5</td>\n",
              "      <td>Treatment</td>\n",
              "      <td>Promotion</td>\n",
              "      <td>Eligible</td>\n",
              "      <td>Enrolled</td>\n",
              "      <td>1</td>\n",
              "      <td>55.950542</td>\n",
              "      <td>After</td>\n",
              "      <td>19.580902</td>\n",
              "      <td>25.0</td>\n",
              "      <td>24</td>\n",
              "      <td>0.0</td>\n",
              "      <td>6.0</td>\n",
              "      <td>0</td>\n",
              "      <td>0</td>\n",
              "      <td>4</td>\n",
              "      <td>1</td>\n",
              "      <td>0</td>\n",
              "      <td>1</td>\n",
              "      <td>124.819966</td>\n",
              "      <td>1</td>\n",
              "    </tr>\n",
              "    <tr>\n",
              "      <th>2</th>\n",
              "      <td>26</td>\n",
              "      <td>11</td>\n",
              "      <td>Treatment</td>\n",
              "      <td>Promotion</td>\n",
              "      <td>Eligible</td>\n",
              "      <td>Enrolled</td>\n",
              "      <td>0</td>\n",
              "      <td>46.058731</td>\n",
              "      <td>Before</td>\n",
              "      <td>13.076257</td>\n",
              "      <td>30.0</td>\n",
              "      <td>26</td>\n",
              "      <td>4.0</td>\n",
              "      <td>0.0</td>\n",
              "      <td>0</td>\n",
              "      <td>0</td>\n",
              "      <td>6</td>\n",
              "      <td>1</td>\n",
              "      <td>0</td>\n",
              "      <td>2</td>\n",
              "      <td>124.819966</td>\n",
              "      <td>1</td>\n",
              "    </tr>\n",
              "    <tr>\n",
              "      <th>3</th>\n",
              "      <td>26</td>\n",
              "      <td>11</td>\n",
              "      <td>Treatment</td>\n",
              "      <td>Promotion</td>\n",
              "      <td>Eligible</td>\n",
              "      <td>Enrolled</td>\n",
              "      <td>0</td>\n",
              "      <td>46.058731</td>\n",
              "      <td>After</td>\n",
              "      <td>2.398854</td>\n",
              "      <td>31.0</td>\n",
              "      <td>27</td>\n",
              "      <td>4.0</td>\n",
              "      <td>0.0</td>\n",
              "      <td>0</td>\n",
              "      <td>0</td>\n",
              "      <td>6</td>\n",
              "      <td>1</td>\n",
              "      <td>0</td>\n",
              "      <td>2</td>\n",
              "      <td>124.819966</td>\n",
              "      <td>1</td>\n",
              "    </tr>\n",
              "    <tr>\n",
              "      <th>4</th>\n",
              "      <td>26</td>\n",
              "      <td>13</td>\n",
              "      <td>Treatment</td>\n",
              "      <td>Promotion</td>\n",
              "      <td>Eligible</td>\n",
              "      <td>Enrolled</td>\n",
              "      <td>0</td>\n",
              "      <td>54.095825</td>\n",
              "      <td>After</td>\n",
              "      <td>0.000000</td>\n",
              "      <td>59.0</td>\n",
              "      <td>57</td>\n",
              "      <td>0.0</td>\n",
              "      <td>0.0</td>\n",
              "      <td>0</td>\n",
              "      <td>0</td>\n",
              "      <td>6</td>\n",
              "      <td>1</td>\n",
              "      <td>0</td>\n",
              "      <td>4</td>\n",
              "      <td>124.819966</td>\n",
              "      <td>1</td>\n",
              "    </tr>\n",
              "    <tr>\n",
              "      <th>...</th>\n",
              "      <td>...</td>\n",
              "      <td>...</td>\n",
              "      <td>...</td>\n",
              "      <td>...</td>\n",
              "      <td>...</td>\n",
              "      <td>...</td>\n",
              "      <td>...</td>\n",
              "      <td>...</td>\n",
              "      <td>...</td>\n",
              "      <td>...</td>\n",
              "      <td>...</td>\n",
              "      <td>...</td>\n",
              "      <td>...</td>\n",
              "      <td>...</td>\n",
              "      <td>...</td>\n",
              "      <td>...</td>\n",
              "      <td>...</td>\n",
              "      <td>...</td>\n",
              "      <td>...</td>\n",
              "      <td>...</td>\n",
              "      <td>...</td>\n",
              "      <td>...</td>\n",
              "    </tr>\n",
              "    <tr>\n",
              "      <th>19822</th>\n",
              "      <td>35</td>\n",
              "      <td>15738</td>\n",
              "      <td>Control</td>\n",
              "      <td>No promotion</td>\n",
              "      <td>Not eligible</td>\n",
              "      <td>Not enrolled</td>\n",
              "      <td>0</td>\n",
              "      <td>59.737247</td>\n",
              "      <td>Before</td>\n",
              "      <td>16.811539</td>\n",
              "      <td>52.0</td>\n",
              "      <td>41</td>\n",
              "      <td>0.0</td>\n",
              "      <td>2.0</td>\n",
              "      <td>0</td>\n",
              "      <td>1</td>\n",
              "      <td>7</td>\n",
              "      <td>0</td>\n",
              "      <td>1</td>\n",
              "      <td>2</td>\n",
              "      <td>162.748811</td>\n",
              "      <td>0</td>\n",
              "    </tr>\n",
              "    <tr>\n",
              "      <th>19823</th>\n",
              "      <td>40</td>\n",
              "      <td>15769</td>\n",
              "      <td>Treatment</td>\n",
              "      <td>Promotion</td>\n",
              "      <td>Not eligible</td>\n",
              "      <td>Not enrolled</td>\n",
              "      <td>0</td>\n",
              "      <td>62.055641</td>\n",
              "      <td>Before</td>\n",
              "      <td>15.906003</td>\n",
              "      <td>51.0</td>\n",
              "      <td>40</td>\n",
              "      <td>5.0</td>\n",
              "      <td>2.0</td>\n",
              "      <td>0</td>\n",
              "      <td>1</td>\n",
              "      <td>5</td>\n",
              "      <td>1</td>\n",
              "      <td>1</td>\n",
              "      <td>1</td>\n",
              "      <td>114.763392</td>\n",
              "      <td>0</td>\n",
              "    </tr>\n",
              "    <tr>\n",
              "      <th>19824</th>\n",
              "      <td>40</td>\n",
              "      <td>15769</td>\n",
              "      <td>Treatment</td>\n",
              "      <td>Promotion</td>\n",
              "      <td>Not eligible</td>\n",
              "      <td>Not enrolled</td>\n",
              "      <td>0</td>\n",
              "      <td>62.055641</td>\n",
              "      <td>After</td>\n",
              "      <td>8.248152</td>\n",
              "      <td>52.0</td>\n",
              "      <td>41</td>\n",
              "      <td>5.0</td>\n",
              "      <td>2.0</td>\n",
              "      <td>0</td>\n",
              "      <td>1</td>\n",
              "      <td>5</td>\n",
              "      <td>1</td>\n",
              "      <td>1</td>\n",
              "      <td>1</td>\n",
              "      <td>114.763392</td>\n",
              "      <td>0</td>\n",
              "    </tr>\n",
              "    <tr>\n",
              "      <th>19825</th>\n",
              "      <td>40</td>\n",
              "      <td>15778</td>\n",
              "      <td>Treatment</td>\n",
              "      <td>Promotion</td>\n",
              "      <td>Not eligible</td>\n",
              "      <td>Not enrolled</td>\n",
              "      <td>0</td>\n",
              "      <td>62.828438</td>\n",
              "      <td>Before</td>\n",
              "      <td>8.737772</td>\n",
              "      <td>58.0</td>\n",
              "      <td>49</td>\n",
              "      <td>3.0</td>\n",
              "      <td>0.0</td>\n",
              "      <td>0</td>\n",
              "      <td>1</td>\n",
              "      <td>9</td>\n",
              "      <td>1</td>\n",
              "      <td>1</td>\n",
              "      <td>4</td>\n",
              "      <td>114.763392</td>\n",
              "      <td>0</td>\n",
              "    </tr>\n",
              "    <tr>\n",
              "      <th>19826</th>\n",
              "      <td>40</td>\n",
              "      <td>15778</td>\n",
              "      <td>Treatment</td>\n",
              "      <td>Promotion</td>\n",
              "      <td>Not eligible</td>\n",
              "      <td>Not enrolled</td>\n",
              "      <td>0</td>\n",
              "      <td>62.828438</td>\n",
              "      <td>After</td>\n",
              "      <td>10.366098</td>\n",
              "      <td>59.0</td>\n",
              "      <td>50</td>\n",
              "      <td>3.0</td>\n",
              "      <td>0.0</td>\n",
              "      <td>0</td>\n",
              "      <td>1</td>\n",
              "      <td>9</td>\n",
              "      <td>1</td>\n",
              "      <td>1</td>\n",
              "      <td>4</td>\n",
              "      <td>114.763392</td>\n",
              "      <td>0</td>\n",
              "    </tr>\n",
              "  </tbody>\n",
              "</table>\n",
              "<p>19827 rows × 22 columns</p>\n",
              "</div>\n",
              "      <button class=\"colab-df-convert\" onclick=\"convertToInteractive('df-4d2b41bd-c722-49ae-a606-caecfde91548')\"\n",
              "              title=\"Convert this dataframe to an interactive table.\"\n",
              "              style=\"display:none;\">\n",
              "        \n",
              "  <svg xmlns=\"http://www.w3.org/2000/svg\" height=\"24px\"viewBox=\"0 0 24 24\"\n",
              "       width=\"24px\">\n",
              "    <path d=\"M0 0h24v24H0V0z\" fill=\"none\"/>\n",
              "    <path d=\"M18.56 5.44l.94 2.06.94-2.06 2.06-.94-2.06-.94-.94-2.06-.94 2.06-2.06.94zm-11 1L8.5 8.5l.94-2.06 2.06-.94-2.06-.94L8.5 2.5l-.94 2.06-2.06.94zm10 10l.94 2.06.94-2.06 2.06-.94-2.06-.94-.94-2.06-.94 2.06-2.06.94z\"/><path d=\"M17.41 7.96l-1.37-1.37c-.4-.4-.92-.59-1.43-.59-.52 0-1.04.2-1.43.59L10.3 9.45l-7.72 7.72c-.78.78-.78 2.05 0 2.83L4 21.41c.39.39.9.59 1.41.59.51 0 1.02-.2 1.41-.59l7.78-7.78 2.81-2.81c.8-.78.8-2.07 0-2.86zM5.41 20L4 18.59l7.72-7.72 1.47 1.35L5.41 20z\"/>\n",
              "  </svg>\n",
              "      </button>\n",
              "      \n",
              "  <style>\n",
              "    .colab-df-container {\n",
              "      display:flex;\n",
              "      flex-wrap:wrap;\n",
              "      gap: 12px;\n",
              "    }\n",
              "\n",
              "    .colab-df-convert {\n",
              "      background-color: #E8F0FE;\n",
              "      border: none;\n",
              "      border-radius: 50%;\n",
              "      cursor: pointer;\n",
              "      display: none;\n",
              "      fill: #1967D2;\n",
              "      height: 32px;\n",
              "      padding: 0 0 0 0;\n",
              "      width: 32px;\n",
              "    }\n",
              "\n",
              "    .colab-df-convert:hover {\n",
              "      background-color: #E2EBFA;\n",
              "      box-shadow: 0px 1px 2px rgba(60, 64, 67, 0.3), 0px 1px 3px 1px rgba(60, 64, 67, 0.15);\n",
              "      fill: #174EA6;\n",
              "    }\n",
              "\n",
              "    [theme=dark] .colab-df-convert {\n",
              "      background-color: #3B4455;\n",
              "      fill: #D2E3FC;\n",
              "    }\n",
              "\n",
              "    [theme=dark] .colab-df-convert:hover {\n",
              "      background-color: #434B5C;\n",
              "      box-shadow: 0px 1px 3px 1px rgba(0, 0, 0, 0.15);\n",
              "      filter: drop-shadow(0px 1px 2px rgba(0, 0, 0, 0.3));\n",
              "      fill: #FFFFFF;\n",
              "    }\n",
              "  </style>\n",
              "\n",
              "      <script>\n",
              "        const buttonEl =\n",
              "          document.querySelector('#df-4d2b41bd-c722-49ae-a606-caecfde91548 button.colab-df-convert');\n",
              "        buttonEl.style.display =\n",
              "          google.colab.kernel.accessAllowed ? 'block' : 'none';\n",
              "\n",
              "        async function convertToInteractive(key) {\n",
              "          const element = document.querySelector('#df-4d2b41bd-c722-49ae-a606-caecfde91548');\n",
              "          const dataTable =\n",
              "            await google.colab.kernel.invokeFunction('convertToInteractive',\n",
              "                                                     [key], {});\n",
              "          if (!dataTable) return;\n",
              "\n",
              "          const docLinkHtml = 'Like what you see? Visit the ' +\n",
              "            '<a target=\"_blank\" href=https://colab.research.google.com/notebooks/data_table.ipynb>data table notebook</a>'\n",
              "            + ' to learn more about interactive tables.';\n",
              "          element.innerHTML = '';\n",
              "          dataTable['output_type'] = 'display_data';\n",
              "          await google.colab.output.renderOutput(dataTable, element);\n",
              "          const docLink = document.createElement('div');\n",
              "          docLink.innerHTML = docLinkHtml;\n",
              "          element.appendChild(docLink);\n",
              "        }\n",
              "      </script>\n",
              "    </div>\n",
              "  </div>\n",
              "  "
            ],
            "text/plain": [
              "       locality_identifier  ...  enrolled_num\n",
              "0                       26  ...             1\n",
              "1                       26  ...             1\n",
              "2                       26  ...             1\n",
              "3                       26  ...             1\n",
              "4                       26  ...             1\n",
              "...                    ...  ...           ...\n",
              "19822                   35  ...             0\n",
              "19823                   40  ...             0\n",
              "19824                   40  ...             0\n",
              "19825                   40  ...             0\n",
              "19826                   40  ...             0\n",
              "\n",
              "[19827 rows x 22 columns]"
            ]
          },
          "execution_count": 76,
          "metadata": {},
          "output_type": "execute_result"
        }
      ],
      "source": [
        "# Display of the Dataframe with the original data\n",
        "original_data_set"
      ]
    },
    {
      "cell_type": "markdown",
      "metadata": {
        "id": "mzFIVoSrNR7T"
      },
      "source": [
        "### Variables meaning"
      ]
    },
    {
      "cell_type": "markdown",
      "metadata": {
        "id": "A4GdiZ9sDQVH"
      },
      "source": [
        "<p>The dataset includes a number of important variables you’ll use throughout this assignment:</p>\n",
        "<table class=\"table table-condensed\">\n",
        "<colgroup>\n",
        "<col width=\"24%\">\n",
        "<col width=\"75%\">\n",
        "</colgroup>\n",
        "<thead>\n",
        "<tr class=\"header\">\n",
        "<th>Variable name</th>\n",
        "<th>Description</th>\n",
        "</tr>\n",
        "</thead>\n",
        "<tbody>\n",
        "<tr class=\"odd\">\n",
        "<td><code>health_expenditures</code></td>\n",
        "<td>Out of pocket health expenditures (per person per year)</td>\n",
        "</tr>\n",
        "<tr class=\"even\">\n",
        "<td><code>eligible</code></td>\n",
        "<td>Household eligible to enroll in HISP</td>\n",
        "</tr>\n",
        "<tr class=\"odd\">\n",
        "<td><code>enrolled</code></td>\n",
        "<td>Household enrolled in HISP</td>\n",
        "</tr>\n",
        "<tr class=\"even\">\n",
        "<td><code>round</code></td>\n",
        "<td>Indicator for before and after intervention</td>\n",
        "</tr>\n",
        "<tr class=\"odd\">\n",
        "<td><code>treatment_locality</code></td>\n",
        "<td>Household is located in treatment community</td>\n",
        "</tr>\n",
        "<tr class=\"even\">\n",
        "<td><code>poverty_index</code></td>\n",
        "<td>1-100 scale of poverty</td>\n",
        "</tr>\n",
        "<tr class=\"odd\">\n",
        "<td><code>promotion_locality</code></td>\n",
        "<td>Household is located in community that received random promotion</td>\n",
        "</tr>\n",
        "<tr class=\"even\">\n",
        "<td><code>enrolled_rp</code></td>\n",
        "<td>Household enrolled in HISP following random promotion</td>\n",
        "</tr>\n",
        "</tbody>\n",
        "</table>\n",
        "<p>It also includes several demographic variables about the households. <strong>Each of these are backdoor confounders between health expenditures participation in the HISP</strong>:</p>\n",
        "<table class=\"table table-condensed\">\n",
        "<thead>\n",
        "<tr class=\"header\">\n",
        "<th>Variable name</th>\n",
        "<th>Description</th>\n",
        "</tr>\n",
        "</thead>\n",
        "<tbody>\n",
        "<tr class=\"odd\">\n",
        "<td><code>age_hh</code></td>\n",
        "<td>Age of the head of household (years)</td>\n",
        "</tr>\n",
        "<tr class=\"even\">\n",
        "<td><code>age_sp</code></td>\n",
        "<td>Age of the spouse (years)</td>\n",
        "</tr>\n",
        "<tr class=\"odd\">\n",
        "<td><code>educ_hh</code></td>\n",
        "<td>Education of the head of household (years)</td>\n",
        "</tr>\n",
        "<tr class=\"even\">\n",
        "<td><code>educ_sp</code></td>\n",
        "<td>Education of the spouse (years)</td>\n",
        "</tr>\n",
        "<tr class=\"odd\">\n",
        "<td><code>female_hh</code></td>\n",
        "<td>Head of household is a woman (1 = yes)</td>\n",
        "</tr>\n",
        "<tr class=\"even\">\n",
        "<td><code>indigenous</code></td>\n",
        "<td>Head of household speaks an indigenous language (1 = yes)</td>\n",
        "</tr>\n",
        "<tr class=\"odd\">\n",
        "<td><code>hhsize</code></td>\n",
        "<td>Number of household members</td>\n",
        "</tr>\n",
        "<tr class=\"even\">\n",
        "<td><code>dirtfloor</code></td>\n",
        "<td>Home has a dirt floor (1 = yes)</td>\n",
        "</tr>\n",
        "<tr class=\"odd\">\n",
        "<td><code>bathroom</code></td>\n",
        "<td>Home has a private bathroom (1 = yes)</td>\n",
        "</tr>\n",
        "<tr class=\"even\">\n",
        "<td><code>land</code></td>\n",
        "<td>Number of hectares of land owned by household</td>\n",
        "</tr>\n",
        "<tr class=\"odd\">\n",
        "<td><code>hospital_distance</code></td>\n",
        "<td>Distance to closest hospital (km)</td>\n",
        "</tr>\n",
        "</tbody>\n",
        "</table>"
      ]
    },
    {
      "cell_type": "markdown",
      "metadata": {
        "id": "K1LW2S0w26LQ"
      },
      "source": [
        "## Data cleaning"
      ]
    },
    {
      "cell_type": "code",
      "execution_count": null,
      "metadata": {
        "id": "LiAlt_u75WVr"
      },
      "outputs": [],
      "source": [
        "df = original_data_set.copy()"
      ]
    },
    {
      "cell_type": "markdown",
      "metadata": {
        "id": "PsxTfspJ3Ahx"
      },
      "source": [
        "### General information on the dataframe\n",
        "\n",
        "Use the function `.info()` to get information regarding each column of the dataframe. Thus, we can now focus on the column which need to be patched (mostly the column with an , such as `treatment_locality`."
      ]
    },
    {
      "cell_type": "code",
      "execution_count": null,
      "metadata": {
        "colab": {
          "base_uri": "https://localhost:8080/"
        },
        "id": "USd0B3yn0MIs",
        "outputId": "12bf3edb-dcc9-4001-a192-b7c754a49235"
      },
      "outputs": [
        {
          "name": "stdout",
          "output_type": "stream",
          "text": [
            "<class 'pandas.core.frame.DataFrame'>\n",
            "RangeIndex: 19827 entries, 0 to 19826\n",
            "Data columns (total 22 columns):\n",
            " #   Column                Non-Null Count  Dtype  \n",
            "---  ------                --------------  -----  \n",
            " 0   locality_identifier   19827 non-null  int64  \n",
            " 1   household_identifier  19827 non-null  int64  \n",
            " 2   treatment_locality    19827 non-null  object \n",
            " 3   promotion_locality    19827 non-null  object \n",
            " 4   eligible              19827 non-null  object \n",
            " 5   enrolled              19827 non-null  object \n",
            " 6   enrolled_rp           19827 non-null  int64  \n",
            " 7   poverty_index         19827 non-null  float64\n",
            " 8   round                 19827 non-null  object \n",
            " 9   health_expenditures   19827 non-null  float64\n",
            " 10  age_hh                19827 non-null  float64\n",
            " 11  age_sp                19827 non-null  int64  \n",
            " 12  educ_hh               19827 non-null  float64\n",
            " 13  educ_sp               19827 non-null  float64\n",
            " 14  female_hh             19827 non-null  int64  \n",
            " 15  indigenous            19827 non-null  int64  \n",
            " 16  hhsize                19827 non-null  int64  \n",
            " 17  dirtfloor             19827 non-null  int64  \n",
            " 18  bathroom              19827 non-null  int64  \n",
            " 19  land                  19827 non-null  int64  \n",
            " 20  hospital_distance     19827 non-null  float64\n",
            " 21  enrolled_num          19827 non-null  int64  \n",
            "dtypes: float64(6), int64(11), object(5)\n",
            "memory usage: 3.3+ MB\n"
          ]
        }
      ],
      "source": [
        "# Get column info\n",
        "df.info()"
      ]
    },
    {
      "cell_type": "markdown",
      "metadata": {
        "id": "5AmT_cIBRt64"
      },
      "source": [
        "### Delete double"
      ]
    },
    {
      "cell_type": "markdown",
      "metadata": {
        "id": "Xo0UgHDWRw6y"
      },
      "source": [
        "#### enrolled_num"
      ]
    },
    {
      "cell_type": "markdown",
      "metadata": {
        "id": "qmq8SC-NR0S4"
      },
      "source": [
        "It seems that `enrolled_num`is a simple duplica of `enrolled`. Let's check if it is true. If it is, we delete `enrolled_num`."
      ]
    },
    {
      "cell_type": "code",
      "execution_count": null,
      "metadata": {
        "colab": {
          "base_uri": "https://localhost:8080/"
        },
        "id": "rVdRILH3RveX",
        "outputId": "18dc3207-10a7-42e4-b6b6-d4ab52f3301c"
      },
      "outputs": [
        {
          "data": {
            "text/plain": [
              "True"
            ]
          },
          "execution_count": 79,
          "metadata": {},
          "output_type": "execute_result"
        }
      ],
      "source": [
        "# Check if the two column are indeed the same\n",
        "df.enrolled.replace({\"Enrolled\":1, \"Not enrolled\":0}).equals(df.enrolled_num)"
      ]
    },
    {
      "cell_type": "markdown",
      "metadata": {
        "id": "Kr8gs-_HTTyN"
      },
      "source": [
        "The two column seems indeed to be the same (`.equals()` returns `True`). We can delete the `enrolled_num` column, using the `.drop()` method from *Pandas*."
      ]
    },
    {
      "cell_type": "code",
      "execution_count": null,
      "metadata": {
        "id": "P4eifyyiTozS"
      },
      "outputs": [],
      "source": [
        "# We delete the column named 'enrolled_num'\n",
        "df = df.drop(columns=[\"enrolled_num\"])"
      ]
    },
    {
      "cell_type": "markdown",
      "metadata": {
        "id": "7iqOjtH--3Fh"
      },
      "source": [
        "### Adjustement of DType"
      ]
    },
    {
      "cell_type": "code",
      "execution_count": null,
      "metadata": {
        "id": "Bzer_Kac-2V_"
      },
      "outputs": [],
      "source": [
        "# Change Dtype of the necessarty column\n",
        "df.treatment_locality = df.treatment_locality.astype('category')\n",
        "df.promotion_locality = df.promotion_locality.astype('category')\n",
        "df.eligible = df.eligible.astype('category')\n",
        "df.enrolled = df.enrolled.astype('category')\n",
        "df['round'] = df['round'].astype('category')"
      ]
    },
    {
      "cell_type": "code",
      "execution_count": null,
      "metadata": {
        "colab": {
          "base_uri": "https://localhost:8080/"
        },
        "id": "E-U3GxWZAAvJ",
        "outputId": "9e685c94-2910-4d33-a674-a101ae27d78d"
      },
      "outputs": [
        {
          "name": "stdout",
          "output_type": "stream",
          "text": [
            "<class 'pandas.core.frame.DataFrame'>\n",
            "RangeIndex: 19827 entries, 0 to 19826\n",
            "Data columns (total 21 columns):\n",
            " #   Column                Non-Null Count  Dtype   \n",
            "---  ------                --------------  -----   \n",
            " 0   locality_identifier   19827 non-null  int64   \n",
            " 1   household_identifier  19827 non-null  int64   \n",
            " 2   treatment_locality    19827 non-null  category\n",
            " 3   promotion_locality    19827 non-null  category\n",
            " 4   eligible              19827 non-null  category\n",
            " 5   enrolled              19827 non-null  category\n",
            " 6   enrolled_rp           19827 non-null  int64   \n",
            " 7   poverty_index         19827 non-null  float64 \n",
            " 8   round                 19827 non-null  category\n",
            " 9   health_expenditures   19827 non-null  float64 \n",
            " 10  age_hh                19827 non-null  float64 \n",
            " 11  age_sp                19827 non-null  int64   \n",
            " 12  educ_hh               19827 non-null  float64 \n",
            " 13  educ_sp               19827 non-null  float64 \n",
            " 14  female_hh             19827 non-null  int64   \n",
            " 15  indigenous            19827 non-null  int64   \n",
            " 16  hhsize                19827 non-null  int64   \n",
            " 17  dirtfloor             19827 non-null  int64   \n",
            " 18  bathroom              19827 non-null  int64   \n",
            " 19  land                  19827 non-null  int64   \n",
            " 20  hospital_distance     19827 non-null  float64 \n",
            "dtypes: category(5), float64(6), int64(10)\n",
            "memory usage: 2.5 MB\n"
          ]
        }
      ],
      "source": [
        "# Check that all Dtype has been changed to the correct values\n",
        "df.info()"
      ]
    },
    {
      "cell_type": "markdown",
      "metadata": {
        "id": "9lN4_Nk1H-22"
      },
      "source": [
        "### Encoding of the non numerical variables"
      ]
    },
    {
      "cell_type": "code",
      "execution_count": null,
      "metadata": {
        "id": "yRoVhLr8IE6e"
      },
      "outputs": [],
      "source": [
        "# Create a copy of the main dataframe so we can work on it without worrying it might impact our data.\n",
        "encoded_df = df.copy()"
      ]
    },
    {
      "cell_type": "markdown",
      "metadata": {
        "id": "D8CdmQpLSg-P"
      },
      "source": [
        "Non numerical variables need to be encoded into numerical one, so it can be interpreted correctly during the following steps.\n",
        "\n",
        "To do so, we transform categorical data into number. For example, the column `treatment_locality` which countains two uniques values : `Control`& `Treatment` ; can be transformed into one column `Control`with value 0 or 1. If the value is 0, then it correspond to `Treatment` if it is 1, then it is `Control`."
      ]
    },
    {
      "cell_type": "markdown",
      "metadata": {
        "id": "WgGQ3VjFJmPD"
      },
      "source": [
        "##### treatment_locality"
      ]
    },
    {
      "cell_type": "code",
      "execution_count": null,
      "metadata": {
        "id": "-hInygSiIWud"
      },
      "outputs": [],
      "source": [
        "encoded_df.treatment_locality = pd.get_dummies(encoded_df.treatment_locality).Control"
      ]
    },
    {
      "cell_type": "code",
      "execution_count": null,
      "metadata": {
        "colab": {
          "base_uri": "https://localhost:8080/"
        },
        "id": "ukM2IZdCU87I",
        "outputId": "7cecd148-6c7f-4e4d-cde8-cc3fc38fce17"
      },
      "outputs": [
        {
          "data": {
            "text/plain": [
              "0        0\n",
              "1        0\n",
              "2        0\n",
              "3        0\n",
              "4        0\n",
              "        ..\n",
              "19822    1\n",
              "19823    0\n",
              "19824    0\n",
              "19825    0\n",
              "19826    0\n",
              "Name: treatment_locality, Length: 19827, dtype: uint8"
            ]
          },
          "execution_count": 85,
          "metadata": {},
          "output_type": "execute_result"
        }
      ],
      "source": [
        "encoded_df.treatment_locality"
      ]
    },
    {
      "cell_type": "markdown",
      "metadata": {
        "id": "VmdCOYUSJpfH"
      },
      "source": [
        "##### promotion_locality"
      ]
    },
    {
      "cell_type": "code",
      "execution_count": null,
      "metadata": {
        "id": "kzy4t12yJsEM"
      },
      "outputs": [],
      "source": [
        "encoded_df.promotion_locality = pd.get_dummies(encoded_df.promotion_locality).Promotion"
      ]
    },
    {
      "cell_type": "code",
      "execution_count": null,
      "metadata": {
        "colab": {
          "base_uri": "https://localhost:8080/"
        },
        "id": "_u2nbXigVVac",
        "outputId": "acede7cb-e8d4-44b8-c446-7647a8c3d7fb"
      },
      "outputs": [
        {
          "data": {
            "text/plain": [
              "0        1\n",
              "1        1\n",
              "2        1\n",
              "3        1\n",
              "4        1\n",
              "        ..\n",
              "19822    0\n",
              "19823    1\n",
              "19824    1\n",
              "19825    1\n",
              "19826    1\n",
              "Name: promotion_locality, Length: 19827, dtype: uint8"
            ]
          },
          "execution_count": 87,
          "metadata": {},
          "output_type": "execute_result"
        }
      ],
      "source": [
        "encoded_df.promotion_locality"
      ]
    },
    {
      "cell_type": "markdown",
      "metadata": {
        "id": "pbAgrznIJsZM"
      },
      "source": [
        "##### eligible"
      ]
    },
    {
      "cell_type": "code",
      "execution_count": null,
      "metadata": {
        "id": "F0wGY-IRJty_"
      },
      "outputs": [],
      "source": [
        "encoded_df.eligible = pd.get_dummies(encoded_df.eligible).Eligible"
      ]
    },
    {
      "cell_type": "code",
      "execution_count": null,
      "metadata": {
        "colab": {
          "base_uri": "https://localhost:8080/"
        },
        "id": "yD5Uk7CEVjx6",
        "outputId": "290b0b7c-4f89-4288-a489-7f9b21ad3127"
      },
      "outputs": [
        {
          "data": {
            "text/plain": [
              "0        1\n",
              "1        1\n",
              "2        1\n",
              "3        1\n",
              "4        1\n",
              "        ..\n",
              "19822    0\n",
              "19823    0\n",
              "19824    0\n",
              "19825    0\n",
              "19826    0\n",
              "Name: eligible, Length: 19827, dtype: uint8"
            ]
          },
          "execution_count": 89,
          "metadata": {},
          "output_type": "execute_result"
        }
      ],
      "source": [
        "encoded_df.eligible"
      ]
    },
    {
      "cell_type": "markdown",
      "metadata": {
        "id": "Q4H0Jm7eJuWL"
      },
      "source": [
        "##### enrolled"
      ]
    },
    {
      "cell_type": "code",
      "execution_count": null,
      "metadata": {
        "id": "fukQKy2tJv1Z"
      },
      "outputs": [],
      "source": [
        "encoded_df.enrolled = pd.get_dummies(encoded_df.enrolled).Enrolled"
      ]
    },
    {
      "cell_type": "code",
      "execution_count": null,
      "metadata": {
        "colab": {
          "base_uri": "https://localhost:8080/"
        },
        "id": "iZVOxS5eVtun",
        "outputId": "dfc79fe1-4450-4a82-a421-4b68069eb5a7"
      },
      "outputs": [
        {
          "data": {
            "text/plain": [
              "0        1\n",
              "1        1\n",
              "2        1\n",
              "3        1\n",
              "4        1\n",
              "        ..\n",
              "19822    0\n",
              "19823    0\n",
              "19824    0\n",
              "19825    0\n",
              "19826    0\n",
              "Name: enrolled, Length: 19827, dtype: uint8"
            ]
          },
          "execution_count": 91,
          "metadata": {},
          "output_type": "execute_result"
        }
      ],
      "source": [
        "encoded_df.enrolled"
      ]
    },
    {
      "cell_type": "markdown",
      "metadata": {
        "id": "bLxDWccWJwOv"
      },
      "source": [
        "##### round"
      ]
    },
    {
      "cell_type": "code",
      "execution_count": null,
      "metadata": {
        "id": "kZOd3GN3J57l"
      },
      "outputs": [],
      "source": [
        "encoded_df['round'] = pd.get_dummies(encoded_df['round'])['After']"
      ]
    },
    {
      "cell_type": "code",
      "execution_count": null,
      "metadata": {
        "colab": {
          "base_uri": "https://localhost:8080/"
        },
        "id": "_hWPzdxQV5jQ",
        "outputId": "baf683cd-9e31-4345-990c-894cedd67364"
      },
      "outputs": [
        {
          "data": {
            "text/plain": [
              "0        0\n",
              "1        1\n",
              "2        0\n",
              "3        1\n",
              "4        1\n",
              "        ..\n",
              "19822    0\n",
              "19823    0\n",
              "19824    1\n",
              "19825    0\n",
              "19826    1\n",
              "Name: round, Length: 19827, dtype: uint8"
            ]
          },
          "execution_count": 93,
          "metadata": {},
          "output_type": "execute_result"
        }
      ],
      "source": [
        "encoded_df['round']"
      ]
    },
    {
      "cell_type": "markdown",
      "metadata": {
        "id": "CLNupEonV7Jm"
      },
      "source": [
        "##### Check"
      ]
    },
    {
      "cell_type": "code",
      "execution_count": null,
      "metadata": {
        "colab": {
          "base_uri": "https://localhost:8080/"
        },
        "id": "SnTVUHyQV9hD",
        "outputId": "9eaf2e6f-0f93-4f2c-ddcd-ef22857cd5b8"
      },
      "outputs": [
        {
          "data": {
            "text/html": [
              "\n",
              "  <div id=\"df-d654ca03-9276-474c-8725-51fcc52c84f2\">\n",
              "    <div class=\"colab-df-container\">\n",
              "      <div>\n",
              "<style scoped>\n",
              "    .dataframe tbody tr th:only-of-type {\n",
              "        vertical-align: middle;\n",
              "    }\n",
              "\n",
              "    .dataframe tbody tr th {\n",
              "        vertical-align: top;\n",
              "    }\n",
              "\n",
              "    .dataframe thead th {\n",
              "        text-align: right;\n",
              "    }\n",
              "</style>\n",
              "<table border=\"1\" class=\"dataframe\">\n",
              "  <thead>\n",
              "    <tr style=\"text-align: right;\">\n",
              "      <th></th>\n",
              "      <th>locality_identifier</th>\n",
              "      <th>household_identifier</th>\n",
              "      <th>treatment_locality</th>\n",
              "      <th>promotion_locality</th>\n",
              "      <th>eligible</th>\n",
              "      <th>enrolled</th>\n",
              "      <th>enrolled_rp</th>\n",
              "      <th>poverty_index</th>\n",
              "      <th>round</th>\n",
              "      <th>health_expenditures</th>\n",
              "      <th>age_hh</th>\n",
              "      <th>age_sp</th>\n",
              "      <th>educ_hh</th>\n",
              "      <th>educ_sp</th>\n",
              "      <th>female_hh</th>\n",
              "      <th>indigenous</th>\n",
              "      <th>hhsize</th>\n",
              "      <th>dirtfloor</th>\n",
              "      <th>bathroom</th>\n",
              "      <th>land</th>\n",
              "      <th>hospital_distance</th>\n",
              "    </tr>\n",
              "  </thead>\n",
              "  <tbody>\n",
              "    <tr>\n",
              "      <th>0</th>\n",
              "      <td>26</td>\n",
              "      <td>5</td>\n",
              "      <td>0</td>\n",
              "      <td>1</td>\n",
              "      <td>1</td>\n",
              "      <td>1</td>\n",
              "      <td>1</td>\n",
              "      <td>55.950542</td>\n",
              "      <td>0</td>\n",
              "      <td>15.185455</td>\n",
              "      <td>24.0</td>\n",
              "      <td>23</td>\n",
              "      <td>0.0</td>\n",
              "      <td>6.0</td>\n",
              "      <td>0</td>\n",
              "      <td>0</td>\n",
              "      <td>4</td>\n",
              "      <td>1</td>\n",
              "      <td>0</td>\n",
              "      <td>1</td>\n",
              "      <td>124.819966</td>\n",
              "    </tr>\n",
              "    <tr>\n",
              "      <th>1</th>\n",
              "      <td>26</td>\n",
              "      <td>5</td>\n",
              "      <td>0</td>\n",
              "      <td>1</td>\n",
              "      <td>1</td>\n",
              "      <td>1</td>\n",
              "      <td>1</td>\n",
              "      <td>55.950542</td>\n",
              "      <td>1</td>\n",
              "      <td>19.580902</td>\n",
              "      <td>25.0</td>\n",
              "      <td>24</td>\n",
              "      <td>0.0</td>\n",
              "      <td>6.0</td>\n",
              "      <td>0</td>\n",
              "      <td>0</td>\n",
              "      <td>4</td>\n",
              "      <td>1</td>\n",
              "      <td>0</td>\n",
              "      <td>1</td>\n",
              "      <td>124.819966</td>\n",
              "    </tr>\n",
              "    <tr>\n",
              "      <th>2</th>\n",
              "      <td>26</td>\n",
              "      <td>11</td>\n",
              "      <td>0</td>\n",
              "      <td>1</td>\n",
              "      <td>1</td>\n",
              "      <td>1</td>\n",
              "      <td>0</td>\n",
              "      <td>46.058731</td>\n",
              "      <td>0</td>\n",
              "      <td>13.076257</td>\n",
              "      <td>30.0</td>\n",
              "      <td>26</td>\n",
              "      <td>4.0</td>\n",
              "      <td>0.0</td>\n",
              "      <td>0</td>\n",
              "      <td>0</td>\n",
              "      <td>6</td>\n",
              "      <td>1</td>\n",
              "      <td>0</td>\n",
              "      <td>2</td>\n",
              "      <td>124.819966</td>\n",
              "    </tr>\n",
              "    <tr>\n",
              "      <th>3</th>\n",
              "      <td>26</td>\n",
              "      <td>11</td>\n",
              "      <td>0</td>\n",
              "      <td>1</td>\n",
              "      <td>1</td>\n",
              "      <td>1</td>\n",
              "      <td>0</td>\n",
              "      <td>46.058731</td>\n",
              "      <td>1</td>\n",
              "      <td>2.398854</td>\n",
              "      <td>31.0</td>\n",
              "      <td>27</td>\n",
              "      <td>4.0</td>\n",
              "      <td>0.0</td>\n",
              "      <td>0</td>\n",
              "      <td>0</td>\n",
              "      <td>6</td>\n",
              "      <td>1</td>\n",
              "      <td>0</td>\n",
              "      <td>2</td>\n",
              "      <td>124.819966</td>\n",
              "    </tr>\n",
              "    <tr>\n",
              "      <th>4</th>\n",
              "      <td>26</td>\n",
              "      <td>13</td>\n",
              "      <td>0</td>\n",
              "      <td>1</td>\n",
              "      <td>1</td>\n",
              "      <td>1</td>\n",
              "      <td>0</td>\n",
              "      <td>54.095825</td>\n",
              "      <td>1</td>\n",
              "      <td>0.000000</td>\n",
              "      <td>59.0</td>\n",
              "      <td>57</td>\n",
              "      <td>0.0</td>\n",
              "      <td>0.0</td>\n",
              "      <td>0</td>\n",
              "      <td>0</td>\n",
              "      <td>6</td>\n",
              "      <td>1</td>\n",
              "      <td>0</td>\n",
              "      <td>4</td>\n",
              "      <td>124.819966</td>\n",
              "    </tr>\n",
              "    <tr>\n",
              "      <th>...</th>\n",
              "      <td>...</td>\n",
              "      <td>...</td>\n",
              "      <td>...</td>\n",
              "      <td>...</td>\n",
              "      <td>...</td>\n",
              "      <td>...</td>\n",
              "      <td>...</td>\n",
              "      <td>...</td>\n",
              "      <td>...</td>\n",
              "      <td>...</td>\n",
              "      <td>...</td>\n",
              "      <td>...</td>\n",
              "      <td>...</td>\n",
              "      <td>...</td>\n",
              "      <td>...</td>\n",
              "      <td>...</td>\n",
              "      <td>...</td>\n",
              "      <td>...</td>\n",
              "      <td>...</td>\n",
              "      <td>...</td>\n",
              "      <td>...</td>\n",
              "    </tr>\n",
              "    <tr>\n",
              "      <th>19822</th>\n",
              "      <td>35</td>\n",
              "      <td>15738</td>\n",
              "      <td>1</td>\n",
              "      <td>0</td>\n",
              "      <td>0</td>\n",
              "      <td>0</td>\n",
              "      <td>0</td>\n",
              "      <td>59.737247</td>\n",
              "      <td>0</td>\n",
              "      <td>16.811539</td>\n",
              "      <td>52.0</td>\n",
              "      <td>41</td>\n",
              "      <td>0.0</td>\n",
              "      <td>2.0</td>\n",
              "      <td>0</td>\n",
              "      <td>1</td>\n",
              "      <td>7</td>\n",
              "      <td>0</td>\n",
              "      <td>1</td>\n",
              "      <td>2</td>\n",
              "      <td>162.748811</td>\n",
              "    </tr>\n",
              "    <tr>\n",
              "      <th>19823</th>\n",
              "      <td>40</td>\n",
              "      <td>15769</td>\n",
              "      <td>0</td>\n",
              "      <td>1</td>\n",
              "      <td>0</td>\n",
              "      <td>0</td>\n",
              "      <td>0</td>\n",
              "      <td>62.055641</td>\n",
              "      <td>0</td>\n",
              "      <td>15.906003</td>\n",
              "      <td>51.0</td>\n",
              "      <td>40</td>\n",
              "      <td>5.0</td>\n",
              "      <td>2.0</td>\n",
              "      <td>0</td>\n",
              "      <td>1</td>\n",
              "      <td>5</td>\n",
              "      <td>1</td>\n",
              "      <td>1</td>\n",
              "      <td>1</td>\n",
              "      <td>114.763392</td>\n",
              "    </tr>\n",
              "    <tr>\n",
              "      <th>19824</th>\n",
              "      <td>40</td>\n",
              "      <td>15769</td>\n",
              "      <td>0</td>\n",
              "      <td>1</td>\n",
              "      <td>0</td>\n",
              "      <td>0</td>\n",
              "      <td>0</td>\n",
              "      <td>62.055641</td>\n",
              "      <td>1</td>\n",
              "      <td>8.248152</td>\n",
              "      <td>52.0</td>\n",
              "      <td>41</td>\n",
              "      <td>5.0</td>\n",
              "      <td>2.0</td>\n",
              "      <td>0</td>\n",
              "      <td>1</td>\n",
              "      <td>5</td>\n",
              "      <td>1</td>\n",
              "      <td>1</td>\n",
              "      <td>1</td>\n",
              "      <td>114.763392</td>\n",
              "    </tr>\n",
              "    <tr>\n",
              "      <th>19825</th>\n",
              "      <td>40</td>\n",
              "      <td>15778</td>\n",
              "      <td>0</td>\n",
              "      <td>1</td>\n",
              "      <td>0</td>\n",
              "      <td>0</td>\n",
              "      <td>0</td>\n",
              "      <td>62.828438</td>\n",
              "      <td>0</td>\n",
              "      <td>8.737772</td>\n",
              "      <td>58.0</td>\n",
              "      <td>49</td>\n",
              "      <td>3.0</td>\n",
              "      <td>0.0</td>\n",
              "      <td>0</td>\n",
              "      <td>1</td>\n",
              "      <td>9</td>\n",
              "      <td>1</td>\n",
              "      <td>1</td>\n",
              "      <td>4</td>\n",
              "      <td>114.763392</td>\n",
              "    </tr>\n",
              "    <tr>\n",
              "      <th>19826</th>\n",
              "      <td>40</td>\n",
              "      <td>15778</td>\n",
              "      <td>0</td>\n",
              "      <td>1</td>\n",
              "      <td>0</td>\n",
              "      <td>0</td>\n",
              "      <td>0</td>\n",
              "      <td>62.828438</td>\n",
              "      <td>1</td>\n",
              "      <td>10.366098</td>\n",
              "      <td>59.0</td>\n",
              "      <td>50</td>\n",
              "      <td>3.0</td>\n",
              "      <td>0.0</td>\n",
              "      <td>0</td>\n",
              "      <td>1</td>\n",
              "      <td>9</td>\n",
              "      <td>1</td>\n",
              "      <td>1</td>\n",
              "      <td>4</td>\n",
              "      <td>114.763392</td>\n",
              "    </tr>\n",
              "  </tbody>\n",
              "</table>\n",
              "<p>19827 rows × 21 columns</p>\n",
              "</div>\n",
              "      <button class=\"colab-df-convert\" onclick=\"convertToInteractive('df-d654ca03-9276-474c-8725-51fcc52c84f2')\"\n",
              "              title=\"Convert this dataframe to an interactive table.\"\n",
              "              style=\"display:none;\">\n",
              "        \n",
              "  <svg xmlns=\"http://www.w3.org/2000/svg\" height=\"24px\"viewBox=\"0 0 24 24\"\n",
              "       width=\"24px\">\n",
              "    <path d=\"M0 0h24v24H0V0z\" fill=\"none\"/>\n",
              "    <path d=\"M18.56 5.44l.94 2.06.94-2.06 2.06-.94-2.06-.94-.94-2.06-.94 2.06-2.06.94zm-11 1L8.5 8.5l.94-2.06 2.06-.94-2.06-.94L8.5 2.5l-.94 2.06-2.06.94zm10 10l.94 2.06.94-2.06 2.06-.94-2.06-.94-.94-2.06-.94 2.06-2.06.94z\"/><path d=\"M17.41 7.96l-1.37-1.37c-.4-.4-.92-.59-1.43-.59-.52 0-1.04.2-1.43.59L10.3 9.45l-7.72 7.72c-.78.78-.78 2.05 0 2.83L4 21.41c.39.39.9.59 1.41.59.51 0 1.02-.2 1.41-.59l7.78-7.78 2.81-2.81c.8-.78.8-2.07 0-2.86zM5.41 20L4 18.59l7.72-7.72 1.47 1.35L5.41 20z\"/>\n",
              "  </svg>\n",
              "      </button>\n",
              "      \n",
              "  <style>\n",
              "    .colab-df-container {\n",
              "      display:flex;\n",
              "      flex-wrap:wrap;\n",
              "      gap: 12px;\n",
              "    }\n",
              "\n",
              "    .colab-df-convert {\n",
              "      background-color: #E8F0FE;\n",
              "      border: none;\n",
              "      border-radius: 50%;\n",
              "      cursor: pointer;\n",
              "      display: none;\n",
              "      fill: #1967D2;\n",
              "      height: 32px;\n",
              "      padding: 0 0 0 0;\n",
              "      width: 32px;\n",
              "    }\n",
              "\n",
              "    .colab-df-convert:hover {\n",
              "      background-color: #E2EBFA;\n",
              "      box-shadow: 0px 1px 2px rgba(60, 64, 67, 0.3), 0px 1px 3px 1px rgba(60, 64, 67, 0.15);\n",
              "      fill: #174EA6;\n",
              "    }\n",
              "\n",
              "    [theme=dark] .colab-df-convert {\n",
              "      background-color: #3B4455;\n",
              "      fill: #D2E3FC;\n",
              "    }\n",
              "\n",
              "    [theme=dark] .colab-df-convert:hover {\n",
              "      background-color: #434B5C;\n",
              "      box-shadow: 0px 1px 3px 1px rgba(0, 0, 0, 0.15);\n",
              "      filter: drop-shadow(0px 1px 2px rgba(0, 0, 0, 0.3));\n",
              "      fill: #FFFFFF;\n",
              "    }\n",
              "  </style>\n",
              "\n",
              "      <script>\n",
              "        const buttonEl =\n",
              "          document.querySelector('#df-d654ca03-9276-474c-8725-51fcc52c84f2 button.colab-df-convert');\n",
              "        buttonEl.style.display =\n",
              "          google.colab.kernel.accessAllowed ? 'block' : 'none';\n",
              "\n",
              "        async function convertToInteractive(key) {\n",
              "          const element = document.querySelector('#df-d654ca03-9276-474c-8725-51fcc52c84f2');\n",
              "          const dataTable =\n",
              "            await google.colab.kernel.invokeFunction('convertToInteractive',\n",
              "                                                     [key], {});\n",
              "          if (!dataTable) return;\n",
              "\n",
              "          const docLinkHtml = 'Like what you see? Visit the ' +\n",
              "            '<a target=\"_blank\" href=https://colab.research.google.com/notebooks/data_table.ipynb>data table notebook</a>'\n",
              "            + ' to learn more about interactive tables.';\n",
              "          element.innerHTML = '';\n",
              "          dataTable['output_type'] = 'display_data';\n",
              "          await google.colab.output.renderOutput(dataTable, element);\n",
              "          const docLink = document.createElement('div');\n",
              "          docLink.innerHTML = docLinkHtml;\n",
              "          element.appendChild(docLink);\n",
              "        }\n",
              "      </script>\n",
              "    </div>\n",
              "  </div>\n",
              "  "
            ],
            "text/plain": [
              "       locality_identifier  household_identifier  ...  land  hospital_distance\n",
              "0                       26                     5  ...     1         124.819966\n",
              "1                       26                     5  ...     1         124.819966\n",
              "2                       26                    11  ...     2         124.819966\n",
              "3                       26                    11  ...     2         124.819966\n",
              "4                       26                    13  ...     4         124.819966\n",
              "...                    ...                   ...  ...   ...                ...\n",
              "19822                   35                 15738  ...     2         162.748811\n",
              "19823                   40                 15769  ...     1         114.763392\n",
              "19824                   40                 15769  ...     1         114.763392\n",
              "19825                   40                 15778  ...     4         114.763392\n",
              "19826                   40                 15778  ...     4         114.763392\n",
              "\n",
              "[19827 rows x 21 columns]"
            ]
          },
          "execution_count": 94,
          "metadata": {},
          "output_type": "execute_result"
        }
      ],
      "source": [
        "encoded_df"
      ]
    },
    {
      "cell_type": "code",
      "execution_count": null,
      "metadata": {
        "colab": {
          "base_uri": "https://localhost:8080/"
        },
        "id": "KFc7IRA-WAu-",
        "outputId": "8c349f16-ff31-40b8-8a08-3458923eeb55"
      },
      "outputs": [
        {
          "name": "stdout",
          "output_type": "stream",
          "text": [
            "<class 'pandas.core.frame.DataFrame'>\n",
            "RangeIndex: 19827 entries, 0 to 19826\n",
            "Data columns (total 21 columns):\n",
            " #   Column                Non-Null Count  Dtype  \n",
            "---  ------                --------------  -----  \n",
            " 0   locality_identifier   19827 non-null  int64  \n",
            " 1   household_identifier  19827 non-null  int64  \n",
            " 2   treatment_locality    19827 non-null  uint8  \n",
            " 3   promotion_locality    19827 non-null  uint8  \n",
            " 4   eligible              19827 non-null  uint8  \n",
            " 5   enrolled              19827 non-null  uint8  \n",
            " 6   enrolled_rp           19827 non-null  int64  \n",
            " 7   poverty_index         19827 non-null  float64\n",
            " 8   round                 19827 non-null  uint8  \n",
            " 9   health_expenditures   19827 non-null  float64\n",
            " 10  age_hh                19827 non-null  float64\n",
            " 11  age_sp                19827 non-null  int64  \n",
            " 12  educ_hh               19827 non-null  float64\n",
            " 13  educ_sp               19827 non-null  float64\n",
            " 14  female_hh             19827 non-null  int64  \n",
            " 15  indigenous            19827 non-null  int64  \n",
            " 16  hhsize                19827 non-null  int64  \n",
            " 17  dirtfloor             19827 non-null  int64  \n",
            " 18  bathroom              19827 non-null  int64  \n",
            " 19  land                  19827 non-null  int64  \n",
            " 20  hospital_distance     19827 non-null  float64\n",
            "dtypes: float64(6), int64(10), uint8(5)\n",
            "memory usage: 2.5 MB\n"
          ]
        }
      ],
      "source": [
        "encoded_df.info()"
      ]
    },
    {
      "cell_type": "markdown",
      "metadata": {
        "id": "BV9dPRFnWIuK"
      },
      "source": [
        "Our dataset (`encoded_df`) now only contains numerical (`uint8`, `int64`, or `float64`), so it is exploitable by a regression tool."
      ]
    },
    {
      "cell_type": "markdown",
      "metadata": {
        "id": "BKvBZMwI8fo2"
      },
      "source": [
        "## Descriptive Statistics"
      ]
    },
    {
      "cell_type": "markdown",
      "metadata": {
        "id": "MCTpUI9uLFuu"
      },
      "source": [
        "We are looking for trend in our data explaining the way our multiples variables interact with `health_expenditures`."
      ]
    },
    {
      "cell_type": "markdown",
      "metadata": {
        "id": "W6Oso9jTIiOa"
      },
      "source": [
        "### Correlation"
      ]
    },
    {
      "cell_type": "markdown",
      "metadata": {
        "id": "N4qT-UPDLBqv"
      },
      "source": [
        "A method to quickly hover every variables together to find trends is to search for correlation value between each variables. This can be done using the `.corr()` method from *Pandas*."
      ]
    },
    {
      "cell_type": "markdown",
      "metadata": {
        "id": "YH2CAJQMIleR"
      },
      "source": [
        "#### Pearson method"
      ]
    },
    {
      "cell_type": "markdown",
      "metadata": {
        "id": "QGvvGZsIK_Es"
      },
      "source": [
        "The pearson correlation coefficient measures a linear correlation between two variables."
      ]
    },
    {
      "cell_type": "code",
      "execution_count": null,
      "metadata": {
        "colab": {
          "base_uri": "https://localhost:8080/",
          "height": 491
        },
        "id": "WnpR5GjHASft",
        "outputId": "d2470073-14b7-46ca-a863-f0b7ec2a39e4"
      },
      "outputs": [
        {
          "data": {
            "image/png": "[encoded data removed]",
            "text/plain": [
              "<Figure size 504x504 with 2 Axes>"
            ]
          },
          "metadata": {},
          "output_type": "display_data"
        }
      ],
      "source": [
        "# Create Pearson correlation map to vizualise the different correlation in between the column\n",
        "fig = plt.figure(figsize=(7, 7))\n",
        "sns.heatmap(encoded_df.corr(), vmax=1., square=True, cmap=sns.color_palette(\"coolwarm\", as_cmap=True))\n",
        "plt.title(\"Pearson correlation map\", fontsize=15)\n",
        "plt.show()"
      ]
    },
    {
      "cell_type": "code",
      "execution_count": null,
      "metadata": {
        "colab": {
          "base_uri": "https://localhost:8080/",
          "height": 708
        },
        "id": "FRS5OCUCBIkK",
        "outputId": "3f5a057b-b00f-465a-b906-a448922fbe0d"
      },
      "outputs": [
        {
          "data": {
            "text/html": [
              "\n",
              "  <div id=\"df-d914ee06-6456-4e26-bbeb-569cd05b8b02\">\n",
              "    <div class=\"colab-df-container\">\n",
              "      <div>\n",
              "<style scoped>\n",
              "    .dataframe tbody tr th:only-of-type {\n",
              "        vertical-align: middle;\n",
              "    }\n",
              "\n",
              "    .dataframe tbody tr th {\n",
              "        vertical-align: top;\n",
              "    }\n",
              "\n",
              "    .dataframe thead th {\n",
              "        text-align: right;\n",
              "    }\n",
              "</style>\n",
              "<table border=\"1\" class=\"dataframe\">\n",
              "  <thead>\n",
              "    <tr style=\"text-align: right;\">\n",
              "      <th></th>\n",
              "      <th>health_expenditures</th>\n",
              "    </tr>\n",
              "  </thead>\n",
              "  <tbody>\n",
              "    <tr>\n",
              "      <th>locality_identifier</th>\n",
              "      <td>-0.025461</td>\n",
              "    </tr>\n",
              "    <tr>\n",
              "      <th>household_identifier</th>\n",
              "      <td>-0.033246</td>\n",
              "    </tr>\n",
              "    <tr>\n",
              "      <th>treatment_locality</th>\n",
              "      <td>0.182393</td>\n",
              "    </tr>\n",
              "    <tr>\n",
              "      <th>promotion_locality</th>\n",
              "      <td>-0.105620</td>\n",
              "    </tr>\n",
              "    <tr>\n",
              "      <th>eligible</th>\n",
              "      <td>-0.425658</td>\n",
              "    </tr>\n",
              "    <tr>\n",
              "      <th>enrolled</th>\n",
              "      <td>-0.412693</td>\n",
              "    </tr>\n",
              "    <tr>\n",
              "      <th>enrolled_rp</th>\n",
              "      <td>-0.406346</td>\n",
              "    </tr>\n",
              "    <tr>\n",
              "      <th>poverty_index</th>\n",
              "      <td>0.428248</td>\n",
              "    </tr>\n",
              "    <tr>\n",
              "      <th>round</th>\n",
              "      <td>-0.018930</td>\n",
              "    </tr>\n",
              "    <tr>\n",
              "      <th>health_expenditures</th>\n",
              "      <td>1.000000</td>\n",
              "    </tr>\n",
              "    <tr>\n",
              "      <th>age_hh</th>\n",
              "      <td>0.257817</td>\n",
              "    </tr>\n",
              "    <tr>\n",
              "      <th>age_sp</th>\n",
              "      <td>0.184925</td>\n",
              "    </tr>\n",
              "    <tr>\n",
              "      <th>educ_hh</th>\n",
              "      <td>-0.051597</td>\n",
              "    </tr>\n",
              "    <tr>\n",
              "      <th>educ_sp</th>\n",
              "      <td>-0.027431</td>\n",
              "    </tr>\n",
              "    <tr>\n",
              "      <th>female_hh</th>\n",
              "      <td>0.174227</td>\n",
              "    </tr>\n",
              "    <tr>\n",
              "      <th>indigenous</th>\n",
              "      <td>-0.189984</td>\n",
              "    </tr>\n",
              "    <tr>\n",
              "      <th>hhsize</th>\n",
              "      <td>-0.536961</td>\n",
              "    </tr>\n",
              "    <tr>\n",
              "      <th>dirtfloor</th>\n",
              "      <td>-0.194512</td>\n",
              "    </tr>\n",
              "    <tr>\n",
              "      <th>bathroom</th>\n",
              "      <td>0.034342</td>\n",
              "    </tr>\n",
              "    <tr>\n",
              "      <th>land</th>\n",
              "      <td>0.069479</td>\n",
              "    </tr>\n",
              "    <tr>\n",
              "      <th>hospital_distance</th>\n",
              "      <td>-0.061036</td>\n",
              "    </tr>\n",
              "  </tbody>\n",
              "</table>\n",
              "</div>\n",
              "      <button class=\"colab-df-convert\" onclick=\"convertToInteractive('df-d914ee06-6456-4e26-bbeb-569cd05b8b02')\"\n",
              "              title=\"Convert this dataframe to an interactive table.\"\n",
              "              style=\"display:none;\">\n",
              "        \n",
              "  <svg xmlns=\"http://www.w3.org/2000/svg\" height=\"24px\"viewBox=\"0 0 24 24\"\n",
              "       width=\"24px\">\n",
              "    <path d=\"M0 0h24v24H0V0z\" fill=\"none\"/>\n",
              "    <path d=\"M18.56 5.44l.94 2.06.94-2.06 2.06-.94-2.06-.94-.94-2.06-.94 2.06-2.06.94zm-11 1L8.5 8.5l.94-2.06 2.06-.94-2.06-.94L8.5 2.5l-.94 2.06-2.06.94zm10 10l.94 2.06.94-2.06 2.06-.94-2.06-.94-.94-2.06-.94 2.06-2.06.94z\"/><path d=\"M17.41 7.96l-1.37-1.37c-.4-.4-.92-.59-1.43-.59-.52 0-1.04.2-1.43.59L10.3 9.45l-7.72 7.72c-.78.78-.78 2.05 0 2.83L4 21.41c.39.39.9.59 1.41.59.51 0 1.02-.2 1.41-.59l7.78-7.78 2.81-2.81c.8-.78.8-2.07 0-2.86zM5.41 20L4 18.59l7.72-7.72 1.47 1.35L5.41 20z\"/>\n",
              "  </svg>\n",
              "      </button>\n",
              "      \n",
              "  <style>\n",
              "    .colab-df-container {\n",
              "      display:flex;\n",
              "      flex-wrap:wrap;\n",
              "      gap: 12px;\n",
              "    }\n",
              "\n",
              "    .colab-df-convert {\n",
              "      background-color: #E8F0FE;\n",
              "      border: none;\n",
              "      border-radius: 50%;\n",
              "      cursor: pointer;\n",
              "      display: none;\n",
              "      fill: #1967D2;\n",
              "      height: 32px;\n",
              "      padding: 0 0 0 0;\n",
              "      width: 32px;\n",
              "    }\n",
              "\n",
              "    .colab-df-convert:hover {\n",
              "      background-color: #E2EBFA;\n",
              "      box-shadow: 0px 1px 2px rgba(60, 64, 67, 0.3), 0px 1px 3px 1px rgba(60, 64, 67, 0.15);\n",
              "      fill: #174EA6;\n",
              "    }\n",
              "\n",
              "    [theme=dark] .colab-df-convert {\n",
              "      background-color: #3B4455;\n",
              "      fill: #D2E3FC;\n",
              "    }\n",
              "\n",
              "    [theme=dark] .colab-df-convert:hover {\n",
              "      background-color: #434B5C;\n",
              "      box-shadow: 0px 1px 3px 1px rgba(0, 0, 0, 0.15);\n",
              "      filter: drop-shadow(0px 1px 2px rgba(0, 0, 0, 0.3));\n",
              "      fill: #FFFFFF;\n",
              "    }\n",
              "  </style>\n",
              "\n",
              "      <script>\n",
              "        const buttonEl =\n",
              "          document.querySelector('#df-d914ee06-6456-4e26-bbeb-569cd05b8b02 button.colab-df-convert');\n",
              "        buttonEl.style.display =\n",
              "          google.colab.kernel.accessAllowed ? 'block' : 'none';\n",
              "\n",
              "        async function convertToInteractive(key) {\n",
              "          const element = document.querySelector('#df-d914ee06-6456-4e26-bbeb-569cd05b8b02');\n",
              "          const dataTable =\n",
              "            await google.colab.kernel.invokeFunction('convertToInteractive',\n",
              "                                                     [key], {});\n",
              "          if (!dataTable) return;\n",
              "\n",
              "          const docLinkHtml = 'Like what you see? Visit the ' +\n",
              "            '<a target=\"_blank\" href=https://colab.research.google.com/notebooks/data_table.ipynb>data table notebook</a>'\n",
              "            + ' to learn more about interactive tables.';\n",
              "          element.innerHTML = '';\n",
              "          dataTable['output_type'] = 'display_data';\n",
              "          await google.colab.output.renderOutput(dataTable, element);\n",
              "          const docLink = document.createElement('div');\n",
              "          docLink.innerHTML = docLinkHtml;\n",
              "          element.appendChild(docLink);\n",
              "        }\n",
              "      </script>\n",
              "    </div>\n",
              "  </div>\n",
              "  "
            ],
            "text/plain": [
              "                      health_expenditures\n",
              "locality_identifier             -0.025461\n",
              "household_identifier            -0.033246\n",
              "treatment_locality               0.182393\n",
              "promotion_locality              -0.105620\n",
              "eligible                        -0.425658\n",
              "enrolled                        -0.412693\n",
              "enrolled_rp                     -0.406346\n",
              "poverty_index                    0.428248\n",
              "round                           -0.018930\n",
              "health_expenditures              1.000000\n",
              "age_hh                           0.257817\n",
              "age_sp                           0.184925\n",
              "educ_hh                         -0.051597\n",
              "educ_sp                         -0.027431\n",
              "female_hh                        0.174227\n",
              "indigenous                      -0.189984\n",
              "hhsize                          -0.536961\n",
              "dirtfloor                       -0.194512\n",
              "bathroom                         0.034342\n",
              "land                             0.069479\n",
              "hospital_distance               -0.061036"
            ]
          },
          "execution_count": 97,
          "metadata": {},
          "output_type": "execute_result"
        }
      ],
      "source": [
        "# Get all the correlation value (with pearson method) and filter on the column 'health_expenditures'\n",
        "corr_pearson = encoded_df.corr()\n",
        "corr_pearson[['health_expenditures']]"
      ]
    },
    {
      "cell_type": "markdown",
      "metadata": {
        "id": "Y4Uckj3sIokP"
      },
      "source": [
        "#### Spearman Method"
      ]
    },
    {
      "cell_type": "markdown",
      "metadata": {
        "id": "IG2aAF80K7CV"
      },
      "source": [
        "The Spearman correlation is studied when two statistical variables seem to be correlated without the relationship between the two variables being of affine type. It consists in finding a correlation coefficient, not between the values taken by the two variables but between the ranks of these values.\n",
        "\n",
        "Note that there is also the Kendall's method to obtain a correlation by rank."
      ]
    },
    {
      "cell_type": "code",
      "execution_count": null,
      "metadata": {
        "colab": {
          "base_uri": "https://localhost:8080/"
        },
        "id": "8CsyXqUUIn_9",
        "outputId": "8e275041-a2ca-43d0-f1cf-c43c850ba66a"
      },
      "outputs": [
        {
          "data": {
            "image/png": "[encoded data removed]",
            "text/plain": [
              "<Figure size 504x504 with 2 Axes>"
            ]
          },
          "metadata": {},
          "output_type": "display_data"
        }
      ],
      "source": [
        "# Create Spearman correlation map to vizualise the different correlation in between the column\n",
        "fig = plt.figure(figsize=(7, 7))\n",
        "sns.heatmap(encoded_df.corr(method=\"spearman\"), vmax=1., square=True, cmap=sns.color_palette(\"Spectral\", as_cmap=True))\n",
        "plt.title(\"Spearman correlation map\", fontsize=15)\n",
        "plt.show()"
      ]
    },
    {
      "cell_type": "code",
      "execution_count": null,
      "metadata": {
        "colab": {
          "base_uri": "https://localhost:8080/"
        },
        "id": "PxMKTunDIXBh",
        "outputId": "9786bb5f-d0ae-4d68-ce56-bf6f3e490275"
      },
      "outputs": [
        {
          "data": {
            "text/html": [
              "\n",
              "  <div id=\"df-265a731a-f7aa-4791-8f26-232fa1f6c923\">\n",
              "    <div class=\"colab-df-container\">\n",
              "      <div>\n",
              "<style scoped>\n",
              "    .dataframe tbody tr th:only-of-type {\n",
              "        vertical-align: middle;\n",
              "    }\n",
              "\n",
              "    .dataframe tbody tr th {\n",
              "        vertical-align: top;\n",
              "    }\n",
              "\n",
              "    .dataframe thead th {\n",
              "        text-align: right;\n",
              "    }\n",
              "</style>\n",
              "<table border=\"1\" class=\"dataframe\">\n",
              "  <thead>\n",
              "    <tr style=\"text-align: right;\">\n",
              "      <th></th>\n",
              "      <th>health_expenditures</th>\n",
              "    </tr>\n",
              "  </thead>\n",
              "  <tbody>\n",
              "    <tr>\n",
              "      <th>locality_identifier</th>\n",
              "      <td>-0.025230</td>\n",
              "    </tr>\n",
              "    <tr>\n",
              "      <th>household_identifier</th>\n",
              "      <td>-0.025524</td>\n",
              "    </tr>\n",
              "    <tr>\n",
              "      <th>treatment_locality</th>\n",
              "      <td>0.201720</td>\n",
              "    </tr>\n",
              "    <tr>\n",
              "      <th>promotion_locality</th>\n",
              "      <td>-0.118274</td>\n",
              "    </tr>\n",
              "    <tr>\n",
              "      <th>eligible</th>\n",
              "      <td>-0.471047</td>\n",
              "    </tr>\n",
              "    <tr>\n",
              "      <th>enrolled</th>\n",
              "      <td>-0.456721</td>\n",
              "    </tr>\n",
              "    <tr>\n",
              "      <th>enrolled_rp</th>\n",
              "      <td>-0.450176</td>\n",
              "    </tr>\n",
              "    <tr>\n",
              "      <th>poverty_index</th>\n",
              "      <td>0.493679</td>\n",
              "    </tr>\n",
              "    <tr>\n",
              "      <th>round</th>\n",
              "      <td>-0.109338</td>\n",
              "    </tr>\n",
              "    <tr>\n",
              "      <th>health_expenditures</th>\n",
              "      <td>1.000000</td>\n",
              "    </tr>\n",
              "    <tr>\n",
              "      <th>age_hh</th>\n",
              "      <td>0.262117</td>\n",
              "    </tr>\n",
              "    <tr>\n",
              "      <th>age_sp</th>\n",
              "      <td>0.212357</td>\n",
              "    </tr>\n",
              "    <tr>\n",
              "      <th>educ_hh</th>\n",
              "      <td>-0.072087</td>\n",
              "    </tr>\n",
              "    <tr>\n",
              "      <th>educ_sp</th>\n",
              "      <td>-0.026076</td>\n",
              "    </tr>\n",
              "    <tr>\n",
              "      <th>female_hh</th>\n",
              "      <td>0.178941</td>\n",
              "    </tr>\n",
              "    <tr>\n",
              "      <th>indigenous</th>\n",
              "      <td>-0.222276</td>\n",
              "    </tr>\n",
              "    <tr>\n",
              "      <th>hhsize</th>\n",
              "      <td>-0.610753</td>\n",
              "    </tr>\n",
              "    <tr>\n",
              "      <th>dirtfloor</th>\n",
              "      <td>-0.224411</td>\n",
              "    </tr>\n",
              "    <tr>\n",
              "      <th>bathroom</th>\n",
              "      <td>0.032493</td>\n",
              "    </tr>\n",
              "    <tr>\n",
              "      <th>land</th>\n",
              "      <td>0.038927</td>\n",
              "    </tr>\n",
              "    <tr>\n",
              "      <th>hospital_distance</th>\n",
              "      <td>-0.075659</td>\n",
              "    </tr>\n",
              "  </tbody>\n",
              "</table>\n",
              "</div>\n",
              "      <button class=\"colab-df-convert\" onclick=\"convertToInteractive('df-265a731a-f7aa-4791-8f26-232fa1f6c923')\"\n",
              "              title=\"Convert this dataframe to an interactive table.\"\n",
              "              style=\"display:none;\">\n",
              "        \n",
              "  <svg xmlns=\"http://www.w3.org/2000/svg\" height=\"24px\"viewBox=\"0 0 24 24\"\n",
              "       width=\"24px\">\n",
              "    <path d=\"M0 0h24v24H0V0z\" fill=\"none\"/>\n",
              "    <path d=\"M18.56 5.44l.94 2.06.94-2.06 2.06-.94-2.06-.94-.94-2.06-.94 2.06-2.06.94zm-11 1L8.5 8.5l.94-2.06 2.06-.94-2.06-.94L8.5 2.5l-.94 2.06-2.06.94zm10 10l.94 2.06.94-2.06 2.06-.94-2.06-.94-.94-2.06-.94 2.06-2.06.94z\"/><path d=\"M17.41 7.96l-1.37-1.37c-.4-.4-.92-.59-1.43-.59-.52 0-1.04.2-1.43.59L10.3 9.45l-7.72 7.72c-.78.78-.78 2.05 0 2.83L4 21.41c.39.39.9.59 1.41.59.51 0 1.02-.2 1.41-.59l7.78-7.78 2.81-2.81c.8-.78.8-2.07 0-2.86zM5.41 20L4 18.59l7.72-7.72 1.47 1.35L5.41 20z\"/>\n",
              "  </svg>\n",
              "      </button>\n",
              "      \n",
              "  <style>\n",
              "    .colab-df-container {\n",
              "      display:flex;\n",
              "      flex-wrap:wrap;\n",
              "      gap: 12px;\n",
              "    }\n",
              "\n",
              "    .colab-df-convert {\n",
              "      background-color: #E8F0FE;\n",
              "      border: none;\n",
              "      border-radius: 50%;\n",
              "      cursor: pointer;\n",
              "      display: none;\n",
              "      fill: #1967D2;\n",
              "      height: 32px;\n",
              "      padding: 0 0 0 0;\n",
              "      width: 32px;\n",
              "    }\n",
              "\n",
              "    .colab-df-convert:hover {\n",
              "      background-color: #E2EBFA;\n",
              "      box-shadow: 0px 1px 2px rgba(60, 64, 67, 0.3), 0px 1px 3px 1px rgba(60, 64, 67, 0.15);\n",
              "      fill: #174EA6;\n",
              "    }\n",
              "\n",
              "    [theme=dark] .colab-df-convert {\n",
              "      background-color: #3B4455;\n",
              "      fill: #D2E3FC;\n",
              "    }\n",
              "\n",
              "    [theme=dark] .colab-df-convert:hover {\n",
              "      background-color: #434B5C;\n",
              "      box-shadow: 0px 1px 3px 1px rgba(0, 0, 0, 0.15);\n",
              "      filter: drop-shadow(0px 1px 2px rgba(0, 0, 0, 0.3));\n",
              "      fill: #FFFFFF;\n",
              "    }\n",
              "  </style>\n",
              "\n",
              "      <script>\n",
              "        const buttonEl =\n",
              "          document.querySelector('#df-265a731a-f7aa-4791-8f26-232fa1f6c923 button.colab-df-convert');\n",
              "        buttonEl.style.display =\n",
              "          google.colab.kernel.accessAllowed ? 'block' : 'none';\n",
              "\n",
              "        async function convertToInteractive(key) {\n",
              "          const element = document.querySelector('#df-265a731a-f7aa-4791-8f26-232fa1f6c923');\n",
              "          const dataTable =\n",
              "            await google.colab.kernel.invokeFunction('convertToInteractive',\n",
              "                                                     [key], {});\n",
              "          if (!dataTable) return;\n",
              "\n",
              "          const docLinkHtml = 'Like what you see? Visit the ' +\n",
              "            '<a target=\"_blank\" href=https://colab.research.google.com/notebooks/data_table.ipynb>data table notebook</a>'\n",
              "            + ' to learn more about interactive tables.';\n",
              "          element.innerHTML = '';\n",
              "          dataTable['output_type'] = 'display_data';\n",
              "          await google.colab.output.renderOutput(dataTable, element);\n",
              "          const docLink = document.createElement('div');\n",
              "          docLink.innerHTML = docLinkHtml;\n",
              "          element.appendChild(docLink);\n",
              "        }\n",
              "      </script>\n",
              "    </div>\n",
              "  </div>\n",
              "  "
            ],
            "text/plain": [
              "                      health_expenditures\n",
              "locality_identifier             -0.025230\n",
              "household_identifier            -0.025524\n",
              "treatment_locality               0.201720\n",
              "promotion_locality              -0.118274\n",
              "eligible                        -0.471047\n",
              "enrolled                        -0.456721\n",
              "enrolled_rp                     -0.450176\n",
              "poverty_index                    0.493679\n",
              "round                           -0.109338\n",
              "health_expenditures              1.000000\n",
              "age_hh                           0.262117\n",
              "age_sp                           0.212357\n",
              "educ_hh                         -0.072087\n",
              "educ_sp                         -0.026076\n",
              "female_hh                        0.178941\n",
              "indigenous                      -0.222276\n",
              "hhsize                          -0.610753\n",
              "dirtfloor                       -0.224411\n",
              "bathroom                         0.032493\n",
              "land                             0.038927\n",
              "hospital_distance               -0.075659"
            ]
          },
          "execution_count": 99,
          "metadata": {},
          "output_type": "execute_result"
        }
      ],
      "source": [
        "# Get all the correlation value (with Spearman method) and filter on the column 'health_expenditures'\n",
        "corr_spearman = encoded_df.corr(method=\"spearman\")\n",
        "corr_spearman[['health_expenditures']]"
      ]
    },
    {
      "cell_type": "markdown",
      "metadata": {
        "id": "SXTInNk5JSBs"
      },
      "source": [
        "#### Observartion"
      ]
    },
    {
      "cell_type": "markdown",
      "metadata": {
        "id": "xP6whon-BXjd"
      },
      "source": [
        "Variable with a correlation higher than 0.4 are suposed impactful on our main variable (`health_expenditures`). Thus, we have:\n",
        "*   `eligible`: **Household eligible to enroll in HISP** (Pearson: -0.42; Spearman: -0.47)\n",
        "*   `enrolled`: **Household enrolled in HISP** (Pearson: -0.41; Spearman: -0.45)\n",
        "*   `enrolled_rp`: \t**Household enrolled in HISP following random promotion** (Pearson: -0.4; Spearman: -0.45)\n",
        "*   `poverty_index`: **1-100 scale of poverty** (Pearson: 0.42; Spearman: 0.49)\n",
        "*   `hhsize`: **Number of household members** (Pearson: -0.54; Spearman: -0.61)\n",
        "\n",
        "The higher the correlation the most positive impact the variable has on the `health_expenditure`, the lower (close to -1) the most negative impact it has. Near 0 correlation values have a negligibable impact.\n",
        "Which means that when `enrolled_rp` increase by 1, `health_expediture` decrease 0.4. On the contrary, when `poverty_index` increase by 1 `health_expenditure` increase by 0.42. "
      ]
    },
    {
      "cell_type": "markdown",
      "metadata": {
        "id": "Vv-O69YfKwNS"
      },
      "source": [
        "### Analysis"
      ]
    },
    {
      "cell_type": "markdown",
      "metadata": {
        "id": "UZOyIsgBQ3Ac"
      },
      "source": [
        "#### Household eligible to enroll in HISP"
      ]
    },
    {
      "cell_type": "code",
      "execution_count": null,
      "metadata": {
        "colab": {
          "base_uri": "https://localhost:8080/",
          "height": 386
        },
        "id": "VcedOUF0Q6_l",
        "outputId": "3e52060e-df61-49c3-b84f-46806812a56d"
      },
      "outputs": [
        {
          "data": {
            "text/plain": [
              "<seaborn.axisgrid.FacetGrid at 0x7f7834a42b90>"
            ]
          },
          "execution_count": 100,
          "metadata": {},
          "output_type": "execute_result"
        },
        {
          "data": {
            "image/png": "[encoded data removed]",
            "text/plain": [
              "<Figure size 360x360 with 1 Axes>"
            ]
          },
          "metadata": {},
          "output_type": "display_data"
        }
      ],
      "source": [
        "sns.catplot(x=\"eligible\", y=\"health_expenditures\", kind=\"violin\", data=df)"
      ]
    },
    {
      "cell_type": "markdown",
      "metadata": {
        "id": "o7trHuZjFm1u"
      },
      "source": [
        "#### Household enrolled in HISP"
      ]
    },
    {
      "cell_type": "code",
      "execution_count": null,
      "metadata": {
        "colab": {
          "base_uri": "https://localhost:8080/",
          "height": 386
        },
        "id": "-7eoSONVE01z",
        "outputId": "0b8f142a-84bf-4263-ba81-bd92c05bbd2a"
      },
      "outputs": [
        {
          "data": {
            "text/plain": [
              "<seaborn.axisgrid.FacetGrid at 0x7f7834b8e910>"
            ]
          },
          "execution_count": 101,
          "metadata": {},
          "output_type": "execute_result"
        },
        {
          "data": {
            "image/png": "[encoded data removed]",
            "text/plain": [
              "<Figure size 452.875x360 with 1 Axes>"
            ]
          },
          "metadata": {},
          "output_type": "display_data"
        }
      ],
      "source": [
        "sns.catplot(x=\"enrolled\", y=\"health_expenditures\", kind=\"violin\", hue=\"eligible\", data=df)"
      ]
    },
    {
      "cell_type": "markdown",
      "metadata": {
        "id": "Op8FpSnrFYV1"
      },
      "source": [
        "#### Household enrolled in HISP following random promotion"
      ]
    },
    {
      "cell_type": "code",
      "execution_count": null,
      "metadata": {
        "colab": {
          "base_uri": "https://localhost:8080/",
          "height": 386
        },
        "id": "GhojHX8iDr7-",
        "outputId": "70cd2f00-cde7-40e0-bdef-185cee41197c"
      },
      "outputs": [
        {
          "data": {
            "text/plain": [
              "<seaborn.axisgrid.FacetGrid at 0x7f78344df690>"
            ]
          },
          "execution_count": 102,
          "metadata": {},
          "output_type": "execute_result"
        },
        {
          "data": {
            "image/png": "[encoded data removed]",
            "text/plain": [
              "<Figure size 457.125x360 with 1 Axes>"
            ]
          },
          "metadata": {},
          "output_type": "display_data"
        }
      ],
      "source": [
        "sns.catplot(x=\"enrolled_rp\", y=\"health_expenditures\", kind=\"violin\", hue=\"enrolled\", data=df)"
      ]
    },
    {
      "cell_type": "markdown",
      "metadata": {
        "id": "pgXZP4_DHeMj"
      },
      "source": [
        "Add plot description."
      ]
    },
    {
      "cell_type": "markdown",
      "metadata": {
        "id": "uh3HT47xFe59"
      },
      "source": [
        "#### 1-100 scale of poverty"
      ]
    },
    {
      "cell_type": "code",
      "execution_count": null,
      "metadata": {
        "colab": {
          "base_uri": "https://localhost:8080/",
          "height": 458
        },
        "id": "_A9f3DxcEGpj",
        "outputId": "c499e85b-c113-40b4-a5dc-7bed513ee185"
      },
      "outputs": [
        {
          "data": {
            "text/plain": [
              "<seaborn.axisgrid.JointGrid at 0x7f78343da890>"
            ]
          },
          "execution_count": 103,
          "metadata": {},
          "output_type": "execute_result"
        },
        {
          "data": {
            "image/png": "[encoded data removed]",
            "text/plain": [
              "<Figure size 432x432 with 3 Axes>"
            ]
          },
          "metadata": {},
          "output_type": "display_data"
        }
      ],
      "source": [
        "sns.jointplot(x=\"poverty_index\", y=\"health_expenditures\", hue=\"enrolled\", data=df)"
      ]
    },
    {
      "cell_type": "markdown",
      "metadata": {
        "id": "ojiReHBKFjYz"
      },
      "source": [
        "#### Number of household members"
      ]
    },
    {
      "cell_type": "code",
      "execution_count": null,
      "metadata": {
        "colab": {
          "base_uri": "https://localhost:8080/",
          "height": 458
        },
        "id": "ttrSzoUhEvx2",
        "outputId": "6f53cb9d-3152-4d66-e313-9a206a49abd8"
      },
      "outputs": [
        {
          "data": {
            "text/plain": [
              "<seaborn.axisgrid.JointGrid at 0x7f78344aa8d0>"
            ]
          },
          "execution_count": 104,
          "metadata": {},
          "output_type": "execute_result"
        },
        {
          "data": {
            "image/png": "[encoded data removed]",
            "text/plain": [
              "<Figure size 432x432 with 3 Axes>"
            ]
          },
          "metadata": {},
          "output_type": "display_data"
        }
      ],
      "source": [
        "sns.jointplot(x=\"hhsize\", y=\"health_expenditures\", hue=\"enrolled\", data=df)"
      ]
    },
    {
      "cell_type": "markdown",
      "metadata": {
        "id": "XnU-UIxF8rT4"
      },
      "source": [
        "## Data preparation for Regression"
      ]
    },
    {
      "cell_type": "markdown",
      "metadata": {
        "id": "OUgUDlybH80P"
      },
      "source": [
        "### Split the Dataframe into a training and test sets"
      ]
    },
    {
      "cell_type": "markdown",
      "metadata": {
        "id": "8beX4tHkMNBz"
      },
      "source": [
        "Before using regression method on our data, we need to split it into two different set. One will be use to train our algorithm, the other to test it. We cannot use the same data for both since it would lead to the algorithm answering what he already knows and not what he had to predict."
      ]
    },
    {
      "cell_type": "code",
      "execution_count": null,
      "metadata": {
        "id": "C2k6kSQTWlVp"
      },
      "outputs": [],
      "source": [
        "X = encoded_df.drop(\"health_expenditures\", axis=1)\n",
        "Y = encoded_df.health_expenditures"
      ]
    },
    {
      "cell_type": "code",
      "execution_count": null,
      "metadata": {
        "id": "w0tYgfLDHmD6"
      },
      "outputs": [],
      "source": [
        "X_train, X_test, Y_train, Y_test = train_test_split(X, Y, test_size=0.2, random_state=42)"
      ]
    },
    {
      "cell_type": "code",
      "execution_count": null,
      "metadata": {
        "colab": {
          "base_uri": "https://localhost:8080/"
        },
        "id": "BQu9sRs8XUrr",
        "outputId": "f7fb51d4-7a1e-4e0f-a4b9-a70696534575"
      },
      "outputs": [
        {
          "name": "stdout",
          "output_type": "stream",
          "text": [
            " X_train = (15861, 20)\n",
            " X_test = (3966, 20)\n",
            " Y_train = (15861,)\n",
            " Y_test = (3966,)\n"
          ]
        }
      ],
      "source": [
        "print(f' X_train = {X_train.shape}\\n X_test = {X_test.shape}\\n Y_train = {Y_train.shape}\\n Y_test = {Y_test.shape}')"
      ]
    },
    {
      "cell_type": "markdown",
      "metadata": {
        "id": "HhMOUMEm885e"
      },
      "source": [
        "## Linear Model"
      ]
    },
    {
      "cell_type": "markdown",
      "metadata": {
        "id": "zma6gIxXjbWL"
      },
      "source": [
        "### Import"
      ]
    },
    {
      "cell_type": "code",
      "execution_count": null,
      "metadata": {
        "id": "AEn74i-Xjf8-"
      },
      "outputs": [],
      "source": [
        "# importing module of linear regression \n",
        "from sklearn.linear_model import LinearRegression\n",
        "from sklearn.metrics import r2_score\n",
        "from sklearn.metrics import mean_squared_error"
      ]
    },
    {
      "cell_type": "markdown",
      "metadata": {
        "id": "jltVnQsZjley"
      },
      "source": [
        "### Creation of Linear Regression"
      ]
    },
    {
      "cell_type": "code",
      "execution_count": null,
      "metadata": {
        "colab": {
          "base_uri": "https://localhost:8080/"
        },
        "id": "rLlJ_Wm08NMY",
        "outputId": "5f6d761b-4035-4873-e146-340a4b5b0a06"
      },
      "outputs": [
        {
          "data": {
            "text/plain": [
              "LinearRegression()"
            ]
          },
          "execution_count": 108,
          "metadata": {},
          "output_type": "execute_result"
        }
      ],
      "source": [
        "# cratinf an object of LinearRegression class\n",
        "LR = LinearRegression()\n",
        "# fitting the traning\n",
        "LR.fit(X_train, Y_train)"
      ]
    },
    {
      "cell_type": "code",
      "execution_count": null,
      "metadata": {
        "colab": {
          "base_uri": "https://localhost:8080/"
        },
        "id": "2QeX7hydl-62",
        "outputId": "41182372-3b50-400c-c0a0-6a78c0abc0e6"
      },
      "outputs": [
        {
          "data": {
            "text/plain": [
              "array([ 2.73897371e-03, -8.38808133e-05,  6.63654365e-01,  1.61927165e-01,\n",
              "       -3.56066323e-02, -6.14011649e+00,  1.65909473e+00,  7.27048042e-02,\n",
              "       -2.78718375e-01,  7.15164513e-02, -8.46142098e-03,  8.02877809e-02,\n",
              "       -3.05710993e-02,  1.26756926e+00, -2.40228608e+00, -1.99126419e+00,\n",
              "       -1.83438948e+00,  5.00229085e-01,  1.44398467e-01, -3.19043180e-03])"
            ]
          },
          "execution_count": 131,
          "metadata": {},
          "output_type": "execute_result"
        }
      ],
      "source": [
        "coef = LR.coef_\n",
        "coef"
      ]
    },
    {
      "cell_type": "code",
      "execution_count": null,
      "metadata": {
        "colab": {
          "base_uri": "https://localhost:8080/"
        },
        "id": "ZlTbx8wfmBZZ",
        "outputId": "ac7f6e4d-4555-4dc1-a4c0-0fcf0b58d4cd"
      },
      "outputs": [
        {
          "data": {
            "text/plain": [
              "23.24789935726308"
            ]
          },
          "execution_count": 128,
          "metadata": {},
          "output_type": "execute_result"
        }
      ],
      "source": [
        "LR.intercept_"
      ]
    },
    {
      "cell_type": "markdown",
      "metadata": {
        "id": "BLHs5InroSJ6"
      },
      "source": [
        "### Model values (coef & intercept)"
      ]
    },
    {
      "cell_type": "code",
      "execution_count": null,
      "metadata": {
        "colab": {
          "base_uri": "https://localhost:8080/"
        },
        "id": "I7AvmK9wmWM6",
        "outputId": "6a536d9c-3461-4272-d1d5-8d7bd2d714cf"
      },
      "outputs": [
        {
          "name": "stdout",
          "output_type": "stream",
          "text": [
            "health_expedenditure =\n",
            "0.00*locality_identifier+\n",
            "-0.00*household_identifier+\n",
            "0.66*treatment_locality+\n",
            "0.16*promotion_locality+\n",
            "-0.04*eligible+\n",
            "-6.14*enrolled+\n",
            "1.66*enrolled_rp+\n",
            "0.07*poverty_index+\n",
            "-0.28*round+\n",
            "0.07*age_hh+\n",
            "-0.01*age_sp+\n",
            "0.08*educ_hh+\n",
            "-0.03*educ_sp+\n",
            "1.27*female_hh+\n",
            "-2.40*indigenous+\n",
            "-1.99*hhsize+\n",
            "-1.83*dirtfloor+\n",
            "0.50*bathroom+\n",
            "0.14*land+\n",
            "-0.00*hospital_distance+\n",
            "+23.24789935726308\n"
          ]
        }
      ],
      "source": [
        "print(\"health_expedenditure =\")\n",
        "for i, head in enumerate(LR.feature_names_in_):\n",
        "  print(f'{coef[i]:.2f}*{head}+')\n",
        "print(f'+{LR.intercept_}')"
      ]
    },
    {
      "cell_type": "markdown",
      "metadata": {
        "id": "MsblIvo4j121"
      },
      "source": [
        "### Prediction"
      ]
    },
    {
      "cell_type": "markdown",
      "metadata": {
        "id": "qrae3IuQoewT"
      },
      "source": [
        "Now that we have our linear regression model, we can try it out on our test data set."
      ]
    },
    {
      "cell_type": "code",
      "execution_count": null,
      "metadata": {
        "colab": {
          "base_uri": "https://localhost:8080/"
        },
        "id": "1HWmjdfj9b-y",
        "outputId": "33952869-7a19-4e70-fb1b-ea7d559974f0"
      },
      "outputs": [
        {
          "data": {
            "text/plain": [
              "array([ 9.07624327, 24.50273426, 19.88476322, ..., 22.06929483,\n",
              "       26.51924757, 12.4483924 ])"
            ]
          },
          "execution_count": 113,
          "metadata": {},
          "output_type": "execute_result"
        }
      ],
      "source": [
        "# prediction of Y \n",
        "Y_prediction = LR.predict(X_test)\n",
        "Y_prediction"
      ]
    },
    {
      "cell_type": "code",
      "execution_count": null,
      "metadata": {
        "colab": {
          "base_uri": "https://localhost:8080/"
        },
        "id": "eCYNlkmMsWTr",
        "outputId": "e79905e4-2252-49f3-c1a1-7f894237f8c0"
      },
      "outputs": [
        {
          "name": "stdout",
          "output_type": "stream",
          "text": [
            "Real Y = 7.30541229248047 ; Model Y = 9.076243265241898 ; Diff = -1.770830972761428\n",
            "Real Y = 18.2980670928955 ; Model Y = 24.502734261683504 ; Diff = -6.204667168788003\n",
            "Real Y = 17.619918823242198 ; Model Y = 19.884763218895685 ; Diff = -2.264844395653487\n",
            "Real Y = 46.9673461914062 ; Model Y = 24.255304119164194 ; Diff = 22.712042072242006\n",
            "Real Y = 8.71798133850098 ; Model Y = 6.0773021548674 ; Diff = 2.64067918363358\n",
            "Real Y = 15.1633882522583 ; Model Y = 17.261708681931143 ; Diff = -2.0983204296728424\n",
            "Real Y = 13.2094373703003 ; Model Y = 13.839580232011071 ; Diff = -0.6301428617107714\n",
            "Real Y = 0.0 ; Model Y = 3.5275153733553566 ; Diff = -3.5275153733553566\n",
            "Real Y = 13.7804460525513 ; Model Y = 14.857483394436109 ; Diff = -1.0770373418848092\n",
            "Real Y = 10.345907211303699 ; Model Y = 20.191301483027917 ; Diff = -9.845394271724219\n",
            "Real Y = 16.3276290893555 ; Model Y = 18.86293698100785 ; Diff = -2.535307891652348\n",
            "Real Y = 7.07332897186279 ; Model Y = 9.855071912089524 ; Diff = -2.781742940226734\n",
            "Real Y = 27.5642795562744 ; Model Y = 22.051074888468566 ; Diff = 5.513204667805834\n",
            "Real Y = 22.041847229003896 ; Model Y = 24.779715035639928 ; Diff = -2.7378678066360322\n",
            "Real Y = 0.490707576274872 ; Model Y = 9.250031662396758 ; Diff = -8.759324086121886\n",
            "Real Y = 24.182315826416 ; Model Y = 24.96853669645407 ; Diff = -0.7862208700380684\n",
            "Real Y = 10.021389961242699 ; Model Y = 11.483326518506933 ; Diff = -1.4619365572642344\n",
            "Real Y = 9.82418537139893 ; Model Y = 5.837584151634271 ; Diff = 3.9866012197646583\n",
            "Real Y = 26.4409484863281 ; Model Y = 17.429925797710457 ; Diff = 9.011022688617643\n",
            "Real Y = 23.602426528930696 ; Model Y = 25.42180655863209 ; Diff = -1.8193800297013922\n",
            "Average diff=-0.2218491582563944\n"
          ]
        }
      ],
      "source": [
        "diff = []\n",
        "for i in range(20):\n",
        "  print(f'Real Y = {Y_test.to_numpy()[i]} ; Model Y = {Y_prediction[i]} ; Diff = {Y_test.to_numpy()[i]-Y_prediction[i]}')\n",
        "  diff.append(Y_test.to_numpy()[i]-Y_prediction[i])\n",
        "print(f'Average diff={sum(diff) / len(diff)}')"
      ]
    },
    {
      "cell_type": "markdown",
      "metadata": {
        "id": "CgclgdqRsXmG"
      },
      "source": [
        "### Score"
      ]
    },
    {
      "cell_type": "markdown",
      "metadata": {
        "id": "lhpQxWu9olch"
      },
      "source": [
        "To know if our model is precise, we can refer to its scores (𝚁², MSE, or RMSE)."
      ]
    },
    {
      "cell_type": "code",
      "execution_count": null,
      "metadata": {
        "colab": {
          "base_uri": "https://localhost:8080/"
        },
        "id": "U7XS5lkx9utp",
        "outputId": "b2b0a72b-80a8-4f31-dec2-844a87a6165b"
      },
      "outputs": [
        {
          "name": "stdout",
          "output_type": "stream",
          "text": [
            " r2 socre is  0.46987917947534097\n",
            " mean_sqrd_error is  41.19162758182711\n",
            " root_mean_squared error of is  6.418070393960097\n"
          ]
        }
      ],
      "source": [
        "# predicting the accuracy score\n",
        "score=r2_score(Y_test,Y_prediction)\n",
        "print(\" r2 socre is \",score)\n",
        "print(\" mean_sqrd_error is \",mean_squared_error(Y_test,Y_prediction))\n",
        "print(\" root_mean_squared error of is \",np.sqrt(mean_squared_error(Y_test,Y_prediction)))"
      ]
    },
    {
      "cell_type": "markdown",
      "metadata": {
        "id": "77OgW4JR-xyi"
      },
      "source": [
        "The Mean squared error is verry low also as the coefficient of correlation (r), which indicates that our model isn't that precise."
      ]
    },
    {
      "cell_type": "markdown",
      "metadata": {
        "id": "25dlZzfL8-sx"
      },
      "source": [
        "## Random Forest Regressor"
      ]
    },
    {
      "cell_type": "markdown",
      "metadata": {
        "id": "oJLS5AIIrpG_"
      },
      "source": [
        "### Import"
      ]
    },
    {
      "cell_type": "code",
      "execution_count": null,
      "metadata": {
        "id": "NiP4GuZBrrRw"
      },
      "outputs": [],
      "source": [
        "# Import necessary library\n",
        "from sklearn.ensemble import RandomForestRegressor\n",
        "from sklearn.datasets import make_regression"
      ]
    },
    {
      "cell_type": "markdown",
      "metadata": {
        "id": "vVxdx6yNYXvy"
      },
      "source": [
        "### Model creation"
      ]
    },
    {
      "cell_type": "code",
      "execution_count": null,
      "metadata": {
        "id": "W_RGk33fq7Xw"
      },
      "outputs": [],
      "source": [
        "rf = RandomForestRegressor()"
      ]
    },
    {
      "cell_type": "markdown",
      "metadata": {
        "id": "o2jccd0VsMGZ"
      },
      "source": [
        "### Fit"
      ]
    },
    {
      "cell_type": "code",
      "execution_count": null,
      "metadata": {
        "colab": {
          "base_uri": "https://localhost:8080/"
        },
        "id": "COX2c_c-r-_L",
        "outputId": "c42c9ea2-9cd5-4346-8888-39c639862d7b"
      },
      "outputs": [
        {
          "data": {
            "text/plain": [
              "RandomForestRegressor()"
            ]
          },
          "execution_count": 189,
          "metadata": {},
          "output_type": "execute_result"
        }
      ],
      "source": [
        "rf.fit(X_train, Y_train)"
      ]
    },
    {
      "cell_type": "markdown",
      "metadata": {
        "id": "V9rJzNEwsNmi"
      },
      "source": [
        "### Prediction"
      ]
    },
    {
      "cell_type": "code",
      "execution_count": null,
      "metadata": {
        "id": "DKyIa9OHsDpn"
      },
      "outputs": [],
      "source": [
        "rf_prediction = rf.predict(X_test)"
      ]
    },
    {
      "cell_type": "markdown",
      "metadata": {
        "id": "2iaJKRD8sQhg"
      },
      "source": [
        "### Scores"
      ]
    },
    {
      "cell_type": "code",
      "execution_count": null,
      "metadata": {
        "colab": {
          "base_uri": "https://localhost:8080/"
        },
        "id": "gqY4lE5XsleJ",
        "outputId": "2cfd187a-831c-47f3-d833-fd16f39f0e55"
      },
      "outputs": [
        {
          "name": "stdout",
          "output_type": "stream",
          "text": [
            " Score is  0.5101375297553943\n",
            " mean_sqrd_error is  38.08424285969804\n",
            " root_mean_squared error of is  6.171243218323034\n"
          ]
        }
      ],
      "source": [
        "# predicting the accuracy score\n",
        "rf_score=rfm.score(X_test,Y_test)\n",
        "print(\" Score is \",rf_score)\n",
        "print(\" mean_sqrd_error is \",mean_squared_error(Y_test,rf_prediction))\n",
        "print(\" root_mean_squared error of is \",np.sqrt(mean_squared_error(Y_test,rf_prediction)))"
      ]
    },
    {
      "cell_type": "markdown",
      "metadata": {
        "id": "PaPwuodSurT3"
      },
      "source": [
        "## Decision Tree regressor"
      ]
    },
    {
      "cell_type": "markdown",
      "metadata": {
        "id": "2_bzmAYSuvgL"
      },
      "source": [
        "### Import"
      ]
    },
    {
      "cell_type": "code",
      "execution_count": null,
      "metadata": {
        "id": "KRbatdEturIW"
      },
      "outputs": [],
      "source": [
        "from sklearn.tree import DecisionTreeRegressor"
      ]
    },
    {
      "cell_type": "markdown",
      "metadata": {
        "id": "FshsV5Wduv1f"
      },
      "source": [
        "### Model Creation"
      ]
    },
    {
      "cell_type": "code",
      "execution_count": null,
      "metadata": {
        "id": "u1Cq1iksu4z7"
      },
      "outputs": [],
      "source": [
        "dt = DecisionTreeRegressor()"
      ]
    },
    {
      "cell_type": "markdown",
      "metadata": {
        "id": "pa6ceVazuwPp"
      },
      "source": [
        "### Fit"
      ]
    },
    {
      "cell_type": "code",
      "execution_count": null,
      "metadata": {
        "colab": {
          "base_uri": "https://localhost:8080/"
        },
        "id": "HXk-ITWDu5Pl",
        "outputId": "871f9d38-13e1-483d-a628-e3aca09d8ce8"
      },
      "outputs": [
        {
          "data": {
            "text/plain": [
              "DecisionTreeRegressor()"
            ]
          },
          "execution_count": 179,
          "metadata": {},
          "output_type": "execute_result"
        }
      ],
      "source": [
        "dt.fit(X_train, Y_train)"
      ]
    },
    {
      "cell_type": "markdown",
      "metadata": {
        "id": "5F3NXtnwuwgf"
      },
      "source": [
        "### Prediction"
      ]
    },
    {
      "cell_type": "code",
      "execution_count": null,
      "metadata": {
        "id": "TJrSkBqxu5fU"
      },
      "outputs": [],
      "source": [
        "dt_prediction = dt.predict(X_test)"
      ]
    },
    {
      "cell_type": "markdown",
      "metadata": {
        "id": "HpL1z30NuwvI"
      },
      "source": [
        "### Scores"
      ]
    },
    {
      "cell_type": "code",
      "execution_count": null,
      "metadata": {
        "colab": {
          "base_uri": "https://localhost:8080/"
        },
        "id": "xXxn9ctcu5xP",
        "outputId": "d4f3f32c-abd3-4916-c4b6-dc0f10698ab4"
      },
      "outputs": [
        {
          "name": "stdout",
          "output_type": "stream",
          "text": [
            " Score is  0.009798203135931383\n",
            " mean_sqrd_error is  76.94099546385097\n",
            " root_mean_squared error of is  8.7716016475813\n"
          ]
        }
      ],
      "source": [
        "# predicting the accuracy score\n",
        "dt_score=dt.score(X_test,Y_test)\n",
        "print(\" Score is \",dt_score)\n",
        "print(\" mean_sqrd_error is \",mean_squared_error(Y_test,dt_prediction))\n",
        "print(\" root_mean_squared error of is \",np.sqrt(mean_squared_error(Y_test,dt_prediction)))"
      ]
    },
    {
      "cell_type": "markdown",
      "metadata": {
        "id": "U10gUp_V9BZt"
      },
      "source": [
        "## Models comparison\n"
      ]
    },
    {
      "cell_type": "markdown",
      "source": [
        "To compare the three models we just create, we can use three indicators:\n",
        "*   MSE: Mean square error ;\n",
        "*   RMSE: Root Mean;\n",
        "*   MAE: Mean Absolute Error.\n",
        "\n",
        "MSE is calculated by the sum of square of prediction error which is real output minus predicted output and then divide by the number of data points. It gives you an absolute number on how much your predicted results deviate from the actual number. You cannot interpret many insights from one single result but it gives you a real number to compare against other model results and help you select the best regression model.\n",
        "\n",
        "Root Mean Square Error(RMSE) is the square root of MSE. It is used more commonly than MSE because firstly sometimes MSE value can be too big to compare easily. Secondly, MSE is calculated by the square of error, and thus square root brings it back to the same level of prediction error and makes it easier for interpretation.\n",
        "\n",
        "Mean Absolute Error(MAE) is similar to Mean Square Error(MSE). However, instead of the sum of square of error in MSE, MAE is taking the sum of the absolute value of error.\n",
        "\n",
        "In those three cases : **the lower, the better**."
      ],
      "metadata": {
        "id": "LeHGxJj86_Q3"
      }
    },
    {
      "cell_type": "markdown",
      "source": [
        "### Get scores using SKLearn.Metrics"
      ],
      "metadata": {
        "id": "YppCnF0o8F7_"
      }
    },
    {
      "cell_type": "code",
      "execution_count": null,
      "metadata": {
        "id": "MGvITmloy_uw"
      },
      "outputs": [],
      "source": [
        "from sklearn.metrics import mean_absolute_error"
      ]
    },
    {
      "cell_type": "code",
      "execution_count": null,
      "metadata": {
        "colab": {
          "base_uri": "https://localhost:8080/"
        },
        "id": "n-0ZE6BwxKUq",
        "outputId": "83092396-1968-47f4-ca32-d21e06618388"
      },
      "outputs": [
        {
          "name": "stdout",
          "output_type": "stream",
          "text": [
            "Linear regression MSE score : 41.191628\n",
            "Linear regression RMSE score : 6.418070\n",
            "Linear regression MAE score : 4.129160\n"
          ]
        }
      ],
      "source": [
        "print(\"Linear regression MSE score : %f\" % mean_squared_error(Y_test,Y_prediction))\n",
        "print(\"Linear regression RMSE score : %f\" % np.sqrt(mean_squared_error(Y_test,Y_prediction)))\n",
        "print(\"Linear regression MAE score : %f\" % mean_absolute_error(Y_test,Y_prediction))"
      ]
    },
    {
      "cell_type": "code",
      "execution_count": null,
      "metadata": {
        "colab": {
          "base_uri": "https://localhost:8080/"
        },
        "id": "wXuV8eNwwKvx",
        "outputId": "5d099ae6-9262-48f1-b232-459cab4cd00c"
      },
      "outputs": [
        {
          "name": "stdout",
          "output_type": "stream",
          "text": [
            "Random forest MSE score : 38.084243\n",
            "Random forest RMSE score : 6.171243\n",
            "Random forest MAE score : 3.395230\n"
          ]
        }
      ],
      "source": [
        "print(\"Random forest MSE score : %f\" % mean_squared_error(Y_test,rf_prediction))\n",
        "print(\"Random forest RMSE score : %f\" % np.sqrt(mean_squared_error(Y_test,rf_prediction)))\n",
        "print(\"Random forest MAE score : %f\" % mean_absolute_error(Y_test,rf_prediction))"
      ]
    },
    {
      "cell_type": "code",
      "execution_count": null,
      "metadata": {
        "colab": {
          "base_uri": "https://localhost:8080/"
        },
        "id": "1pwjaLfbv6xx",
        "outputId": "9b4642f1-904a-40c3-dec7-7cd7bf0945da"
      },
      "outputs": [
        {
          "name": "stdout",
          "output_type": "stream",
          "text": [
            "Decision tree MSE score : 76.940995\n",
            "Decision tree RMSE score : 8.771602\n",
            "Decision tree MAE score : 4.591760\n"
          ]
        }
      ],
      "source": [
        "print(\"Decision tree MSE score : %f\" % mean_squared_error(Y_test,dt_prediction))\n",
        "print(\"Decision tree RMSE score : %f\" % np.sqrt(mean_squared_error(Y_test,dt_prediction)))\n",
        "print(\"Decision tree MAE score : %f\" % mean_absolute_error(Y_test,dt_prediction))"
      ]
    },
    {
      "cell_type": "markdown",
      "source": [
        "### Who's the best ?"
      ],
      "metadata": {
        "id": "L20bYMGJ8J4c"
      }
    },
    {
      "cell_type": "markdown",
      "metadata": {
        "id": "nLgb3PmEzcHn"
      },
      "source": [
        "|      | Linear Regression | Random Forest Regression | Decision Tree Regression |\n",
        "|------|:-----------------:|:------------------------:|:------------------------:|\n",
        "| MSE  |         41.191628 |                38.084243 |                76.940995 |\n",
        "| RMSE |          6.418070 |                 6.171243 |                 8.771602 |\n",
        "| MAE  |          4.129160 |                 3.395230 |                 4.591760 |"
      ]
    },
    {
      "cell_type": "markdown",
      "metadata": {
        "id": "bsil13-40O8X"
      },
      "source": [
        "As we previously indicated, **the lower, the better**, thus we can evaluate that the best regressor tool used here is the **Random Forest Regressor**.\n",
        "\n",
        "Although we have to notice that the linear regression method gives the nearly same result as the Random forest. Except for the MAE where RF is aboout 25% better."
      ]
    },
    {
      "cell_type": "markdown",
      "source": [
        "### 100 values plot"
      ],
      "metadata": {
        "id": "8QU7ZAPD87GK"
      }
    },
    {
      "cell_type": "markdown",
      "source": [
        "Based on the fact that we are working with a lot of variables it is complicated to plot. We can plot on one intersting value, such as `poverty_index` or `age`."
      ],
      "metadata": {
        "id": "d8c__F1Y89Wl"
      }
    },
    {
      "cell_type": "code",
      "source": [
        "plt.scatter(X_test.poverty_index[:100], Y_test[:100], color=\"grey\", label=\"Real\")\n",
        "plt.scatter(X_test.poverty_index[:100], Y_prediction[:100], color=\"blue\", label=\"Linear\")\n",
        "plt.scatter(X_test.poverty_index[:100], rf_prediction[:100], color=\"red\", label=\"Random Forest\")\n",
        "plt.scatter(X_test.poverty_index[:100], dt_prediction[:100], color=\"purple\", label=\"Decision Tree\")\n",
        "\n",
        "plt.xlabel(\"Poverty Index\")\n",
        "plt.ylabel(\"Health Expenditures\")\n",
        "\n",
        "plt.legend()\n",
        "\n",
        "plt.title(\"Health Expenditure based on Poverty Index comparaison of different models\")\n",
        "\n",
        "plt.show()"
      ],
      "metadata": {
        "colab": {
          "base_uri": "https://localhost:8080/",
          "height": 477
        },
        "id": "wHdMjSYk889f",
        "outputId": "5576a4e0-0e82-4213-bd93-ba023a2d9a9f"
      },
      "execution_count": 220,
      "outputs": [
        {
          "output_type": "display_data",
          "data": {
            "image/png": "[encoded data removed]",
            "text/plain": [
              "<Figure size 640x480 with 1 Axes>"
            ]
          },
          "metadata": {}
        }
      ]
    },
    {
      "cell_type": "code",
      "source": [
        "plt.scatter(X_test.age_hh[:100], Y_test[:100], color=\"grey\", label=\"Real\")\n",
        "plt.scatter(X_test.age_hh[:100], Y_prediction[:100], color=\"blue\", label=\"Linear\")\n",
        "plt.scatter(X_test.age_hh[:100], rf_prediction[:100], color=\"red\", label=\"Random Forest\")\n",
        "plt.scatter(X_test.age_hh[:100], dt_prediction[:100], color=\"purple\", label=\"Decision Tree\")\n",
        "\n",
        "plt.xlabel(\"Age\")\n",
        "plt.ylabel(\"Health Expenditures\")\n",
        "\n",
        "plt.legend()\n",
        "\n",
        "plt.title(\"Health Expenditure based on Age comparaison of different models\")\n",
        "\n",
        "plt.show()"
      ],
      "metadata": {
        "colab": {
          "base_uri": "https://localhost:8080/",
          "height": 477
        },
        "id": "fSFx0iLM_zdu",
        "outputId": "6379ccde-277f-49b1-9ac4-2594e115f1ad"
      },
      "execution_count": 221,
      "outputs": [
        {
          "output_type": "display_data",
          "data": {
            "image/png": "[encoded data removed]",
            "text/plain": [
              "<Figure size 640x480 with 1 Axes>"
            ]
          },
          "metadata": {}
        }
      ]
    }
  ],
  "metadata": {
    "colab": {
      "collapsed_sections": [],
      "name": "data_mining_final_project_garance_mathieu.ipynb",
      "toc_visible": true,
      "provenance": [],
      "include_colab_link": true
    },
    "kernelspec": {
      "display_name": "Python 3",
      "name": "python3"
    },
    "language_info": {
      "name": "python"
    }
  },
  "nbformat": 4,
  "nbformat_minor": 0
}