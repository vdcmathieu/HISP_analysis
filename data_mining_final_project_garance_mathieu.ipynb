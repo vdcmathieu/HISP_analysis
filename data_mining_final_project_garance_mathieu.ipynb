{
  "nbformat": 4,
  "nbformat_minor": 0,
  "metadata": {
    "colab": {
      "name": "data_mining_final_project_garance_mathieu.ipynb",
      "provenance": [],
      "collapsed_sections": [],
      "toc_visible": true,
      "include_colab_link": true
    },
    "kernelspec": {
      "name": "python3",
      "display_name": "Python 3"
    },
    "language_info": {
      "name": "python"
    }
  },
  "cells": [
    {
      "cell_type": "markdown",
      "metadata": {
        "id": "view-in-github",
        "colab_type": "text"
      },
      "source": [
        "<a href=\"https://colab.research.google.com/github/vdcmathieu/HISP_analysis/blob/main/data_mining_final_project_garance_mathieu.ipynb\" target=\"_parent\"><img src=\"https://colab.research.google.com/assets/colab-badge.svg\" alt=\"Open In Colab\"/></a>"
      ]
    },
    {
      "cell_type": "markdown",
      "source": [
        "# HISP Project"
      ],
      "metadata": {
        "id": "kWG7A2B-xDrt"
      }
    },
    {
      "cell_type": "markdown",
      "source": [
        "This project was made by Garance Décarsin & Mathieu Van de catsije."
      ],
      "metadata": {
        "id": "P591Ll681cen"
      }
    },
    {
      "cell_type": "markdown",
      "source": [
        "## Library\n",
        "\n",
        "This code imports the different mandatory library useful for the project. Such as Pandas, Numpy, Seaborn or Scikit."
      ],
      "metadata": {
        "id": "eCoGffqj04OP"
      }
    },
    {
      "cell_type": "code",
      "source": [
        "# Libraries Import\n",
        "import pandas as pd\n",
        "import numpy as np\n",
        "import seaborn as sns\n",
        "from sklearn.preprocessing import LabelEncoder\n",
        "import matplotlib.pyplot as plt\n",
        "from sklearn.model_selection import train_test_split"
      ],
      "metadata": {
        "id": "uKpDrStByR1f"
      },
      "execution_count": 96,
      "outputs": []
    },
    {
      "cell_type": "markdown",
      "source": [
        "## Import of the Dataset\n",
        "\n",
        "Import of the original dataset using GitHub. We're using Github to store the csv file with the *HISP* data, then importing it thanks to its raw url and the *read_csv* method from Pandas."
      ],
      "metadata": {
        "id": "N4u5paM11Fxi"
      }
    },
    {
      "cell_type": "code",
      "execution_count": 61,
      "metadata": {
        "id": "6AqC6g9Ow8k7"
      },
      "outputs": [],
      "source": [
        "# Import of the dataset from GitHub into a Dataframe variable\n",
        "import pandas as pd\n",
        "url = \"https://raw.githubusercontent.com/vdcmathieu/hisp_project/main/HISP.csv\"\n",
        "original_data_set = pd.read_csv(url)"
      ]
    },
    {
      "cell_type": "code",
      "source": [
        "# Display of the Dataframe with the original data\n",
        "original_data_set"
      ],
      "metadata": {
        "id": "ZkPGmvDAyk20",
        "colab": {
          "base_uri": "https://localhost:8080/",
          "height": 574
        },
        "outputId": "5cd0960d-2296-47cd-8d83-c24d19ed09af"
      },
      "execution_count": 62,
      "outputs": [
        {
          "output_type": "execute_result",
          "data": {
            "text/html": [
              "\n",
              "  <div id=\"df-04e8ec21-16ad-4abc-b7ae-bafb491efcca\">\n",
              "    <div class=\"colab-df-container\">\n",
              "      <div>\n",
              "<style scoped>\n",
              "    .dataframe tbody tr th:only-of-type {\n",
              "        vertical-align: middle;\n",
              "    }\n",
              "\n",
              "    .dataframe tbody tr th {\n",
              "        vertical-align: top;\n",
              "    }\n",
              "\n",
              "    .dataframe thead th {\n",
              "        text-align: right;\n",
              "    }\n",
              "</style>\n",
              "<table border=\"1\" class=\"dataframe\">\n",
              "  <thead>\n",
              "    <tr style=\"text-align: right;\">\n",
              "      <th></th>\n",
              "      <th>locality_identifier</th>\n",
              "      <th>household_identifier</th>\n",
              "      <th>treatment_locality</th>\n",
              "      <th>promotion_locality</th>\n",
              "      <th>eligible</th>\n",
              "      <th>enrolled</th>\n",
              "      <th>enrolled_rp</th>\n",
              "      <th>poverty_index</th>\n",
              "      <th>round</th>\n",
              "      <th>health_expenditures</th>\n",
              "      <th>age_hh</th>\n",
              "      <th>age_sp</th>\n",
              "      <th>educ_hh</th>\n",
              "      <th>educ_sp</th>\n",
              "      <th>female_hh</th>\n",
              "      <th>indigenous</th>\n",
              "      <th>hhsize</th>\n",
              "      <th>dirtfloor</th>\n",
              "      <th>bathroom</th>\n",
              "      <th>land</th>\n",
              "      <th>hospital_distance</th>\n",
              "      <th>enrolled_num</th>\n",
              "    </tr>\n",
              "  </thead>\n",
              "  <tbody>\n",
              "    <tr>\n",
              "      <th>0</th>\n",
              "      <td>26</td>\n",
              "      <td>5</td>\n",
              "      <td>Treatment</td>\n",
              "      <td>Promotion</td>\n",
              "      <td>Eligible</td>\n",
              "      <td>Enrolled</td>\n",
              "      <td>1</td>\n",
              "      <td>55.950542</td>\n",
              "      <td>Before</td>\n",
              "      <td>15.185455</td>\n",
              "      <td>24.0</td>\n",
              "      <td>23</td>\n",
              "      <td>0.0</td>\n",
              "      <td>6.0</td>\n",
              "      <td>0</td>\n",
              "      <td>0</td>\n",
              "      <td>4</td>\n",
              "      <td>1</td>\n",
              "      <td>0</td>\n",
              "      <td>1</td>\n",
              "      <td>124.819966</td>\n",
              "      <td>1</td>\n",
              "    </tr>\n",
              "    <tr>\n",
              "      <th>1</th>\n",
              "      <td>26</td>\n",
              "      <td>5</td>\n",
              "      <td>Treatment</td>\n",
              "      <td>Promotion</td>\n",
              "      <td>Eligible</td>\n",
              "      <td>Enrolled</td>\n",
              "      <td>1</td>\n",
              "      <td>55.950542</td>\n",
              "      <td>After</td>\n",
              "      <td>19.580902</td>\n",
              "      <td>25.0</td>\n",
              "      <td>24</td>\n",
              "      <td>0.0</td>\n",
              "      <td>6.0</td>\n",
              "      <td>0</td>\n",
              "      <td>0</td>\n",
              "      <td>4</td>\n",
              "      <td>1</td>\n",
              "      <td>0</td>\n",
              "      <td>1</td>\n",
              "      <td>124.819966</td>\n",
              "      <td>1</td>\n",
              "    </tr>\n",
              "    <tr>\n",
              "      <th>2</th>\n",
              "      <td>26</td>\n",
              "      <td>11</td>\n",
              "      <td>Treatment</td>\n",
              "      <td>Promotion</td>\n",
              "      <td>Eligible</td>\n",
              "      <td>Enrolled</td>\n",
              "      <td>0</td>\n",
              "      <td>46.058731</td>\n",
              "      <td>Before</td>\n",
              "      <td>13.076257</td>\n",
              "      <td>30.0</td>\n",
              "      <td>26</td>\n",
              "      <td>4.0</td>\n",
              "      <td>0.0</td>\n",
              "      <td>0</td>\n",
              "      <td>0</td>\n",
              "      <td>6</td>\n",
              "      <td>1</td>\n",
              "      <td>0</td>\n",
              "      <td>2</td>\n",
              "      <td>124.819966</td>\n",
              "      <td>1</td>\n",
              "    </tr>\n",
              "    <tr>\n",
              "      <th>3</th>\n",
              "      <td>26</td>\n",
              "      <td>11</td>\n",
              "      <td>Treatment</td>\n",
              "      <td>Promotion</td>\n",
              "      <td>Eligible</td>\n",
              "      <td>Enrolled</td>\n",
              "      <td>0</td>\n",
              "      <td>46.058731</td>\n",
              "      <td>After</td>\n",
              "      <td>2.398854</td>\n",
              "      <td>31.0</td>\n",
              "      <td>27</td>\n",
              "      <td>4.0</td>\n",
              "      <td>0.0</td>\n",
              "      <td>0</td>\n",
              "      <td>0</td>\n",
              "      <td>6</td>\n",
              "      <td>1</td>\n",
              "      <td>0</td>\n",
              "      <td>2</td>\n",
              "      <td>124.819966</td>\n",
              "      <td>1</td>\n",
              "    </tr>\n",
              "    <tr>\n",
              "      <th>4</th>\n",
              "      <td>26</td>\n",
              "      <td>13</td>\n",
              "      <td>Treatment</td>\n",
              "      <td>Promotion</td>\n",
              "      <td>Eligible</td>\n",
              "      <td>Enrolled</td>\n",
              "      <td>0</td>\n",
              "      <td>54.095825</td>\n",
              "      <td>After</td>\n",
              "      <td>0.000000</td>\n",
              "      <td>59.0</td>\n",
              "      <td>57</td>\n",
              "      <td>0.0</td>\n",
              "      <td>0.0</td>\n",
              "      <td>0</td>\n",
              "      <td>0</td>\n",
              "      <td>6</td>\n",
              "      <td>1</td>\n",
              "      <td>0</td>\n",
              "      <td>4</td>\n",
              "      <td>124.819966</td>\n",
              "      <td>1</td>\n",
              "    </tr>\n",
              "    <tr>\n",
              "      <th>...</th>\n",
              "      <td>...</td>\n",
              "      <td>...</td>\n",
              "      <td>...</td>\n",
              "      <td>...</td>\n",
              "      <td>...</td>\n",
              "      <td>...</td>\n",
              "      <td>...</td>\n",
              "      <td>...</td>\n",
              "      <td>...</td>\n",
              "      <td>...</td>\n",
              "      <td>...</td>\n",
              "      <td>...</td>\n",
              "      <td>...</td>\n",
              "      <td>...</td>\n",
              "      <td>...</td>\n",
              "      <td>...</td>\n",
              "      <td>...</td>\n",
              "      <td>...</td>\n",
              "      <td>...</td>\n",
              "      <td>...</td>\n",
              "      <td>...</td>\n",
              "      <td>...</td>\n",
              "    </tr>\n",
              "    <tr>\n",
              "      <th>19822</th>\n",
              "      <td>35</td>\n",
              "      <td>15738</td>\n",
              "      <td>Control</td>\n",
              "      <td>No promotion</td>\n",
              "      <td>Not eligible</td>\n",
              "      <td>Not enrolled</td>\n",
              "      <td>0</td>\n",
              "      <td>59.737247</td>\n",
              "      <td>Before</td>\n",
              "      <td>16.811539</td>\n",
              "      <td>52.0</td>\n",
              "      <td>41</td>\n",
              "      <td>0.0</td>\n",
              "      <td>2.0</td>\n",
              "      <td>0</td>\n",
              "      <td>1</td>\n",
              "      <td>7</td>\n",
              "      <td>0</td>\n",
              "      <td>1</td>\n",
              "      <td>2</td>\n",
              "      <td>162.748811</td>\n",
              "      <td>0</td>\n",
              "    </tr>\n",
              "    <tr>\n",
              "      <th>19823</th>\n",
              "      <td>40</td>\n",
              "      <td>15769</td>\n",
              "      <td>Treatment</td>\n",
              "      <td>Promotion</td>\n",
              "      <td>Not eligible</td>\n",
              "      <td>Not enrolled</td>\n",
              "      <td>0</td>\n",
              "      <td>62.055641</td>\n",
              "      <td>Before</td>\n",
              "      <td>15.906003</td>\n",
              "      <td>51.0</td>\n",
              "      <td>40</td>\n",
              "      <td>5.0</td>\n",
              "      <td>2.0</td>\n",
              "      <td>0</td>\n",
              "      <td>1</td>\n",
              "      <td>5</td>\n",
              "      <td>1</td>\n",
              "      <td>1</td>\n",
              "      <td>1</td>\n",
              "      <td>114.763392</td>\n",
              "      <td>0</td>\n",
              "    </tr>\n",
              "    <tr>\n",
              "      <th>19824</th>\n",
              "      <td>40</td>\n",
              "      <td>15769</td>\n",
              "      <td>Treatment</td>\n",
              "      <td>Promotion</td>\n",
              "      <td>Not eligible</td>\n",
              "      <td>Not enrolled</td>\n",
              "      <td>0</td>\n",
              "      <td>62.055641</td>\n",
              "      <td>After</td>\n",
              "      <td>8.248152</td>\n",
              "      <td>52.0</td>\n",
              "      <td>41</td>\n",
              "      <td>5.0</td>\n",
              "      <td>2.0</td>\n",
              "      <td>0</td>\n",
              "      <td>1</td>\n",
              "      <td>5</td>\n",
              "      <td>1</td>\n",
              "      <td>1</td>\n",
              "      <td>1</td>\n",
              "      <td>114.763392</td>\n",
              "      <td>0</td>\n",
              "    </tr>\n",
              "    <tr>\n",
              "      <th>19825</th>\n",
              "      <td>40</td>\n",
              "      <td>15778</td>\n",
              "      <td>Treatment</td>\n",
              "      <td>Promotion</td>\n",
              "      <td>Not eligible</td>\n",
              "      <td>Not enrolled</td>\n",
              "      <td>0</td>\n",
              "      <td>62.828438</td>\n",
              "      <td>Before</td>\n",
              "      <td>8.737772</td>\n",
              "      <td>58.0</td>\n",
              "      <td>49</td>\n",
              "      <td>3.0</td>\n",
              "      <td>0.0</td>\n",
              "      <td>0</td>\n",
              "      <td>1</td>\n",
              "      <td>9</td>\n",
              "      <td>1</td>\n",
              "      <td>1</td>\n",
              "      <td>4</td>\n",
              "      <td>114.763392</td>\n",
              "      <td>0</td>\n",
              "    </tr>\n",
              "    <tr>\n",
              "      <th>19826</th>\n",
              "      <td>40</td>\n",
              "      <td>15778</td>\n",
              "      <td>Treatment</td>\n",
              "      <td>Promotion</td>\n",
              "      <td>Not eligible</td>\n",
              "      <td>Not enrolled</td>\n",
              "      <td>0</td>\n",
              "      <td>62.828438</td>\n",
              "      <td>After</td>\n",
              "      <td>10.366098</td>\n",
              "      <td>59.0</td>\n",
              "      <td>50</td>\n",
              "      <td>3.0</td>\n",
              "      <td>0.0</td>\n",
              "      <td>0</td>\n",
              "      <td>1</td>\n",
              "      <td>9</td>\n",
              "      <td>1</td>\n",
              "      <td>1</td>\n",
              "      <td>4</td>\n",
              "      <td>114.763392</td>\n",
              "      <td>0</td>\n",
              "    </tr>\n",
              "  </tbody>\n",
              "</table>\n",
              "<p>19827 rows × 22 columns</p>\n",
              "</div>\n",
              "      <button class=\"colab-df-convert\" onclick=\"convertToInteractive('df-04e8ec21-16ad-4abc-b7ae-bafb491efcca')\"\n",
              "              title=\"Convert this dataframe to an interactive table.\"\n",
              "              style=\"display:none;\">\n",
              "        \n",
              "  <svg xmlns=\"http://www.w3.org/2000/svg\" height=\"24px\"viewBox=\"0 0 24 24\"\n",
              "       width=\"24px\">\n",
              "    <path d=\"M0 0h24v24H0V0z\" fill=\"none\"/>\n",
              "    <path d=\"M18.56 5.44l.94 2.06.94-2.06 2.06-.94-2.06-.94-.94-2.06-.94 2.06-2.06.94zm-11 1L8.5 8.5l.94-2.06 2.06-.94-2.06-.94L8.5 2.5l-.94 2.06-2.06.94zm10 10l.94 2.06.94-2.06 2.06-.94-2.06-.94-.94-2.06-.94 2.06-2.06.94z\"/><path d=\"M17.41 7.96l-1.37-1.37c-.4-.4-.92-.59-1.43-.59-.52 0-1.04.2-1.43.59L10.3 9.45l-7.72 7.72c-.78.78-.78 2.05 0 2.83L4 21.41c.39.39.9.59 1.41.59.51 0 1.02-.2 1.41-.59l7.78-7.78 2.81-2.81c.8-.78.8-2.07 0-2.86zM5.41 20L4 18.59l7.72-7.72 1.47 1.35L5.41 20z\"/>\n",
              "  </svg>\n",
              "      </button>\n",
              "      \n",
              "  <style>\n",
              "    .colab-df-container {\n",
              "      display:flex;\n",
              "      flex-wrap:wrap;\n",
              "      gap: 12px;\n",
              "    }\n",
              "\n",
              "    .colab-df-convert {\n",
              "      background-color: #E8F0FE;\n",
              "      border: none;\n",
              "      border-radius: 50%;\n",
              "      cursor: pointer;\n",
              "      display: none;\n",
              "      fill: #1967D2;\n",
              "      height: 32px;\n",
              "      padding: 0 0 0 0;\n",
              "      width: 32px;\n",
              "    }\n",
              "\n",
              "    .colab-df-convert:hover {\n",
              "      background-color: #E2EBFA;\n",
              "      box-shadow: 0px 1px 2px rgba(60, 64, 67, 0.3), 0px 1px 3px 1px rgba(60, 64, 67, 0.15);\n",
              "      fill: #174EA6;\n",
              "    }\n",
              "\n",
              "    [theme=dark] .colab-df-convert {\n",
              "      background-color: #3B4455;\n",
              "      fill: #D2E3FC;\n",
              "    }\n",
              "\n",
              "    [theme=dark] .colab-df-convert:hover {\n",
              "      background-color: #434B5C;\n",
              "      box-shadow: 0px 1px 3px 1px rgba(0, 0, 0, 0.15);\n",
              "      filter: drop-shadow(0px 1px 2px rgba(0, 0, 0, 0.3));\n",
              "      fill: #FFFFFF;\n",
              "    }\n",
              "  </style>\n",
              "\n",
              "      <script>\n",
              "        const buttonEl =\n",
              "          document.querySelector('#df-04e8ec21-16ad-4abc-b7ae-bafb491efcca button.colab-df-convert');\n",
              "        buttonEl.style.display =\n",
              "          google.colab.kernel.accessAllowed ? 'block' : 'none';\n",
              "\n",
              "        async function convertToInteractive(key) {\n",
              "          const element = document.querySelector('#df-04e8ec21-16ad-4abc-b7ae-bafb491efcca');\n",
              "          const dataTable =\n",
              "            await google.colab.kernel.invokeFunction('convertToInteractive',\n",
              "                                                     [key], {});\n",
              "          if (!dataTable) return;\n",
              "\n",
              "          const docLinkHtml = 'Like what you see? Visit the ' +\n",
              "            '<a target=\"_blank\" href=https://colab.research.google.com/notebooks/data_table.ipynb>data table notebook</a>'\n",
              "            + ' to learn more about interactive tables.';\n",
              "          element.innerHTML = '';\n",
              "          dataTable['output_type'] = 'display_data';\n",
              "          await google.colab.output.renderOutput(dataTable, element);\n",
              "          const docLink = document.createElement('div');\n",
              "          docLink.innerHTML = docLinkHtml;\n",
              "          element.appendChild(docLink);\n",
              "        }\n",
              "      </script>\n",
              "    </div>\n",
              "  </div>\n",
              "  "
            ],
            "text/plain": [
              "       locality_identifier  ...  enrolled_num\n",
              "0                       26  ...             1\n",
              "1                       26  ...             1\n",
              "2                       26  ...             1\n",
              "3                       26  ...             1\n",
              "4                       26  ...             1\n",
              "...                    ...  ...           ...\n",
              "19822                   35  ...             0\n",
              "19823                   40  ...             0\n",
              "19824                   40  ...             0\n",
              "19825                   40  ...             0\n",
              "19826                   40  ...             0\n",
              "\n",
              "[19827 rows x 22 columns]"
            ]
          },
          "metadata": {},
          "execution_count": 62
        }
      ]
    },
    {
      "cell_type": "markdown",
      "source": [
        "<p>The dataset includes a number of important variables you’ll use throughout this assignment:</p>\n",
        "<table class=\"table table-condensed\">\n",
        "<colgroup>\n",
        "<col width=\"24%\">\n",
        "<col width=\"75%\">\n",
        "</colgroup>\n",
        "<thead>\n",
        "<tr class=\"header\">\n",
        "<th>Variable name</th>\n",
        "<th>Description</th>\n",
        "</tr>\n",
        "</thead>\n",
        "<tbody>\n",
        "<tr class=\"odd\">\n",
        "<td><code>health_expenditures</code></td>\n",
        "<td>Out of pocket health expenditures (per person per year)</td>\n",
        "</tr>\n",
        "<tr class=\"even\">\n",
        "<td><code>eligible</code></td>\n",
        "<td>Household eligible to enroll in HISP</td>\n",
        "</tr>\n",
        "<tr class=\"odd\">\n",
        "<td><code>enrolled</code></td>\n",
        "<td>Household enrolled in HISP</td>\n",
        "</tr>\n",
        "<tr class=\"even\">\n",
        "<td><code>round</code></td>\n",
        "<td>Indicator for before and after intervention</td>\n",
        "</tr>\n",
        "<tr class=\"odd\">\n",
        "<td><code>treatment_locality</code></td>\n",
        "<td>Household is located in treatment community</td>\n",
        "</tr>\n",
        "<tr class=\"even\">\n",
        "<td><code>poverty_index</code></td>\n",
        "<td>1-100 scale of poverty</td>\n",
        "</tr>\n",
        "<tr class=\"odd\">\n",
        "<td><code>promotion_locality</code></td>\n",
        "<td>Household is located in community that received random promotion</td>\n",
        "</tr>\n",
        "<tr class=\"even\">\n",
        "<td><code>enrolled_rp</code></td>\n",
        "<td>Household enrolled in HISP following random promotion</td>\n",
        "</tr>\n",
        "</tbody>\n",
        "</table>\n",
        "<p>It also includes several demographic variables about the households. <strong>Each of these are backdoor confounders between health expenditures participation in the HISP</strong>:</p>\n",
        "<table class=\"table table-condensed\">\n",
        "<thead>\n",
        "<tr class=\"header\">\n",
        "<th>Variable name</th>\n",
        "<th>Description</th>\n",
        "</tr>\n",
        "</thead>\n",
        "<tbody>\n",
        "<tr class=\"odd\">\n",
        "<td><code>age_hh</code></td>\n",
        "<td>Age of the head of household (years)</td>\n",
        "</tr>\n",
        "<tr class=\"even\">\n",
        "<td><code>age_sp</code></td>\n",
        "<td>Age of the spouse (years)</td>\n",
        "</tr>\n",
        "<tr class=\"odd\">\n",
        "<td><code>educ_hh</code></td>\n",
        "<td>Education of the head of household (years)</td>\n",
        "</tr>\n",
        "<tr class=\"even\">\n",
        "<td><code>educ_sp</code></td>\n",
        "<td>Education of the spouse (years)</td>\n",
        "</tr>\n",
        "<tr class=\"odd\">\n",
        "<td><code>female_hh</code></td>\n",
        "<td>Head of household is a woman (1 = yes)</td>\n",
        "</tr>\n",
        "<tr class=\"even\">\n",
        "<td><code>indigenous</code></td>\n",
        "<td>Head of household speaks an indigenous language (1 = yes)</td>\n",
        "</tr>\n",
        "<tr class=\"odd\">\n",
        "<td><code>hhsize</code></td>\n",
        "<td>Number of household members</td>\n",
        "</tr>\n",
        "<tr class=\"even\">\n",
        "<td><code>dirtfloor</code></td>\n",
        "<td>Home has a dirt floor (1 = yes)</td>\n",
        "</tr>\n",
        "<tr class=\"odd\">\n",
        "<td><code>bathroom</code></td>\n",
        "<td>Home has a private bathroom (1 = yes)</td>\n",
        "</tr>\n",
        "<tr class=\"even\">\n",
        "<td><code>land</code></td>\n",
        "<td>Number of hectares of land owned by household</td>\n",
        "</tr>\n",
        "<tr class=\"odd\">\n",
        "<td><code>hospital_distance</code></td>\n",
        "<td>Distance to closest hospital (km)</td>\n",
        "</tr>\n",
        "</tbody>\n",
        "</table>"
      ],
      "metadata": {
        "id": "A4GdiZ9sDQVH"
      }
    },
    {
      "cell_type": "markdown",
      "source": [
        "## Dataframe cleaning"
      ],
      "metadata": {
        "id": "K1LW2S0w26LQ"
      }
    },
    {
      "cell_type": "code",
      "source": [
        "df = original_data_set"
      ],
      "metadata": {
        "id": "LiAlt_u75WVr"
      },
      "execution_count": 63,
      "outputs": []
    },
    {
      "cell_type": "markdown",
      "source": [
        "### General information on the dataframe\n",
        "\n",
        "Use the function `.info()` to get information regarding each column of the dataframe. Thus, we can now focus on the column which need to be patched (mostly the column with an , such as `treatment_locality`."
      ],
      "metadata": {
        "id": "PsxTfspJ3Ahx"
      }
    },
    {
      "cell_type": "code",
      "source": [
        "# Get column info\n",
        "df.info()"
      ],
      "metadata": {
        "colab": {
          "base_uri": "https://localhost:8080/"
        },
        "id": "USd0B3yn0MIs",
        "outputId": "7e48d473-6246-4bb5-edfd-384af5df02f8"
      },
      "execution_count": 64,
      "outputs": [
        {
          "output_type": "stream",
          "name": "stdout",
          "text": [
            "<class 'pandas.core.frame.DataFrame'>\n",
            "RangeIndex: 19827 entries, 0 to 19826\n",
            "Data columns (total 22 columns):\n",
            " #   Column                Non-Null Count  Dtype  \n",
            "---  ------                --------------  -----  \n",
            " 0   locality_identifier   19827 non-null  int64  \n",
            " 1   household_identifier  19827 non-null  int64  \n",
            " 2   treatment_locality    19827 non-null  object \n",
            " 3   promotion_locality    19827 non-null  object \n",
            " 4   eligible              19827 non-null  object \n",
            " 5   enrolled              19827 non-null  object \n",
            " 6   enrolled_rp           19827 non-null  int64  \n",
            " 7   poverty_index         19827 non-null  float64\n",
            " 8   round                 19827 non-null  object \n",
            " 9   health_expenditures   19827 non-null  float64\n",
            " 10  age_hh                19827 non-null  float64\n",
            " 11  age_sp                19827 non-null  int64  \n",
            " 12  educ_hh               19827 non-null  float64\n",
            " 13  educ_sp               19827 non-null  float64\n",
            " 14  female_hh             19827 non-null  int64  \n",
            " 15  indigenous            19827 non-null  int64  \n",
            " 16  hhsize                19827 non-null  int64  \n",
            " 17  dirtfloor             19827 non-null  int64  \n",
            " 18  bathroom              19827 non-null  int64  \n",
            " 19  land                  19827 non-null  int64  \n",
            " 20  hospital_distance     19827 non-null  float64\n",
            " 21  enrolled_num          19827 non-null  int64  \n",
            "dtypes: float64(6), int64(11), object(5)\n",
            "memory usage: 3.3+ MB\n"
          ]
        }
      ]
    },
    {
      "cell_type": "markdown",
      "source": [
        "### Adjustement of DType"
      ],
      "metadata": {
        "id": "7iqOjtH--3Fh"
      }
    },
    {
      "cell_type": "code",
      "source": [
        "# Change Dtype of the necessarty column\n",
        "df.treatment_locality = df.treatment_locality.astype('category')\n",
        "df.promotion_locality = df.promotion_locality.astype('category')\n",
        "df.eligible = df.eligible.astype('category')\n",
        "df.enrolled = df.enrolled.astype('category')\n",
        "df['round'] = df['round'].astype('category')"
      ],
      "metadata": {
        "id": "Bzer_Kac-2V_"
      },
      "execution_count": 65,
      "outputs": []
    },
    {
      "cell_type": "code",
      "source": [
        "# Check that all Dtype has been changed to the correct values\n",
        "df.info()"
      ],
      "metadata": {
        "colab": {
          "base_uri": "https://localhost:8080/"
        },
        "id": "E-U3GxWZAAvJ",
        "outputId": "4090f866-fbba-45d4-fec3-66d314d5df50"
      },
      "execution_count": 66,
      "outputs": [
        {
          "output_type": "stream",
          "name": "stdout",
          "text": [
            "<class 'pandas.core.frame.DataFrame'>\n",
            "RangeIndex: 19827 entries, 0 to 19826\n",
            "Data columns (total 22 columns):\n",
            " #   Column                Non-Null Count  Dtype   \n",
            "---  ------                --------------  -----   \n",
            " 0   locality_identifier   19827 non-null  int64   \n",
            " 1   household_identifier  19827 non-null  int64   \n",
            " 2   treatment_locality    19827 non-null  category\n",
            " 3   promotion_locality    19827 non-null  category\n",
            " 4   eligible              19827 non-null  category\n",
            " 5   enrolled              19827 non-null  category\n",
            " 6   enrolled_rp           19827 non-null  int64   \n",
            " 7   poverty_index         19827 non-null  float64 \n",
            " 8   round                 19827 non-null  category\n",
            " 9   health_expenditures   19827 non-null  float64 \n",
            " 10  age_hh                19827 non-null  float64 \n",
            " 11  age_sp                19827 non-null  int64   \n",
            " 12  educ_hh               19827 non-null  float64 \n",
            " 13  educ_sp               19827 non-null  float64 \n",
            " 14  female_hh             19827 non-null  int64   \n",
            " 15  indigenous            19827 non-null  int64   \n",
            " 16  hhsize                19827 non-null  int64   \n",
            " 17  dirtfloor             19827 non-null  int64   \n",
            " 18  bathroom              19827 non-null  int64   \n",
            " 19  land                  19827 non-null  int64   \n",
            " 20  hospital_distance     19827 non-null  float64 \n",
            " 21  enrolled_num          19827 non-null  int64   \n",
            "dtypes: category(5), float64(6), int64(11)\n",
            "memory usage: 2.7 MB\n"
          ]
        }
      ]
    },
    {
      "cell_type": "markdown",
      "source": [
        "## Descriptive Statistics"
      ],
      "metadata": {
        "id": "BKvBZMwI8fo2"
      }
    },
    {
      "cell_type": "code",
      "source": [
        "# Create Pearson correlation map to vizualise the different correlation in between the column\n",
        "fig = plt.figure(figsize=(7, 7))\n",
        "sns.heatmap(df.corr().abs(), vmax=1., square=True, cmap=\"YlGnBu\")\n",
        "plt.title(\"Correlation map\", fontsize=15)\n",
        "plt.show()"
      ],
      "metadata": {
        "colab": {
          "base_uri": "https://localhost:8080/",
          "height": 491
        },
        "id": "WnpR5GjHASft",
        "outputId": "85eb02d1-7525-4f08-eebd-e7e4a7f380bc"
      },
      "execution_count": 67,
      "outputs": [
        {
          "output_type": "display_data",
          "data": {
            "image/png": "[encoded data removed]",
            "text/plain": [
              "<Figure size 504x504 with 2 Axes>"
            ]
          },
          "metadata": {
            "needs_background": "light"
          }
        }
      ]
    },
    {
      "cell_type": "code",
      "source": [
        "corr_pearson = df.corr()\n",
        "corr_pearson.health_expenditures"
      ],
      "metadata": {
        "colab": {
          "base_uri": "https://localhost:8080/"
        },
        "id": "FRS5OCUCBIkK",
        "outputId": "7e5056db-048f-4866-d8a5-c344c646e2a3"
      },
      "execution_count": 68,
      "outputs": [
        {
          "output_type": "execute_result",
          "data": {
            "text/plain": [
              "locality_identifier    -0.025461\n",
              "household_identifier   -0.033246\n",
              "enrolled_rp            -0.406346\n",
              "poverty_index           0.428248\n",
              "health_expenditures     1.000000\n",
              "age_hh                  0.257817\n",
              "age_sp                  0.184925\n",
              "educ_hh                -0.051597\n",
              "educ_sp                -0.027431\n",
              "female_hh               0.174227\n",
              "indigenous             -0.189984\n",
              "hhsize                 -0.536961\n",
              "dirtfloor              -0.194512\n",
              "bathroom                0.034342\n",
              "land                    0.069479\n",
              "hospital_distance      -0.061036\n",
              "enrolled_num           -0.412693\n",
              "Name: health_expenditures, dtype: float64"
            ]
          },
          "metadata": {},
          "execution_count": 68
        }
      ]
    },
    {
      "cell_type": "markdown",
      "source": [
        "We observe that some column seem to have a non negligable (> +/- 0.4) impact on the health_expenditures variable. Those are:\n",
        "*   enrolled_rp: \t**Household enrolled in HISP following random promotion** (-0.4)\n",
        "*   poverty_index: **1-100 scale of poverty** (0.42)\n",
        "*   hhsize: **Number of household members** (-0.54)\n",
        "*   enrolled_num: **Household enrolled in HISP** (-0.41)\n",
        "\n",
        "The higher the correlation the most positive impact the variable has on the `health_expenditure`, the lowest the correlation (close to -1) the most negative impact it has. Near 0 correlation values have a negligibable impact according to Pearson method (which is a linear correlation method).\n",
        "Which means that when `enrolled_rp` increase by 1, `health_expediture` decrease 0.4. On the contrary, when `poverty_index` increase by 1 `health_expenditure` increase by 0.42. "
      ],
      "metadata": {
        "id": "xP6whon-BXjd"
      }
    },
    {
      "cell_type": "markdown",
      "source": [
        "#### Household enrolled in HISP following random promotion"
      ],
      "metadata": {
        "id": "Op8FpSnrFYV1"
      }
    },
    {
      "cell_type": "code",
      "source": [
        "sns.displot(df, x=\"health_expenditures\", kde=False, col=\"enrolled_rp\")"
      ],
      "metadata": {
        "colab": {
          "base_uri": "https://localhost:8080/",
          "height": 386
        },
        "id": "GhojHX8iDr7-",
        "outputId": "6512963c-3c7d-4768-8465-f34cd60671e3"
      },
      "execution_count": 69,
      "outputs": [
        {
          "output_type": "execute_result",
          "data": {
            "text/plain": [
              "<seaborn.axisgrid.FacetGrid at 0x7f3db957d750>"
            ]
          },
          "metadata": {},
          "execution_count": 69
        },
        {
          "output_type": "display_data",
          "data": {
            "image/png": "[encoded data removed]",
            "text/plain": [
              "<Figure size 720x360 with 2 Axes>"
            ]
          },
          "metadata": {
            "needs_background": "light"
          }
        }
      ]
    },
    {
      "cell_type": "markdown",
      "source": [
        "Add plot description."
      ],
      "metadata": {
        "id": "pgXZP4_DHeMj"
      }
    },
    {
      "cell_type": "markdown",
      "source": [
        "#### Household enrolled in HISP following random promotion"
      ],
      "metadata": {
        "id": "uh3HT47xFe59"
      }
    },
    {
      "cell_type": "code",
      "source": [
        "sns.jointplot(x=\"health_expenditures\", y=\"poverty_index\", data=df)"
      ],
      "metadata": {
        "colab": {
          "base_uri": "https://localhost:8080/",
          "height": 458
        },
        "id": "_A9f3DxcEGpj",
        "outputId": "326f2051-4929-4d67-f108-7473d88ec01b"
      },
      "execution_count": 70,
      "outputs": [
        {
          "output_type": "execute_result",
          "data": {
            "text/plain": [
              "<seaborn.axisgrid.JointGrid at 0x7f3db953d090>"
            ]
          },
          "metadata": {},
          "execution_count": 70
        },
        {
          "output_type": "display_data",
          "data": {
            "image/png": "[encoded data removed]",
            "text/plain": [
              "<Figure size 432x432 with 3 Axes>"
            ]
          },
          "metadata": {
            "needs_background": "light"
          }
        }
      ]
    },
    {
      "cell_type": "markdown",
      "source": [
        "#### Number of household members"
      ],
      "metadata": {
        "id": "ojiReHBKFjYz"
      }
    },
    {
      "cell_type": "code",
      "source": [
        "sns.jointplot(x=\"health_expenditures\", y=\"hhsize\", data=df)"
      ],
      "metadata": {
        "colab": {
          "base_uri": "https://localhost:8080/",
          "height": 458
        },
        "id": "ttrSzoUhEvx2",
        "outputId": "275d8362-89e9-4fd0-f6df-d895ebf8c952"
      },
      "execution_count": 71,
      "outputs": [
        {
          "output_type": "execute_result",
          "data": {
            "text/plain": [
              "<seaborn.axisgrid.JointGrid at 0x7f3db9696b10>"
            ]
          },
          "metadata": {},
          "execution_count": 71
        },
        {
          "output_type": "display_data",
          "data": {
            "image/png": "[encoded data removed]",
            "text/plain": [
              "<Figure size 432x432 with 3 Axes>"
            ]
          },
          "metadata": {
            "needs_background": "light"
          }
        }
      ]
    },
    {
      "cell_type": "markdown",
      "source": [
        "#### Household enrolled in HISP"
      ],
      "metadata": {
        "id": "o7trHuZjFm1u"
      }
    },
    {
      "cell_type": "code",
      "source": [
        ""
      ],
      "metadata": {
        "id": "-7eoSONVE01z"
      },
      "execution_count": 71,
      "outputs": []
    },
    {
      "cell_type": "markdown",
      "source": [
        "## Split the Dataframe into a training and test sets"
      ],
      "metadata": {
        "id": "XnU-UIxF8rT4"
      }
    },
    {
      "cell_type": "markdown",
      "source": [
        "### Encoding of the non numerical variables"
      ],
      "metadata": {
        "id": "9lN4_Nk1H-22"
      }
    },
    {
      "cell_type": "markdown",
      "source": [
        "Non numerical variables need to be encoded into numerical one, so it can be interpreted correctly by a regression.\n",
        "\n",
        "To do so, we transform categorical data into number. For example, the column `treatment_locality` which countains two uniques values : `Control`& `Treatment` ; can be transformed into one column `Control`with value 0 or 1. If the value is 0, then it correspond to `Treatment` if it is 1, then it is `Control`."
      ],
      "metadata": {
        "id": "D8CdmQpLSg-P"
      }
    },
    {
      "cell_type": "code",
      "source": [
        "encoded_df = df"
      ],
      "metadata": {
        "id": "yRoVhLr8IE6e"
      },
      "execution_count": 72,
      "outputs": []
    },
    {
      "cell_type": "markdown",
      "source": [
        "##### treatment_locality"
      ],
      "metadata": {
        "id": "WgGQ3VjFJmPD"
      }
    },
    {
      "cell_type": "code",
      "source": [
        "encoded_df.treatment_locality = pd.get_dummies(encoded_df.treatment_locality).Control"
      ],
      "metadata": {
        "id": "-hInygSiIWud"
      },
      "execution_count": 73,
      "outputs": []
    },
    {
      "cell_type": "code",
      "source": [
        "encoded_df.treatment_locality"
      ],
      "metadata": {
        "colab": {
          "base_uri": "https://localhost:8080/"
        },
        "id": "ukM2IZdCU87I",
        "outputId": "2ba85609-fcb0-415a-a33d-279158835479"
      },
      "execution_count": 74,
      "outputs": [
        {
          "output_type": "execute_result",
          "data": {
            "text/plain": [
              "0        0\n",
              "1        0\n",
              "2        0\n",
              "3        0\n",
              "4        0\n",
              "        ..\n",
              "19822    1\n",
              "19823    0\n",
              "19824    0\n",
              "19825    0\n",
              "19826    0\n",
              "Name: treatment_locality, Length: 19827, dtype: uint8"
            ]
          },
          "metadata": {},
          "execution_count": 74
        }
      ]
    },
    {
      "cell_type": "markdown",
      "source": [
        "##### promotion_locality"
      ],
      "metadata": {
        "id": "VmdCOYUSJpfH"
      }
    },
    {
      "cell_type": "code",
      "source": [
        "encoded_df.promotion_locality = pd.get_dummies(encoded_df.promotion_locality).Promotion"
      ],
      "metadata": {
        "id": "kzy4t12yJsEM"
      },
      "execution_count": 80,
      "outputs": []
    },
    {
      "cell_type": "code",
      "source": [
        "encoded_df.promotion_locality"
      ],
      "metadata": {
        "colab": {
          "base_uri": "https://localhost:8080/"
        },
        "id": "_u2nbXigVVac",
        "outputId": "266e1100-17e0-4ec3-f693-4a60723eb1cc"
      },
      "execution_count": 81,
      "outputs": [
        {
          "output_type": "execute_result",
          "data": {
            "text/plain": [
              "0        1\n",
              "1        1\n",
              "2        1\n",
              "3        1\n",
              "4        1\n",
              "        ..\n",
              "19822    0\n",
              "19823    1\n",
              "19824    1\n",
              "19825    1\n",
              "19826    1\n",
              "Name: promotion_locality, Length: 19827, dtype: uint8"
            ]
          },
          "metadata": {},
          "execution_count": 81
        }
      ]
    },
    {
      "cell_type": "markdown",
      "source": [
        "##### eligible"
      ],
      "metadata": {
        "id": "pbAgrznIJsZM"
      }
    },
    {
      "cell_type": "code",
      "source": [
        "encoded_df.eligible = pd.get_dummies(encoded_df.eligible).Eligible"
      ],
      "metadata": {
        "id": "F0wGY-IRJty_"
      },
      "execution_count": 82,
      "outputs": []
    },
    {
      "cell_type": "code",
      "source": [
        "encoded_df.eligible"
      ],
      "metadata": {
        "colab": {
          "base_uri": "https://localhost:8080/"
        },
        "id": "yD5Uk7CEVjx6",
        "outputId": "b957d6fc-d392-4711-8f71-069ec9248cc1"
      },
      "execution_count": 83,
      "outputs": [
        {
          "output_type": "execute_result",
          "data": {
            "text/plain": [
              "0        1\n",
              "1        1\n",
              "2        1\n",
              "3        1\n",
              "4        1\n",
              "        ..\n",
              "19822    0\n",
              "19823    0\n",
              "19824    0\n",
              "19825    0\n",
              "19826    0\n",
              "Name: eligible, Length: 19827, dtype: uint8"
            ]
          },
          "metadata": {},
          "execution_count": 83
        }
      ]
    },
    {
      "cell_type": "markdown",
      "source": [
        "##### enrolled"
      ],
      "metadata": {
        "id": "Q4H0Jm7eJuWL"
      }
    },
    {
      "cell_type": "code",
      "source": [
        "encoded_df.enrolled = pd.get_dummies(encoded_df.enrolled).Enrolled"
      ],
      "metadata": {
        "id": "fukQKy2tJv1Z"
      },
      "execution_count": 84,
      "outputs": []
    },
    {
      "cell_type": "code",
      "source": [
        "encoded_df.enrolled"
      ],
      "metadata": {
        "colab": {
          "base_uri": "https://localhost:8080/"
        },
        "id": "iZVOxS5eVtun",
        "outputId": "31eb440b-06d1-471a-977e-a5be9624a451"
      },
      "execution_count": 85,
      "outputs": [
        {
          "output_type": "execute_result",
          "data": {
            "text/plain": [
              "0        1\n",
              "1        1\n",
              "2        1\n",
              "3        1\n",
              "4        1\n",
              "        ..\n",
              "19822    0\n",
              "19823    0\n",
              "19824    0\n",
              "19825    0\n",
              "19826    0\n",
              "Name: enrolled, Length: 19827, dtype: uint8"
            ]
          },
          "metadata": {},
          "execution_count": 85
        }
      ]
    },
    {
      "cell_type": "markdown",
      "source": [
        "##### round"
      ],
      "metadata": {
        "id": "bLxDWccWJwOv"
      }
    },
    {
      "cell_type": "code",
      "source": [
        "encoded_df['round'] = pd.get_dummies(encoded_df['round'])['After']"
      ],
      "metadata": {
        "id": "kZOd3GN3J57l"
      },
      "execution_count": 86,
      "outputs": []
    },
    {
      "cell_type": "code",
      "source": [
        "encoded_df['round']"
      ],
      "metadata": {
        "colab": {
          "base_uri": "https://localhost:8080/"
        },
        "id": "_hWPzdxQV5jQ",
        "outputId": "5cf2b986-492e-4f64-c85b-82561c040ca9"
      },
      "execution_count": 87,
      "outputs": [
        {
          "output_type": "execute_result",
          "data": {
            "text/plain": [
              "0        0\n",
              "1        1\n",
              "2        0\n",
              "3        1\n",
              "4        1\n",
              "        ..\n",
              "19822    0\n",
              "19823    0\n",
              "19824    1\n",
              "19825    0\n",
              "19826    1\n",
              "Name: round, Length: 19827, dtype: uint8"
            ]
          },
          "metadata": {},
          "execution_count": 87
        }
      ]
    },
    {
      "cell_type": "markdown",
      "source": [
        "##### Check"
      ],
      "metadata": {
        "id": "CLNupEonV7Jm"
      }
    },
    {
      "cell_type": "code",
      "source": [
        "encoded_df"
      ],
      "metadata": {
        "colab": {
          "base_uri": "https://localhost:8080/",
          "height": 488
        },
        "id": "SnTVUHyQV9hD",
        "outputId": "46fa8028-4d53-44a0-d8cd-0199bbe83d2d"
      },
      "execution_count": 88,
      "outputs": [
        {
          "output_type": "execute_result",
          "data": {
            "text/html": [
              "\n",
              "  <div id=\"df-412821da-ed8c-4e31-936e-f4b6cd173ed9\">\n",
              "    <div class=\"colab-df-container\">\n",
              "      <div>\n",
              "<style scoped>\n",
              "    .dataframe tbody tr th:only-of-type {\n",
              "        vertical-align: middle;\n",
              "    }\n",
              "\n",
              "    .dataframe tbody tr th {\n",
              "        vertical-align: top;\n",
              "    }\n",
              "\n",
              "    .dataframe thead th {\n",
              "        text-align: right;\n",
              "    }\n",
              "</style>\n",
              "<table border=\"1\" class=\"dataframe\">\n",
              "  <thead>\n",
              "    <tr style=\"text-align: right;\">\n",
              "      <th></th>\n",
              "      <th>locality_identifier</th>\n",
              "      <th>household_identifier</th>\n",
              "      <th>treatment_locality</th>\n",
              "      <th>promotion_locality</th>\n",
              "      <th>eligible</th>\n",
              "      <th>enrolled</th>\n",
              "      <th>enrolled_rp</th>\n",
              "      <th>poverty_index</th>\n",
              "      <th>round</th>\n",
              "      <th>health_expenditures</th>\n",
              "      <th>age_hh</th>\n",
              "      <th>age_sp</th>\n",
              "      <th>educ_hh</th>\n",
              "      <th>educ_sp</th>\n",
              "      <th>female_hh</th>\n",
              "      <th>indigenous</th>\n",
              "      <th>hhsize</th>\n",
              "      <th>dirtfloor</th>\n",
              "      <th>bathroom</th>\n",
              "      <th>land</th>\n",
              "      <th>hospital_distance</th>\n",
              "      <th>enrolled_num</th>\n",
              "    </tr>\n",
              "  </thead>\n",
              "  <tbody>\n",
              "    <tr>\n",
              "      <th>0</th>\n",
              "      <td>26</td>\n",
              "      <td>5</td>\n",
              "      <td>0</td>\n",
              "      <td>1</td>\n",
              "      <td>1</td>\n",
              "      <td>1</td>\n",
              "      <td>1</td>\n",
              "      <td>55.950542</td>\n",
              "      <td>0</td>\n",
              "      <td>15.185455</td>\n",
              "      <td>24.0</td>\n",
              "      <td>23</td>\n",
              "      <td>0.0</td>\n",
              "      <td>6.0</td>\n",
              "      <td>0</td>\n",
              "      <td>0</td>\n",
              "      <td>4</td>\n",
              "      <td>1</td>\n",
              "      <td>0</td>\n",
              "      <td>1</td>\n",
              "      <td>124.819966</td>\n",
              "      <td>1</td>\n",
              "    </tr>\n",
              "    <tr>\n",
              "      <th>1</th>\n",
              "      <td>26</td>\n",
              "      <td>5</td>\n",
              "      <td>0</td>\n",
              "      <td>1</td>\n",
              "      <td>1</td>\n",
              "      <td>1</td>\n",
              "      <td>1</td>\n",
              "      <td>55.950542</td>\n",
              "      <td>1</td>\n",
              "      <td>19.580902</td>\n",
              "      <td>25.0</td>\n",
              "      <td>24</td>\n",
              "      <td>0.0</td>\n",
              "      <td>6.0</td>\n",
              "      <td>0</td>\n",
              "      <td>0</td>\n",
              "      <td>4</td>\n",
              "      <td>1</td>\n",
              "      <td>0</td>\n",
              "      <td>1</td>\n",
              "      <td>124.819966</td>\n",
              "      <td>1</td>\n",
              "    </tr>\n",
              "    <tr>\n",
              "      <th>2</th>\n",
              "      <td>26</td>\n",
              "      <td>11</td>\n",
              "      <td>0</td>\n",
              "      <td>1</td>\n",
              "      <td>1</td>\n",
              "      <td>1</td>\n",
              "      <td>0</td>\n",
              "      <td>46.058731</td>\n",
              "      <td>0</td>\n",
              "      <td>13.076257</td>\n",
              "      <td>30.0</td>\n",
              "      <td>26</td>\n",
              "      <td>4.0</td>\n",
              "      <td>0.0</td>\n",
              "      <td>0</td>\n",
              "      <td>0</td>\n",
              "      <td>6</td>\n",
              "      <td>1</td>\n",
              "      <td>0</td>\n",
              "      <td>2</td>\n",
              "      <td>124.819966</td>\n",
              "      <td>1</td>\n",
              "    </tr>\n",
              "    <tr>\n",
              "      <th>3</th>\n",
              "      <td>26</td>\n",
              "      <td>11</td>\n",
              "      <td>0</td>\n",
              "      <td>1</td>\n",
              "      <td>1</td>\n",
              "      <td>1</td>\n",
              "      <td>0</td>\n",
              "      <td>46.058731</td>\n",
              "      <td>1</td>\n",
              "      <td>2.398854</td>\n",
              "      <td>31.0</td>\n",
              "      <td>27</td>\n",
              "      <td>4.0</td>\n",
              "      <td>0.0</td>\n",
              "      <td>0</td>\n",
              "      <td>0</td>\n",
              "      <td>6</td>\n",
              "      <td>1</td>\n",
              "      <td>0</td>\n",
              "      <td>2</td>\n",
              "      <td>124.819966</td>\n",
              "      <td>1</td>\n",
              "    </tr>\n",
              "    <tr>\n",
              "      <th>4</th>\n",
              "      <td>26</td>\n",
              "      <td>13</td>\n",
              "      <td>0</td>\n",
              "      <td>1</td>\n",
              "      <td>1</td>\n",
              "      <td>1</td>\n",
              "      <td>0</td>\n",
              "      <td>54.095825</td>\n",
              "      <td>1</td>\n",
              "      <td>0.000000</td>\n",
              "      <td>59.0</td>\n",
              "      <td>57</td>\n",
              "      <td>0.0</td>\n",
              "      <td>0.0</td>\n",
              "      <td>0</td>\n",
              "      <td>0</td>\n",
              "      <td>6</td>\n",
              "      <td>1</td>\n",
              "      <td>0</td>\n",
              "      <td>4</td>\n",
              "      <td>124.819966</td>\n",
              "      <td>1</td>\n",
              "    </tr>\n",
              "    <tr>\n",
              "      <th>...</th>\n",
              "      <td>...</td>\n",
              "      <td>...</td>\n",
              "      <td>...</td>\n",
              "      <td>...</td>\n",
              "      <td>...</td>\n",
              "      <td>...</td>\n",
              "      <td>...</td>\n",
              "      <td>...</td>\n",
              "      <td>...</td>\n",
              "      <td>...</td>\n",
              "      <td>...</td>\n",
              "      <td>...</td>\n",
              "      <td>...</td>\n",
              "      <td>...</td>\n",
              "      <td>...</td>\n",
              "      <td>...</td>\n",
              "      <td>...</td>\n",
              "      <td>...</td>\n",
              "      <td>...</td>\n",
              "      <td>...</td>\n",
              "      <td>...</td>\n",
              "      <td>...</td>\n",
              "    </tr>\n",
              "    <tr>\n",
              "      <th>19822</th>\n",
              "      <td>35</td>\n",
              "      <td>15738</td>\n",
              "      <td>1</td>\n",
              "      <td>0</td>\n",
              "      <td>0</td>\n",
              "      <td>0</td>\n",
              "      <td>0</td>\n",
              "      <td>59.737247</td>\n",
              "      <td>0</td>\n",
              "      <td>16.811539</td>\n",
              "      <td>52.0</td>\n",
              "      <td>41</td>\n",
              "      <td>0.0</td>\n",
              "      <td>2.0</td>\n",
              "      <td>0</td>\n",
              "      <td>1</td>\n",
              "      <td>7</td>\n",
              "      <td>0</td>\n",
              "      <td>1</td>\n",
              "      <td>2</td>\n",
              "      <td>162.748811</td>\n",
              "      <td>0</td>\n",
              "    </tr>\n",
              "    <tr>\n",
              "      <th>19823</th>\n",
              "      <td>40</td>\n",
              "      <td>15769</td>\n",
              "      <td>0</td>\n",
              "      <td>1</td>\n",
              "      <td>0</td>\n",
              "      <td>0</td>\n",
              "      <td>0</td>\n",
              "      <td>62.055641</td>\n",
              "      <td>0</td>\n",
              "      <td>15.906003</td>\n",
              "      <td>51.0</td>\n",
              "      <td>40</td>\n",
              "      <td>5.0</td>\n",
              "      <td>2.0</td>\n",
              "      <td>0</td>\n",
              "      <td>1</td>\n",
              "      <td>5</td>\n",
              "      <td>1</td>\n",
              "      <td>1</td>\n",
              "      <td>1</td>\n",
              "      <td>114.763392</td>\n",
              "      <td>0</td>\n",
              "    </tr>\n",
              "    <tr>\n",
              "      <th>19824</th>\n",
              "      <td>40</td>\n",
              "      <td>15769</td>\n",
              "      <td>0</td>\n",
              "      <td>1</td>\n",
              "      <td>0</td>\n",
              "      <td>0</td>\n",
              "      <td>0</td>\n",
              "      <td>62.055641</td>\n",
              "      <td>1</td>\n",
              "      <td>8.248152</td>\n",
              "      <td>52.0</td>\n",
              "      <td>41</td>\n",
              "      <td>5.0</td>\n",
              "      <td>2.0</td>\n",
              "      <td>0</td>\n",
              "      <td>1</td>\n",
              "      <td>5</td>\n",
              "      <td>1</td>\n",
              "      <td>1</td>\n",
              "      <td>1</td>\n",
              "      <td>114.763392</td>\n",
              "      <td>0</td>\n",
              "    </tr>\n",
              "    <tr>\n",
              "      <th>19825</th>\n",
              "      <td>40</td>\n",
              "      <td>15778</td>\n",
              "      <td>0</td>\n",
              "      <td>1</td>\n",
              "      <td>0</td>\n",
              "      <td>0</td>\n",
              "      <td>0</td>\n",
              "      <td>62.828438</td>\n",
              "      <td>0</td>\n",
              "      <td>8.737772</td>\n",
              "      <td>58.0</td>\n",
              "      <td>49</td>\n",
              "      <td>3.0</td>\n",
              "      <td>0.0</td>\n",
              "      <td>0</td>\n",
              "      <td>1</td>\n",
              "      <td>9</td>\n",
              "      <td>1</td>\n",
              "      <td>1</td>\n",
              "      <td>4</td>\n",
              "      <td>114.763392</td>\n",
              "      <td>0</td>\n",
              "    </tr>\n",
              "    <tr>\n",
              "      <th>19826</th>\n",
              "      <td>40</td>\n",
              "      <td>15778</td>\n",
              "      <td>0</td>\n",
              "      <td>1</td>\n",
              "      <td>0</td>\n",
              "      <td>0</td>\n",
              "      <td>0</td>\n",
              "      <td>62.828438</td>\n",
              "      <td>1</td>\n",
              "      <td>10.366098</td>\n",
              "      <td>59.0</td>\n",
              "      <td>50</td>\n",
              "      <td>3.0</td>\n",
              "      <td>0.0</td>\n",
              "      <td>0</td>\n",
              "      <td>1</td>\n",
              "      <td>9</td>\n",
              "      <td>1</td>\n",
              "      <td>1</td>\n",
              "      <td>4</td>\n",
              "      <td>114.763392</td>\n",
              "      <td>0</td>\n",
              "    </tr>\n",
              "  </tbody>\n",
              "</table>\n",
              "<p>19827 rows × 22 columns</p>\n",
              "</div>\n",
              "      <button class=\"colab-df-convert\" onclick=\"convertToInteractive('df-412821da-ed8c-4e31-936e-f4b6cd173ed9')\"\n",
              "              title=\"Convert this dataframe to an interactive table.\"\n",
              "              style=\"display:none;\">\n",
              "        \n",
              "  <svg xmlns=\"http://www.w3.org/2000/svg\" height=\"24px\"viewBox=\"0 0 24 24\"\n",
              "       width=\"24px\">\n",
              "    <path d=\"M0 0h24v24H0V0z\" fill=\"none\"/>\n",
              "    <path d=\"M18.56 5.44l.94 2.06.94-2.06 2.06-.94-2.06-.94-.94-2.06-.94 2.06-2.06.94zm-11 1L8.5 8.5l.94-2.06 2.06-.94-2.06-.94L8.5 2.5l-.94 2.06-2.06.94zm10 10l.94 2.06.94-2.06 2.06-.94-2.06-.94-.94-2.06-.94 2.06-2.06.94z\"/><path d=\"M17.41 7.96l-1.37-1.37c-.4-.4-.92-.59-1.43-.59-.52 0-1.04.2-1.43.59L10.3 9.45l-7.72 7.72c-.78.78-.78 2.05 0 2.83L4 21.41c.39.39.9.59 1.41.59.51 0 1.02-.2 1.41-.59l7.78-7.78 2.81-2.81c.8-.78.8-2.07 0-2.86zM5.41 20L4 18.59l7.72-7.72 1.47 1.35L5.41 20z\"/>\n",
              "  </svg>\n",
              "      </button>\n",
              "      \n",
              "  <style>\n",
              "    .colab-df-container {\n",
              "      display:flex;\n",
              "      flex-wrap:wrap;\n",
              "      gap: 12px;\n",
              "    }\n",
              "\n",
              "    .colab-df-convert {\n",
              "      background-color: #E8F0FE;\n",
              "      border: none;\n",
              "      border-radius: 50%;\n",
              "      cursor: pointer;\n",
              "      display: none;\n",
              "      fill: #1967D2;\n",
              "      height: 32px;\n",
              "      padding: 0 0 0 0;\n",
              "      width: 32px;\n",
              "    }\n",
              "\n",
              "    .colab-df-convert:hover {\n",
              "      background-color: #E2EBFA;\n",
              "      box-shadow: 0px 1px 2px rgba(60, 64, 67, 0.3), 0px 1px 3px 1px rgba(60, 64, 67, 0.15);\n",
              "      fill: #174EA6;\n",
              "    }\n",
              "\n",
              "    [theme=dark] .colab-df-convert {\n",
              "      background-color: #3B4455;\n",
              "      fill: #D2E3FC;\n",
              "    }\n",
              "\n",
              "    [theme=dark] .colab-df-convert:hover {\n",
              "      background-color: #434B5C;\n",
              "      box-shadow: 0px 1px 3px 1px rgba(0, 0, 0, 0.15);\n",
              "      filter: drop-shadow(0px 1px 2px rgba(0, 0, 0, 0.3));\n",
              "      fill: #FFFFFF;\n",
              "    }\n",
              "  </style>\n",
              "\n",
              "      <script>\n",
              "        const buttonEl =\n",
              "          document.querySelector('#df-412821da-ed8c-4e31-936e-f4b6cd173ed9 button.colab-df-convert');\n",
              "        buttonEl.style.display =\n",
              "          google.colab.kernel.accessAllowed ? 'block' : 'none';\n",
              "\n",
              "        async function convertToInteractive(key) {\n",
              "          const element = document.querySelector('#df-412821da-ed8c-4e31-936e-f4b6cd173ed9');\n",
              "          const dataTable =\n",
              "            await google.colab.kernel.invokeFunction('convertToInteractive',\n",
              "                                                     [key], {});\n",
              "          if (!dataTable) return;\n",
              "\n",
              "          const docLinkHtml = 'Like what you see? Visit the ' +\n",
              "            '<a target=\"_blank\" href=https://colab.research.google.com/notebooks/data_table.ipynb>data table notebook</a>'\n",
              "            + ' to learn more about interactive tables.';\n",
              "          element.innerHTML = '';\n",
              "          dataTable['output_type'] = 'display_data';\n",
              "          await google.colab.output.renderOutput(dataTable, element);\n",
              "          const docLink = document.createElement('div');\n",
              "          docLink.innerHTML = docLinkHtml;\n",
              "          element.appendChild(docLink);\n",
              "        }\n",
              "      </script>\n",
              "    </div>\n",
              "  </div>\n",
              "  "
            ],
            "text/plain": [
              "       locality_identifier  ...  enrolled_num\n",
              "0                       26  ...             1\n",
              "1                       26  ...             1\n",
              "2                       26  ...             1\n",
              "3                       26  ...             1\n",
              "4                       26  ...             1\n",
              "...                    ...  ...           ...\n",
              "19822                   35  ...             0\n",
              "19823                   40  ...             0\n",
              "19824                   40  ...             0\n",
              "19825                   40  ...             0\n",
              "19826                   40  ...             0\n",
              "\n",
              "[19827 rows x 22 columns]"
            ]
          },
          "metadata": {},
          "execution_count": 88
        }
      ]
    },
    {
      "cell_type": "code",
      "source": [
        "encoded_df.info()"
      ],
      "metadata": {
        "colab": {
          "base_uri": "https://localhost:8080/"
        },
        "id": "KFc7IRA-WAu-",
        "outputId": "02bc0543-5493-4846-e130-00877b88c2d0"
      },
      "execution_count": 92,
      "outputs": [
        {
          "output_type": "stream",
          "name": "stdout",
          "text": [
            "<class 'pandas.core.frame.DataFrame'>\n",
            "RangeIndex: 19827 entries, 0 to 19826\n",
            "Data columns (total 22 columns):\n",
            " #   Column                Non-Null Count  Dtype  \n",
            "---  ------                --------------  -----  \n",
            " 0   locality_identifier   19827 non-null  int64  \n",
            " 1   household_identifier  19827 non-null  int64  \n",
            " 2   treatment_locality    19827 non-null  uint8  \n",
            " 3   promotion_locality    19827 non-null  uint8  \n",
            " 4   eligible              19827 non-null  uint8  \n",
            " 5   enrolled              19827 non-null  uint8  \n",
            " 6   enrolled_rp           19827 non-null  int64  \n",
            " 7   poverty_index         19827 non-null  float64\n",
            " 8   round                 19827 non-null  uint8  \n",
            " 9   health_expenditures   19827 non-null  float64\n",
            " 10  age_hh                19827 non-null  float64\n",
            " 11  age_sp                19827 non-null  int64  \n",
            " 12  educ_hh               19827 non-null  float64\n",
            " 13  educ_sp               19827 non-null  float64\n",
            " 14  female_hh             19827 non-null  int64  \n",
            " 15  indigenous            19827 non-null  int64  \n",
            " 16  hhsize                19827 non-null  int64  \n",
            " 17  dirtfloor             19827 non-null  int64  \n",
            " 18  bathroom              19827 non-null  int64  \n",
            " 19  land                  19827 non-null  int64  \n",
            " 20  hospital_distance     19827 non-null  float64\n",
            " 21  enrolled_num          19827 non-null  int64  \n",
            "dtypes: float64(6), int64(11), uint8(5)\n",
            "memory usage: 2.7 MB\n"
          ]
        }
      ]
    },
    {
      "cell_type": "markdown",
      "source": [
        "OUr dataset (`encoded_df`) now only contains numerical (`uint8`, `int64`, or `float64`), so it is exploitable by a regression tool."
      ],
      "metadata": {
        "id": "BV9dPRFnWIuK"
      }
    },
    {
      "cell_type": "markdown",
      "source": [
        "### Split"
      ],
      "metadata": {
        "id": "OUgUDlybH80P"
      }
    },
    {
      "cell_type": "code",
      "source": [
        "X = encoded_df.drop(\"health_expenditures\", axis=1)\n",
        "Y = encoded_df.health_expenditures"
      ],
      "metadata": {
        "id": "C2k6kSQTWlVp"
      },
      "execution_count": 94,
      "outputs": []
    },
    {
      "cell_type": "code",
      "source": [
        "X_train, X_test, Y_train, Y_test = train_test_split(X, Y, test_size=0.2, random_state=42)"
      ],
      "metadata": {
        "id": "w0tYgfLDHmD6"
      },
      "execution_count": 97,
      "outputs": []
    },
    {
      "cell_type": "code",
      "source": [
        "print(f' X_train = {X_train.shape}\\n X_test = {X_test.shape}\\n Y_train = {Y_train.shape}\\n Y_test = {Y_test.shape}')"
      ],
      "metadata": {
        "colab": {
          "base_uri": "https://localhost:8080/"
        },
        "id": "BQu9sRs8XUrr",
        "outputId": "6877befd-54de-4ec1-a04d-0848f13e8b72"
      },
      "execution_count": 101,
      "outputs": [
        {
          "output_type": "stream",
          "name": "stdout",
          "text": [
            " X_train = (15861, 21)\n",
            " X_test = (3966, 21)\n",
            " Y_train = (15861,)\n",
            " Y_test = (3966,)\n"
          ]
        }
      ]
    },
    {
      "cell_type": "markdown",
      "source": [
        "## Linear Model"
      ],
      "metadata": {
        "id": "HhMOUMEm885e"
      }
    },
    {
      "cell_type": "markdown",
      "source": [
        "## Random Forest Model"
      ],
      "metadata": {
        "id": "25dlZzfL8-sx"
      }
    },
    {
      "cell_type": "markdown",
      "source": [
        "### Model creation"
      ],
      "metadata": {
        "id": "vVxdx6yNYXvy"
      }
    },
    {
      "cell_type": "code",
      "source": [
        ""
      ],
      "metadata": {
        "id": "LQZdktjbYXYU"
      },
      "execution_count": null,
      "outputs": []
    },
    {
      "cell_type": "markdown",
      "source": [
        "## Model comparison\n"
      ],
      "metadata": {
        "id": "U10gUp_V9BZt"
      }
    }
  ]
}