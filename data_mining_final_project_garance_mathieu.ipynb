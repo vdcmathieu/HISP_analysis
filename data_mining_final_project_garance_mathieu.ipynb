{
  "cells": [
    {
      "cell_type": "markdown",
      "metadata": {
        "id": "view-in-github",
        "colab_type": "text"
      },
      "source": [
        "<a href=\"https://colab.research.google.com/github/vdcmathieu/HISP_analysis/blob/main/data_mining_final_project_garance_mathieu.ipynb\" target=\"_parent\"><img src=\"https://colab.research.google.com/assets/colab-badge.svg\" alt=\"Open In Colab\"/></a>"
      ]
    },
    {
      "cell_type": "markdown",
      "metadata": {
        "id": "kWG7A2B-xDrt"
      },
      "source": [
        "# HISP Project"
      ]
    },
    {
      "cell_type": "markdown",
      "metadata": {
        "id": "P591Ll681cen"
      },
      "source": [
        "This project was made by Garance Décarsin & Mathieu Van de catsije."
      ]
    },
    {
      "cell_type": "markdown",
      "metadata": {
        "id": "eCoGffqj04OP"
      },
      "source": [
        "## Library\n",
        "\n",
        "This code imports the different mandatory library useful for the project. Such as Pandas, Numpy, Seaborn or Scikit."
      ]
    },
    {
      "cell_type": "code",
      "execution_count": 2,
      "metadata": {
        "id": "uKpDrStByR1f"
      },
      "outputs": [],
      "source": [
        "# Libraries Import\n",
        "import pandas as pd\n",
        "import numpy as np\n",
        "import seaborn as sns\n",
        "from sklearn.preprocessing import LabelEncoder\n",
        "import matplotlib.pyplot as plt\n",
        "from sklearn.model_selection import train_test_split"
      ]
    },
    {
      "cell_type": "markdown",
      "metadata": {
        "id": "N4u5paM11Fxi"
      },
      "source": [
        "## Data\n"
      ]
    },
    {
      "cell_type": "markdown",
      "metadata": {
        "id": "gk0jv9EeM9WG"
      },
      "source": [
        "### Import\n",
        "\n",
        "Import of the original dataset using GitHub. We're using Github to store the csv file with the *HISP* data, then importing it thanks to its raw url and the *read_csv* method from Pandas."
      ]
    },
    {
      "cell_type": "code",
      "execution_count": 3,
      "metadata": {
        "id": "6AqC6g9Ow8k7"
      },
      "outputs": [],
      "source": [
        "# Import of the dataset from GitHub into a Dataframe variable\n",
        "import pandas as pd\n",
        "url = \"https://raw.githubusercontent.com/vdcmathieu/hisp_project/main/HISP.csv\"\n",
        "original_data_set = pd.read_csv(url)"
      ]
    },
    {
      "cell_type": "markdown",
      "metadata": {
        "id": "ijUARFwWM_kz"
      },
      "source": [
        "### Visualization"
      ]
    },
    {
      "cell_type": "code",
      "execution_count": 4,
      "metadata": {
        "colab": {
          "base_uri": "https://localhost:8080/",
          "height": 574
        },
        "id": "ZkPGmvDAyk20",
        "outputId": "3a740772-2560-4ceb-d22a-4dc4e307f195"
      },
      "outputs": [
        {
          "output_type": "execute_result",
          "data": {
            "text/html": [
              "\n",
              "  <div id=\"df-81a75515-b754-4356-890d-fdd18f1c9620\">\n",
              "    <div class=\"colab-df-container\">\n",
              "      <div>\n",
              "<style scoped>\n",
              "    .dataframe tbody tr th:only-of-type {\n",
              "        vertical-align: middle;\n",
              "    }\n",
              "\n",
              "    .dataframe tbody tr th {\n",
              "        vertical-align: top;\n",
              "    }\n",
              "\n",
              "    .dataframe thead th {\n",
              "        text-align: right;\n",
              "    }\n",
              "</style>\n",
              "<table border=\"1\" class=\"dataframe\">\n",
              "  <thead>\n",
              "    <tr style=\"text-align: right;\">\n",
              "      <th></th>\n",
              "      <th>locality_identifier</th>\n",
              "      <th>household_identifier</th>\n",
              "      <th>treatment_locality</th>\n",
              "      <th>promotion_locality</th>\n",
              "      <th>eligible</th>\n",
              "      <th>enrolled</th>\n",
              "      <th>enrolled_rp</th>\n",
              "      <th>poverty_index</th>\n",
              "      <th>round</th>\n",
              "      <th>health_expenditures</th>\n",
              "      <th>age_hh</th>\n",
              "      <th>age_sp</th>\n",
              "      <th>educ_hh</th>\n",
              "      <th>educ_sp</th>\n",
              "      <th>female_hh</th>\n",
              "      <th>indigenous</th>\n",
              "      <th>hhsize</th>\n",
              "      <th>dirtfloor</th>\n",
              "      <th>bathroom</th>\n",
              "      <th>land</th>\n",
              "      <th>hospital_distance</th>\n",
              "      <th>enrolled_num</th>\n",
              "    </tr>\n",
              "  </thead>\n",
              "  <tbody>\n",
              "    <tr>\n",
              "      <th>0</th>\n",
              "      <td>26</td>\n",
              "      <td>5</td>\n",
              "      <td>Treatment</td>\n",
              "      <td>Promotion</td>\n",
              "      <td>Eligible</td>\n",
              "      <td>Enrolled</td>\n",
              "      <td>1</td>\n",
              "      <td>55.950542</td>\n",
              "      <td>Before</td>\n",
              "      <td>15.185455</td>\n",
              "      <td>24.0</td>\n",
              "      <td>23</td>\n",
              "      <td>0.0</td>\n",
              "      <td>6.0</td>\n",
              "      <td>0</td>\n",
              "      <td>0</td>\n",
              "      <td>4</td>\n",
              "      <td>1</td>\n",
              "      <td>0</td>\n",
              "      <td>1</td>\n",
              "      <td>124.819966</td>\n",
              "      <td>1</td>\n",
              "    </tr>\n",
              "    <tr>\n",
              "      <th>1</th>\n",
              "      <td>26</td>\n",
              "      <td>5</td>\n",
              "      <td>Treatment</td>\n",
              "      <td>Promotion</td>\n",
              "      <td>Eligible</td>\n",
              "      <td>Enrolled</td>\n",
              "      <td>1</td>\n",
              "      <td>55.950542</td>\n",
              "      <td>After</td>\n",
              "      <td>19.580902</td>\n",
              "      <td>25.0</td>\n",
              "      <td>24</td>\n",
              "      <td>0.0</td>\n",
              "      <td>6.0</td>\n",
              "      <td>0</td>\n",
              "      <td>0</td>\n",
              "      <td>4</td>\n",
              "      <td>1</td>\n",
              "      <td>0</td>\n",
              "      <td>1</td>\n",
              "      <td>124.819966</td>\n",
              "      <td>1</td>\n",
              "    </tr>\n",
              "    <tr>\n",
              "      <th>2</th>\n",
              "      <td>26</td>\n",
              "      <td>11</td>\n",
              "      <td>Treatment</td>\n",
              "      <td>Promotion</td>\n",
              "      <td>Eligible</td>\n",
              "      <td>Enrolled</td>\n",
              "      <td>0</td>\n",
              "      <td>46.058731</td>\n",
              "      <td>Before</td>\n",
              "      <td>13.076257</td>\n",
              "      <td>30.0</td>\n",
              "      <td>26</td>\n",
              "      <td>4.0</td>\n",
              "      <td>0.0</td>\n",
              "      <td>0</td>\n",
              "      <td>0</td>\n",
              "      <td>6</td>\n",
              "      <td>1</td>\n",
              "      <td>0</td>\n",
              "      <td>2</td>\n",
              "      <td>124.819966</td>\n",
              "      <td>1</td>\n",
              "    </tr>\n",
              "    <tr>\n",
              "      <th>3</th>\n",
              "      <td>26</td>\n",
              "      <td>11</td>\n",
              "      <td>Treatment</td>\n",
              "      <td>Promotion</td>\n",
              "      <td>Eligible</td>\n",
              "      <td>Enrolled</td>\n",
              "      <td>0</td>\n",
              "      <td>46.058731</td>\n",
              "      <td>After</td>\n",
              "      <td>2.398854</td>\n",
              "      <td>31.0</td>\n",
              "      <td>27</td>\n",
              "      <td>4.0</td>\n",
              "      <td>0.0</td>\n",
              "      <td>0</td>\n",
              "      <td>0</td>\n",
              "      <td>6</td>\n",
              "      <td>1</td>\n",
              "      <td>0</td>\n",
              "      <td>2</td>\n",
              "      <td>124.819966</td>\n",
              "      <td>1</td>\n",
              "    </tr>\n",
              "    <tr>\n",
              "      <th>4</th>\n",
              "      <td>26</td>\n",
              "      <td>13</td>\n",
              "      <td>Treatment</td>\n",
              "      <td>Promotion</td>\n",
              "      <td>Eligible</td>\n",
              "      <td>Enrolled</td>\n",
              "      <td>0</td>\n",
              "      <td>54.095825</td>\n",
              "      <td>After</td>\n",
              "      <td>0.000000</td>\n",
              "      <td>59.0</td>\n",
              "      <td>57</td>\n",
              "      <td>0.0</td>\n",
              "      <td>0.0</td>\n",
              "      <td>0</td>\n",
              "      <td>0</td>\n",
              "      <td>6</td>\n",
              "      <td>1</td>\n",
              "      <td>0</td>\n",
              "      <td>4</td>\n",
              "      <td>124.819966</td>\n",
              "      <td>1</td>\n",
              "    </tr>\n",
              "    <tr>\n",
              "      <th>...</th>\n",
              "      <td>...</td>\n",
              "      <td>...</td>\n",
              "      <td>...</td>\n",
              "      <td>...</td>\n",
              "      <td>...</td>\n",
              "      <td>...</td>\n",
              "      <td>...</td>\n",
              "      <td>...</td>\n",
              "      <td>...</td>\n",
              "      <td>...</td>\n",
              "      <td>...</td>\n",
              "      <td>...</td>\n",
              "      <td>...</td>\n",
              "      <td>...</td>\n",
              "      <td>...</td>\n",
              "      <td>...</td>\n",
              "      <td>...</td>\n",
              "      <td>...</td>\n",
              "      <td>...</td>\n",
              "      <td>...</td>\n",
              "      <td>...</td>\n",
              "      <td>...</td>\n",
              "    </tr>\n",
              "    <tr>\n",
              "      <th>19822</th>\n",
              "      <td>35</td>\n",
              "      <td>15738</td>\n",
              "      <td>Control</td>\n",
              "      <td>No promotion</td>\n",
              "      <td>Not eligible</td>\n",
              "      <td>Not enrolled</td>\n",
              "      <td>0</td>\n",
              "      <td>59.737247</td>\n",
              "      <td>Before</td>\n",
              "      <td>16.811539</td>\n",
              "      <td>52.0</td>\n",
              "      <td>41</td>\n",
              "      <td>0.0</td>\n",
              "      <td>2.0</td>\n",
              "      <td>0</td>\n",
              "      <td>1</td>\n",
              "      <td>7</td>\n",
              "      <td>0</td>\n",
              "      <td>1</td>\n",
              "      <td>2</td>\n",
              "      <td>162.748811</td>\n",
              "      <td>0</td>\n",
              "    </tr>\n",
              "    <tr>\n",
              "      <th>19823</th>\n",
              "      <td>40</td>\n",
              "      <td>15769</td>\n",
              "      <td>Treatment</td>\n",
              "      <td>Promotion</td>\n",
              "      <td>Not eligible</td>\n",
              "      <td>Not enrolled</td>\n",
              "      <td>0</td>\n",
              "      <td>62.055641</td>\n",
              "      <td>Before</td>\n",
              "      <td>15.906003</td>\n",
              "      <td>51.0</td>\n",
              "      <td>40</td>\n",
              "      <td>5.0</td>\n",
              "      <td>2.0</td>\n",
              "      <td>0</td>\n",
              "      <td>1</td>\n",
              "      <td>5</td>\n",
              "      <td>1</td>\n",
              "      <td>1</td>\n",
              "      <td>1</td>\n",
              "      <td>114.763392</td>\n",
              "      <td>0</td>\n",
              "    </tr>\n",
              "    <tr>\n",
              "      <th>19824</th>\n",
              "      <td>40</td>\n",
              "      <td>15769</td>\n",
              "      <td>Treatment</td>\n",
              "      <td>Promotion</td>\n",
              "      <td>Not eligible</td>\n",
              "      <td>Not enrolled</td>\n",
              "      <td>0</td>\n",
              "      <td>62.055641</td>\n",
              "      <td>After</td>\n",
              "      <td>8.248152</td>\n",
              "      <td>52.0</td>\n",
              "      <td>41</td>\n",
              "      <td>5.0</td>\n",
              "      <td>2.0</td>\n",
              "      <td>0</td>\n",
              "      <td>1</td>\n",
              "      <td>5</td>\n",
              "      <td>1</td>\n",
              "      <td>1</td>\n",
              "      <td>1</td>\n",
              "      <td>114.763392</td>\n",
              "      <td>0</td>\n",
              "    </tr>\n",
              "    <tr>\n",
              "      <th>19825</th>\n",
              "      <td>40</td>\n",
              "      <td>15778</td>\n",
              "      <td>Treatment</td>\n",
              "      <td>Promotion</td>\n",
              "      <td>Not eligible</td>\n",
              "      <td>Not enrolled</td>\n",
              "      <td>0</td>\n",
              "      <td>62.828438</td>\n",
              "      <td>Before</td>\n",
              "      <td>8.737772</td>\n",
              "      <td>58.0</td>\n",
              "      <td>49</td>\n",
              "      <td>3.0</td>\n",
              "      <td>0.0</td>\n",
              "      <td>0</td>\n",
              "      <td>1</td>\n",
              "      <td>9</td>\n",
              "      <td>1</td>\n",
              "      <td>1</td>\n",
              "      <td>4</td>\n",
              "      <td>114.763392</td>\n",
              "      <td>0</td>\n",
              "    </tr>\n",
              "    <tr>\n",
              "      <th>19826</th>\n",
              "      <td>40</td>\n",
              "      <td>15778</td>\n",
              "      <td>Treatment</td>\n",
              "      <td>Promotion</td>\n",
              "      <td>Not eligible</td>\n",
              "      <td>Not enrolled</td>\n",
              "      <td>0</td>\n",
              "      <td>62.828438</td>\n",
              "      <td>After</td>\n",
              "      <td>10.366098</td>\n",
              "      <td>59.0</td>\n",
              "      <td>50</td>\n",
              "      <td>3.0</td>\n",
              "      <td>0.0</td>\n",
              "      <td>0</td>\n",
              "      <td>1</td>\n",
              "      <td>9</td>\n",
              "      <td>1</td>\n",
              "      <td>1</td>\n",
              "      <td>4</td>\n",
              "      <td>114.763392</td>\n",
              "      <td>0</td>\n",
              "    </tr>\n",
              "  </tbody>\n",
              "</table>\n",
              "<p>19827 rows × 22 columns</p>\n",
              "</div>\n",
              "      <button class=\"colab-df-convert\" onclick=\"convertToInteractive('df-81a75515-b754-4356-890d-fdd18f1c9620')\"\n",
              "              title=\"Convert this dataframe to an interactive table.\"\n",
              "              style=\"display:none;\">\n",
              "        \n",
              "  <svg xmlns=\"http://www.w3.org/2000/svg\" height=\"24px\"viewBox=\"0 0 24 24\"\n",
              "       width=\"24px\">\n",
              "    <path d=\"M0 0h24v24H0V0z\" fill=\"none\"/>\n",
              "    <path d=\"M18.56 5.44l.94 2.06.94-2.06 2.06-.94-2.06-.94-.94-2.06-.94 2.06-2.06.94zm-11 1L8.5 8.5l.94-2.06 2.06-.94-2.06-.94L8.5 2.5l-.94 2.06-2.06.94zm10 10l.94 2.06.94-2.06 2.06-.94-2.06-.94-.94-2.06-.94 2.06-2.06.94z\"/><path d=\"M17.41 7.96l-1.37-1.37c-.4-.4-.92-.59-1.43-.59-.52 0-1.04.2-1.43.59L10.3 9.45l-7.72 7.72c-.78.78-.78 2.05 0 2.83L4 21.41c.39.39.9.59 1.41.59.51 0 1.02-.2 1.41-.59l7.78-7.78 2.81-2.81c.8-.78.8-2.07 0-2.86zM5.41 20L4 18.59l7.72-7.72 1.47 1.35L5.41 20z\"/>\n",
              "  </svg>\n",
              "      </button>\n",
              "      \n",
              "  <style>\n",
              "    .colab-df-container {\n",
              "      display:flex;\n",
              "      flex-wrap:wrap;\n",
              "      gap: 12px;\n",
              "    }\n",
              "\n",
              "    .colab-df-convert {\n",
              "      background-color: #E8F0FE;\n",
              "      border: none;\n",
              "      border-radius: 50%;\n",
              "      cursor: pointer;\n",
              "      display: none;\n",
              "      fill: #1967D2;\n",
              "      height: 32px;\n",
              "      padding: 0 0 0 0;\n",
              "      width: 32px;\n",
              "    }\n",
              "\n",
              "    .colab-df-convert:hover {\n",
              "      background-color: #E2EBFA;\n",
              "      box-shadow: 0px 1px 2px rgba(60, 64, 67, 0.3), 0px 1px 3px 1px rgba(60, 64, 67, 0.15);\n",
              "      fill: #174EA6;\n",
              "    }\n",
              "\n",
              "    [theme=dark] .colab-df-convert {\n",
              "      background-color: #3B4455;\n",
              "      fill: #D2E3FC;\n",
              "    }\n",
              "\n",
              "    [theme=dark] .colab-df-convert:hover {\n",
              "      background-color: #434B5C;\n",
              "      box-shadow: 0px 1px 3px 1px rgba(0, 0, 0, 0.15);\n",
              "      filter: drop-shadow(0px 1px 2px rgba(0, 0, 0, 0.3));\n",
              "      fill: #FFFFFF;\n",
              "    }\n",
              "  </style>\n",
              "\n",
              "      <script>\n",
              "        const buttonEl =\n",
              "          document.querySelector('#df-81a75515-b754-4356-890d-fdd18f1c9620 button.colab-df-convert');\n",
              "        buttonEl.style.display =\n",
              "          google.colab.kernel.accessAllowed ? 'block' : 'none';\n",
              "\n",
              "        async function convertToInteractive(key) {\n",
              "          const element = document.querySelector('#df-81a75515-b754-4356-890d-fdd18f1c9620');\n",
              "          const dataTable =\n",
              "            await google.colab.kernel.invokeFunction('convertToInteractive',\n",
              "                                                     [key], {});\n",
              "          if (!dataTable) return;\n",
              "\n",
              "          const docLinkHtml = 'Like what you see? Visit the ' +\n",
              "            '<a target=\"_blank\" href=https://colab.research.google.com/notebooks/data_table.ipynb>data table notebook</a>'\n",
              "            + ' to learn more about interactive tables.';\n",
              "          element.innerHTML = '';\n",
              "          dataTable['output_type'] = 'display_data';\n",
              "          await google.colab.output.renderOutput(dataTable, element);\n",
              "          const docLink = document.createElement('div');\n",
              "          docLink.innerHTML = docLinkHtml;\n",
              "          element.appendChild(docLink);\n",
              "        }\n",
              "      </script>\n",
              "    </div>\n",
              "  </div>\n",
              "  "
            ],
            "text/plain": [
              "       locality_identifier  ...  enrolled_num\n",
              "0                       26  ...             1\n",
              "1                       26  ...             1\n",
              "2                       26  ...             1\n",
              "3                       26  ...             1\n",
              "4                       26  ...             1\n",
              "...                    ...  ...           ...\n",
              "19822                   35  ...             0\n",
              "19823                   40  ...             0\n",
              "19824                   40  ...             0\n",
              "19825                   40  ...             0\n",
              "19826                   40  ...             0\n",
              "\n",
              "[19827 rows x 22 columns]"
            ]
          },
          "metadata": {},
          "execution_count": 4
        }
      ],
      "source": [
        "# Display of the Dataframe with the original data\n",
        "original_data_set"
      ]
    },
    {
      "cell_type": "markdown",
      "metadata": {
        "id": "mzFIVoSrNR7T"
      },
      "source": [
        "### Variables meaning"
      ]
    },
    {
      "cell_type": "markdown",
      "metadata": {
        "id": "A4GdiZ9sDQVH"
      },
      "source": [
        "<p>The dataset includes a number of important variables you’ll use throughout this assignment:</p>\n",
        "<table class=\"table table-condensed\">\n",
        "<colgroup>\n",
        "<col width=\"24%\">\n",
        "<col width=\"75%\">\n",
        "</colgroup>\n",
        "<thead>\n",
        "<tr class=\"header\">\n",
        "<th>Variable name</th>\n",
        "<th>Description</th>\n",
        "</tr>\n",
        "</thead>\n",
        "<tbody>\n",
        "<tr class=\"odd\">\n",
        "<td><code>health_expenditures</code></td>\n",
        "<td>Out of pocket health expenditures (per person per year)</td>\n",
        "</tr>\n",
        "<tr class=\"even\">\n",
        "<td><code>eligible</code></td>\n",
        "<td>Household eligible to enroll in HISP</td>\n",
        "</tr>\n",
        "<tr class=\"odd\">\n",
        "<td><code>enrolled</code></td>\n",
        "<td>Household enrolled in HISP</td>\n",
        "</tr>\n",
        "<tr class=\"even\">\n",
        "<td><code>round</code></td>\n",
        "<td>Indicator for before and after intervention</td>\n",
        "</tr>\n",
        "<tr class=\"odd\">\n",
        "<td><code>treatment_locality</code></td>\n",
        "<td>Household is located in treatment community</td>\n",
        "</tr>\n",
        "<tr class=\"even\">\n",
        "<td><code>poverty_index</code></td>\n",
        "<td>1-100 scale of poverty</td>\n",
        "</tr>\n",
        "<tr class=\"odd\">\n",
        "<td><code>promotion_locality</code></td>\n",
        "<td>Household is located in community that received random promotion</td>\n",
        "</tr>\n",
        "<tr class=\"even\">\n",
        "<td><code>enrolled_rp</code></td>\n",
        "<td>Household enrolled in HISP following random promotion</td>\n",
        "</tr>\n",
        "</tbody>\n",
        "</table>\n",
        "<p>It also includes several demographic variables about the households. <strong>Each of these are backdoor confounders between health expenditures participation in the HISP</strong>:</p>\n",
        "<table class=\"table table-condensed\">\n",
        "<thead>\n",
        "<tr class=\"header\">\n",
        "<th>Variable name</th>\n",
        "<th>Description</th>\n",
        "</tr>\n",
        "</thead>\n",
        "<tbody>\n",
        "<tr class=\"odd\">\n",
        "<td><code>age_hh</code></td>\n",
        "<td>Age of the head of household (years)</td>\n",
        "</tr>\n",
        "<tr class=\"even\">\n",
        "<td><code>age_sp</code></td>\n",
        "<td>Age of the spouse (years)</td>\n",
        "</tr>\n",
        "<tr class=\"odd\">\n",
        "<td><code>educ_hh</code></td>\n",
        "<td>Education of the head of household (years)</td>\n",
        "</tr>\n",
        "<tr class=\"even\">\n",
        "<td><code>educ_sp</code></td>\n",
        "<td>Education of the spouse (years)</td>\n",
        "</tr>\n",
        "<tr class=\"odd\">\n",
        "<td><code>female_hh</code></td>\n",
        "<td>Head of household is a woman (1 = yes)</td>\n",
        "</tr>\n",
        "<tr class=\"even\">\n",
        "<td><code>indigenous</code></td>\n",
        "<td>Head of household speaks an indigenous language (1 = yes)</td>\n",
        "</tr>\n",
        "<tr class=\"odd\">\n",
        "<td><code>hhsize</code></td>\n",
        "<td>Number of household members</td>\n",
        "</tr>\n",
        "<tr class=\"even\">\n",
        "<td><code>dirtfloor</code></td>\n",
        "<td>Home has a dirt floor (1 = yes)</td>\n",
        "</tr>\n",
        "<tr class=\"odd\">\n",
        "<td><code>bathroom</code></td>\n",
        "<td>Home has a private bathroom (1 = yes)</td>\n",
        "</tr>\n",
        "<tr class=\"even\">\n",
        "<td><code>land</code></td>\n",
        "<td>Number of hectares of land owned by household</td>\n",
        "</tr>\n",
        "<tr class=\"odd\">\n",
        "<td><code>hospital_distance</code></td>\n",
        "<td>Distance to closest hospital (km)</td>\n",
        "</tr>\n",
        "</tbody>\n",
        "</table>"
      ]
    },
    {
      "cell_type": "markdown",
      "metadata": {
        "id": "K1LW2S0w26LQ"
      },
      "source": [
        "## Data cleaning"
      ]
    },
    {
      "cell_type": "code",
      "execution_count": 5,
      "metadata": {
        "id": "LiAlt_u75WVr"
      },
      "outputs": [],
      "source": [
        "df = original_data_set.copy()"
      ]
    },
    {
      "cell_type": "markdown",
      "metadata": {
        "id": "PsxTfspJ3Ahx"
      },
      "source": [
        "### General information on the dataframe\n",
        "\n",
        "Use the function `.info()` to get information regarding each column of the dataframe. Thus, we can now focus on the column which need to be patched (mostly the column with an , such as `treatment_locality`."
      ]
    },
    {
      "cell_type": "code",
      "execution_count": 6,
      "metadata": {
        "colab": {
          "base_uri": "https://localhost:8080/"
        },
        "id": "USd0B3yn0MIs",
        "outputId": "8f6faa91-cf54-4f36-e7a0-5e389cb5174e"
      },
      "outputs": [
        {
          "output_type": "stream",
          "name": "stdout",
          "text": [
            "<class 'pandas.core.frame.DataFrame'>\n",
            "RangeIndex: 19827 entries, 0 to 19826\n",
            "Data columns (total 22 columns):\n",
            " #   Column                Non-Null Count  Dtype  \n",
            "---  ------                --------------  -----  \n",
            " 0   locality_identifier   19827 non-null  int64  \n",
            " 1   household_identifier  19827 non-null  int64  \n",
            " 2   treatment_locality    19827 non-null  object \n",
            " 3   promotion_locality    19827 non-null  object \n",
            " 4   eligible              19827 non-null  object \n",
            " 5   enrolled              19827 non-null  object \n",
            " 6   enrolled_rp           19827 non-null  int64  \n",
            " 7   poverty_index         19827 non-null  float64\n",
            " 8   round                 19827 non-null  object \n",
            " 9   health_expenditures   19827 non-null  float64\n",
            " 10  age_hh                19827 non-null  float64\n",
            " 11  age_sp                19827 non-null  int64  \n",
            " 12  educ_hh               19827 non-null  float64\n",
            " 13  educ_sp               19827 non-null  float64\n",
            " 14  female_hh             19827 non-null  int64  \n",
            " 15  indigenous            19827 non-null  int64  \n",
            " 16  hhsize                19827 non-null  int64  \n",
            " 17  dirtfloor             19827 non-null  int64  \n",
            " 18  bathroom              19827 non-null  int64  \n",
            " 19  land                  19827 non-null  int64  \n",
            " 20  hospital_distance     19827 non-null  float64\n",
            " 21  enrolled_num          19827 non-null  int64  \n",
            "dtypes: float64(6), int64(11), object(5)\n",
            "memory usage: 3.3+ MB\n"
          ]
        }
      ],
      "source": [
        "# Get column info\n",
        "df.info()"
      ]
    },
    {
      "cell_type": "markdown",
      "metadata": {
        "id": "5AmT_cIBRt64"
      },
      "source": [
        "### Delete double"
      ]
    },
    {
      "cell_type": "markdown",
      "metadata": {
        "id": "Xo0UgHDWRw6y"
      },
      "source": [
        "#### enrolled_num"
      ]
    },
    {
      "cell_type": "markdown",
      "metadata": {
        "id": "qmq8SC-NR0S4"
      },
      "source": [
        "It seems that `enrolled_num`is a simple duplica of `enrolled`. Let's check if it is true. If it is, we delete `enrolled_num`."
      ]
    },
    {
      "cell_type": "code",
      "execution_count": 7,
      "metadata": {
        "colab": {
          "base_uri": "https://localhost:8080/"
        },
        "id": "rVdRILH3RveX",
        "outputId": "f07c8ce5-2e1b-43ed-ee2f-bb90bf095f6c"
      },
      "outputs": [
        {
          "output_type": "execute_result",
          "data": {
            "text/plain": [
              "True"
            ]
          },
          "metadata": {},
          "execution_count": 7
        }
      ],
      "source": [
        "# Check if the two column are indeed the same\n",
        "df.enrolled.replace({\"Enrolled\":1, \"Not enrolled\":0}).equals(df.enrolled_num)"
      ]
    },
    {
      "cell_type": "markdown",
      "metadata": {
        "id": "Kr8gs-_HTTyN"
      },
      "source": [
        "The two column seems indeed to be the same (`.equals()` returns `True`). We can delete the `enrolled_num` column, using the `.drop()` method from *Pandas*."
      ]
    },
    {
      "cell_type": "code",
      "execution_count": 8,
      "metadata": {
        "id": "P4eifyyiTozS"
      },
      "outputs": [],
      "source": [
        "# We delete the column named 'enrolled_num'\n",
        "df = df.drop(columns=[\"enrolled_num\"])"
      ]
    },
    {
      "cell_type": "markdown",
      "metadata": {
        "id": "7iqOjtH--3Fh"
      },
      "source": [
        "### Adjustement of DType"
      ]
    },
    {
      "cell_type": "code",
      "execution_count": 9,
      "metadata": {
        "id": "Bzer_Kac-2V_"
      },
      "outputs": [],
      "source": [
        "# Change Dtype of the necessarty column\n",
        "df.treatment_locality = df.treatment_locality.astype('category')\n",
        "df.promotion_locality = df.promotion_locality.astype('category')\n",
        "df.eligible = df.eligible.astype('category')\n",
        "df.enrolled = df.enrolled.astype('category')\n",
        "df['round'] = df['round'].astype('category')"
      ]
    },
    {
      "cell_type": "code",
      "execution_count": 10,
      "metadata": {
        "colab": {
          "base_uri": "https://localhost:8080/"
        },
        "id": "E-U3GxWZAAvJ",
        "outputId": "757d5288-e828-4de6-9733-8147e9f134aa"
      },
      "outputs": [
        {
          "output_type": "stream",
          "name": "stdout",
          "text": [
            "<class 'pandas.core.frame.DataFrame'>\n",
            "RangeIndex: 19827 entries, 0 to 19826\n",
            "Data columns (total 21 columns):\n",
            " #   Column                Non-Null Count  Dtype   \n",
            "---  ------                --------------  -----   \n",
            " 0   locality_identifier   19827 non-null  int64   \n",
            " 1   household_identifier  19827 non-null  int64   \n",
            " 2   treatment_locality    19827 non-null  category\n",
            " 3   promotion_locality    19827 non-null  category\n",
            " 4   eligible              19827 non-null  category\n",
            " 5   enrolled              19827 non-null  category\n",
            " 6   enrolled_rp           19827 non-null  int64   \n",
            " 7   poverty_index         19827 non-null  float64 \n",
            " 8   round                 19827 non-null  category\n",
            " 9   health_expenditures   19827 non-null  float64 \n",
            " 10  age_hh                19827 non-null  float64 \n",
            " 11  age_sp                19827 non-null  int64   \n",
            " 12  educ_hh               19827 non-null  float64 \n",
            " 13  educ_sp               19827 non-null  float64 \n",
            " 14  female_hh             19827 non-null  int64   \n",
            " 15  indigenous            19827 non-null  int64   \n",
            " 16  hhsize                19827 non-null  int64   \n",
            " 17  dirtfloor             19827 non-null  int64   \n",
            " 18  bathroom              19827 non-null  int64   \n",
            " 19  land                  19827 non-null  int64   \n",
            " 20  hospital_distance     19827 non-null  float64 \n",
            "dtypes: category(5), float64(6), int64(10)\n",
            "memory usage: 2.5 MB\n"
          ]
        }
      ],
      "source": [
        "# Check that all Dtype has been changed to the correct values\n",
        "df.info()"
      ]
    },
    {
      "cell_type": "markdown",
      "metadata": {
        "id": "9lN4_Nk1H-22"
      },
      "source": [
        "### Encoding of the non numerical variables"
      ]
    },
    {
      "cell_type": "code",
      "execution_count": 11,
      "metadata": {
        "id": "yRoVhLr8IE6e"
      },
      "outputs": [],
      "source": [
        "# Create a copy of the main dataframe so we can work on it without worrying it might impact our data.\n",
        "encoded_df = df.copy()"
      ]
    },
    {
      "cell_type": "markdown",
      "metadata": {
        "id": "D8CdmQpLSg-P"
      },
      "source": [
        "Non numerical variables need to be encoded into numerical one, so it can be interpreted correctly during the following steps.\n",
        "\n",
        "To do so, we transform categorical data into number. For example, the column `treatment_locality` which countains two uniques values : `Control`& `Treatment` ; can be transformed into one column `Control`with value 0 or 1. If the value is 0, then it correspond to `Treatment` if it is 1, then it is `Control`."
      ]
    },
    {
      "cell_type": "markdown",
      "metadata": {
        "id": "WgGQ3VjFJmPD"
      },
      "source": [
        "##### treatment_locality"
      ]
    },
    {
      "cell_type": "code",
      "execution_count": 12,
      "metadata": {
        "id": "-hInygSiIWud"
      },
      "outputs": [],
      "source": [
        "encoded_df.treatment_locality = pd.get_dummies(encoded_df.treatment_locality).Control"
      ]
    },
    {
      "cell_type": "code",
      "execution_count": 13,
      "metadata": {
        "colab": {
          "base_uri": "https://localhost:8080/"
        },
        "id": "ukM2IZdCU87I",
        "outputId": "486a50c4-8d87-488d-b34f-798b16ceab07"
      },
      "outputs": [
        {
          "output_type": "execute_result",
          "data": {
            "text/plain": [
              "0        0\n",
              "1        0\n",
              "2        0\n",
              "3        0\n",
              "4        0\n",
              "        ..\n",
              "19822    1\n",
              "19823    0\n",
              "19824    0\n",
              "19825    0\n",
              "19826    0\n",
              "Name: treatment_locality, Length: 19827, dtype: uint8"
            ]
          },
          "metadata": {},
          "execution_count": 13
        }
      ],
      "source": [
        "encoded_df.treatment_locality"
      ]
    },
    {
      "cell_type": "markdown",
      "metadata": {
        "id": "VmdCOYUSJpfH"
      },
      "source": [
        "##### promotion_locality"
      ]
    },
    {
      "cell_type": "code",
      "execution_count": 14,
      "metadata": {
        "id": "kzy4t12yJsEM"
      },
      "outputs": [],
      "source": [
        "encoded_df.promotion_locality = pd.get_dummies(encoded_df.promotion_locality).Promotion"
      ]
    },
    {
      "cell_type": "code",
      "execution_count": 15,
      "metadata": {
        "colab": {
          "base_uri": "https://localhost:8080/"
        },
        "id": "_u2nbXigVVac",
        "outputId": "451c359b-145c-4cb8-cdb7-8d0ad73be54b"
      },
      "outputs": [
        {
          "output_type": "execute_result",
          "data": {
            "text/plain": [
              "0        1\n",
              "1        1\n",
              "2        1\n",
              "3        1\n",
              "4        1\n",
              "        ..\n",
              "19822    0\n",
              "19823    1\n",
              "19824    1\n",
              "19825    1\n",
              "19826    1\n",
              "Name: promotion_locality, Length: 19827, dtype: uint8"
            ]
          },
          "metadata": {},
          "execution_count": 15
        }
      ],
      "source": [
        "encoded_df.promotion_locality"
      ]
    },
    {
      "cell_type": "markdown",
      "metadata": {
        "id": "pbAgrznIJsZM"
      },
      "source": [
        "##### eligible"
      ]
    },
    {
      "cell_type": "code",
      "execution_count": 16,
      "metadata": {
        "id": "F0wGY-IRJty_"
      },
      "outputs": [],
      "source": [
        "encoded_df.eligible = pd.get_dummies(encoded_df.eligible).Eligible"
      ]
    },
    {
      "cell_type": "code",
      "execution_count": 17,
      "metadata": {
        "colab": {
          "base_uri": "https://localhost:8080/"
        },
        "id": "yD5Uk7CEVjx6",
        "outputId": "1f604722-d0f7-4e40-c574-a2f188ef4ac4"
      },
      "outputs": [
        {
          "output_type": "execute_result",
          "data": {
            "text/plain": [
              "0        1\n",
              "1        1\n",
              "2        1\n",
              "3        1\n",
              "4        1\n",
              "        ..\n",
              "19822    0\n",
              "19823    0\n",
              "19824    0\n",
              "19825    0\n",
              "19826    0\n",
              "Name: eligible, Length: 19827, dtype: uint8"
            ]
          },
          "metadata": {},
          "execution_count": 17
        }
      ],
      "source": [
        "encoded_df.eligible"
      ]
    },
    {
      "cell_type": "markdown",
      "metadata": {
        "id": "Q4H0Jm7eJuWL"
      },
      "source": [
        "##### enrolled"
      ]
    },
    {
      "cell_type": "code",
      "execution_count": 18,
      "metadata": {
        "id": "fukQKy2tJv1Z"
      },
      "outputs": [],
      "source": [
        "encoded_df.enrolled = pd.get_dummies(encoded_df.enrolled).Enrolled"
      ]
    },
    {
      "cell_type": "code",
      "execution_count": 19,
      "metadata": {
        "colab": {
          "base_uri": "https://localhost:8080/"
        },
        "id": "iZVOxS5eVtun",
        "outputId": "c6cae161-a001-4df2-c011-44258b388168"
      },
      "outputs": [
        {
          "output_type": "execute_result",
          "data": {
            "text/plain": [
              "0        1\n",
              "1        1\n",
              "2        1\n",
              "3        1\n",
              "4        1\n",
              "        ..\n",
              "19822    0\n",
              "19823    0\n",
              "19824    0\n",
              "19825    0\n",
              "19826    0\n",
              "Name: enrolled, Length: 19827, dtype: uint8"
            ]
          },
          "metadata": {},
          "execution_count": 19
        }
      ],
      "source": [
        "encoded_df.enrolled"
      ]
    },
    {
      "cell_type": "markdown",
      "metadata": {
        "id": "bLxDWccWJwOv"
      },
      "source": [
        "##### round"
      ]
    },
    {
      "cell_type": "code",
      "execution_count": 20,
      "metadata": {
        "id": "kZOd3GN3J57l"
      },
      "outputs": [],
      "source": [
        "encoded_df['round'] = pd.get_dummies(encoded_df['round'])['After']"
      ]
    },
    {
      "cell_type": "code",
      "execution_count": 21,
      "metadata": {
        "colab": {
          "base_uri": "https://localhost:8080/"
        },
        "id": "_hWPzdxQV5jQ",
        "outputId": "8d4914cd-9863-4f58-a94e-97759f616904"
      },
      "outputs": [
        {
          "output_type": "execute_result",
          "data": {
            "text/plain": [
              "0        0\n",
              "1        1\n",
              "2        0\n",
              "3        1\n",
              "4        1\n",
              "        ..\n",
              "19822    0\n",
              "19823    0\n",
              "19824    1\n",
              "19825    0\n",
              "19826    1\n",
              "Name: round, Length: 19827, dtype: uint8"
            ]
          },
          "metadata": {},
          "execution_count": 21
        }
      ],
      "source": [
        "encoded_df['round']"
      ]
    },
    {
      "cell_type": "markdown",
      "metadata": {
        "id": "CLNupEonV7Jm"
      },
      "source": [
        "##### Check"
      ]
    },
    {
      "cell_type": "code",
      "execution_count": 22,
      "metadata": {
        "colab": {
          "base_uri": "https://localhost:8080/",
          "height": 0
        },
        "id": "SnTVUHyQV9hD",
        "outputId": "8249b42b-3d8a-4a6b-a7ea-e6f3b7d3e9fd"
      },
      "outputs": [
        {
          "output_type": "execute_result",
          "data": {
            "text/html": [
              "\n",
              "  <div id=\"df-5eb6cd7a-188e-46e9-9304-b3f7f8b231bb\">\n",
              "    <div class=\"colab-df-container\">\n",
              "      <div>\n",
              "<style scoped>\n",
              "    .dataframe tbody tr th:only-of-type {\n",
              "        vertical-align: middle;\n",
              "    }\n",
              "\n",
              "    .dataframe tbody tr th {\n",
              "        vertical-align: top;\n",
              "    }\n",
              "\n",
              "    .dataframe thead th {\n",
              "        text-align: right;\n",
              "    }\n",
              "</style>\n",
              "<table border=\"1\" class=\"dataframe\">\n",
              "  <thead>\n",
              "    <tr style=\"text-align: right;\">\n",
              "      <th></th>\n",
              "      <th>locality_identifier</th>\n",
              "      <th>household_identifier</th>\n",
              "      <th>treatment_locality</th>\n",
              "      <th>promotion_locality</th>\n",
              "      <th>eligible</th>\n",
              "      <th>enrolled</th>\n",
              "      <th>enrolled_rp</th>\n",
              "      <th>poverty_index</th>\n",
              "      <th>round</th>\n",
              "      <th>health_expenditures</th>\n",
              "      <th>age_hh</th>\n",
              "      <th>age_sp</th>\n",
              "      <th>educ_hh</th>\n",
              "      <th>educ_sp</th>\n",
              "      <th>female_hh</th>\n",
              "      <th>indigenous</th>\n",
              "      <th>hhsize</th>\n",
              "      <th>dirtfloor</th>\n",
              "      <th>bathroom</th>\n",
              "      <th>land</th>\n",
              "      <th>hospital_distance</th>\n",
              "    </tr>\n",
              "  </thead>\n",
              "  <tbody>\n",
              "    <tr>\n",
              "      <th>0</th>\n",
              "      <td>26</td>\n",
              "      <td>5</td>\n",
              "      <td>0</td>\n",
              "      <td>1</td>\n",
              "      <td>1</td>\n",
              "      <td>1</td>\n",
              "      <td>1</td>\n",
              "      <td>55.950542</td>\n",
              "      <td>0</td>\n",
              "      <td>15.185455</td>\n",
              "      <td>24.0</td>\n",
              "      <td>23</td>\n",
              "      <td>0.0</td>\n",
              "      <td>6.0</td>\n",
              "      <td>0</td>\n",
              "      <td>0</td>\n",
              "      <td>4</td>\n",
              "      <td>1</td>\n",
              "      <td>0</td>\n",
              "      <td>1</td>\n",
              "      <td>124.819966</td>\n",
              "    </tr>\n",
              "    <tr>\n",
              "      <th>1</th>\n",
              "      <td>26</td>\n",
              "      <td>5</td>\n",
              "      <td>0</td>\n",
              "      <td>1</td>\n",
              "      <td>1</td>\n",
              "      <td>1</td>\n",
              "      <td>1</td>\n",
              "      <td>55.950542</td>\n",
              "      <td>1</td>\n",
              "      <td>19.580902</td>\n",
              "      <td>25.0</td>\n",
              "      <td>24</td>\n",
              "      <td>0.0</td>\n",
              "      <td>6.0</td>\n",
              "      <td>0</td>\n",
              "      <td>0</td>\n",
              "      <td>4</td>\n",
              "      <td>1</td>\n",
              "      <td>0</td>\n",
              "      <td>1</td>\n",
              "      <td>124.819966</td>\n",
              "    </tr>\n",
              "    <tr>\n",
              "      <th>2</th>\n",
              "      <td>26</td>\n",
              "      <td>11</td>\n",
              "      <td>0</td>\n",
              "      <td>1</td>\n",
              "      <td>1</td>\n",
              "      <td>1</td>\n",
              "      <td>0</td>\n",
              "      <td>46.058731</td>\n",
              "      <td>0</td>\n",
              "      <td>13.076257</td>\n",
              "      <td>30.0</td>\n",
              "      <td>26</td>\n",
              "      <td>4.0</td>\n",
              "      <td>0.0</td>\n",
              "      <td>0</td>\n",
              "      <td>0</td>\n",
              "      <td>6</td>\n",
              "      <td>1</td>\n",
              "      <td>0</td>\n",
              "      <td>2</td>\n",
              "      <td>124.819966</td>\n",
              "    </tr>\n",
              "    <tr>\n",
              "      <th>3</th>\n",
              "      <td>26</td>\n",
              "      <td>11</td>\n",
              "      <td>0</td>\n",
              "      <td>1</td>\n",
              "      <td>1</td>\n",
              "      <td>1</td>\n",
              "      <td>0</td>\n",
              "      <td>46.058731</td>\n",
              "      <td>1</td>\n",
              "      <td>2.398854</td>\n",
              "      <td>31.0</td>\n",
              "      <td>27</td>\n",
              "      <td>4.0</td>\n",
              "      <td>0.0</td>\n",
              "      <td>0</td>\n",
              "      <td>0</td>\n",
              "      <td>6</td>\n",
              "      <td>1</td>\n",
              "      <td>0</td>\n",
              "      <td>2</td>\n",
              "      <td>124.819966</td>\n",
              "    </tr>\n",
              "    <tr>\n",
              "      <th>4</th>\n",
              "      <td>26</td>\n",
              "      <td>13</td>\n",
              "      <td>0</td>\n",
              "      <td>1</td>\n",
              "      <td>1</td>\n",
              "      <td>1</td>\n",
              "      <td>0</td>\n",
              "      <td>54.095825</td>\n",
              "      <td>1</td>\n",
              "      <td>0.000000</td>\n",
              "      <td>59.0</td>\n",
              "      <td>57</td>\n",
              "      <td>0.0</td>\n",
              "      <td>0.0</td>\n",
              "      <td>0</td>\n",
              "      <td>0</td>\n",
              "      <td>6</td>\n",
              "      <td>1</td>\n",
              "      <td>0</td>\n",
              "      <td>4</td>\n",
              "      <td>124.819966</td>\n",
              "    </tr>\n",
              "    <tr>\n",
              "      <th>...</th>\n",
              "      <td>...</td>\n",
              "      <td>...</td>\n",
              "      <td>...</td>\n",
              "      <td>...</td>\n",
              "      <td>...</td>\n",
              "      <td>...</td>\n",
              "      <td>...</td>\n",
              "      <td>...</td>\n",
              "      <td>...</td>\n",
              "      <td>...</td>\n",
              "      <td>...</td>\n",
              "      <td>...</td>\n",
              "      <td>...</td>\n",
              "      <td>...</td>\n",
              "      <td>...</td>\n",
              "      <td>...</td>\n",
              "      <td>...</td>\n",
              "      <td>...</td>\n",
              "      <td>...</td>\n",
              "      <td>...</td>\n",
              "      <td>...</td>\n",
              "    </tr>\n",
              "    <tr>\n",
              "      <th>19822</th>\n",
              "      <td>35</td>\n",
              "      <td>15738</td>\n",
              "      <td>1</td>\n",
              "      <td>0</td>\n",
              "      <td>0</td>\n",
              "      <td>0</td>\n",
              "      <td>0</td>\n",
              "      <td>59.737247</td>\n",
              "      <td>0</td>\n",
              "      <td>16.811539</td>\n",
              "      <td>52.0</td>\n",
              "      <td>41</td>\n",
              "      <td>0.0</td>\n",
              "      <td>2.0</td>\n",
              "      <td>0</td>\n",
              "      <td>1</td>\n",
              "      <td>7</td>\n",
              "      <td>0</td>\n",
              "      <td>1</td>\n",
              "      <td>2</td>\n",
              "      <td>162.748811</td>\n",
              "    </tr>\n",
              "    <tr>\n",
              "      <th>19823</th>\n",
              "      <td>40</td>\n",
              "      <td>15769</td>\n",
              "      <td>0</td>\n",
              "      <td>1</td>\n",
              "      <td>0</td>\n",
              "      <td>0</td>\n",
              "      <td>0</td>\n",
              "      <td>62.055641</td>\n",
              "      <td>0</td>\n",
              "      <td>15.906003</td>\n",
              "      <td>51.0</td>\n",
              "      <td>40</td>\n",
              "      <td>5.0</td>\n",
              "      <td>2.0</td>\n",
              "      <td>0</td>\n",
              "      <td>1</td>\n",
              "      <td>5</td>\n",
              "      <td>1</td>\n",
              "      <td>1</td>\n",
              "      <td>1</td>\n",
              "      <td>114.763392</td>\n",
              "    </tr>\n",
              "    <tr>\n",
              "      <th>19824</th>\n",
              "      <td>40</td>\n",
              "      <td>15769</td>\n",
              "      <td>0</td>\n",
              "      <td>1</td>\n",
              "      <td>0</td>\n",
              "      <td>0</td>\n",
              "      <td>0</td>\n",
              "      <td>62.055641</td>\n",
              "      <td>1</td>\n",
              "      <td>8.248152</td>\n",
              "      <td>52.0</td>\n",
              "      <td>41</td>\n",
              "      <td>5.0</td>\n",
              "      <td>2.0</td>\n",
              "      <td>0</td>\n",
              "      <td>1</td>\n",
              "      <td>5</td>\n",
              "      <td>1</td>\n",
              "      <td>1</td>\n",
              "      <td>1</td>\n",
              "      <td>114.763392</td>\n",
              "    </tr>\n",
              "    <tr>\n",
              "      <th>19825</th>\n",
              "      <td>40</td>\n",
              "      <td>15778</td>\n",
              "      <td>0</td>\n",
              "      <td>1</td>\n",
              "      <td>0</td>\n",
              "      <td>0</td>\n",
              "      <td>0</td>\n",
              "      <td>62.828438</td>\n",
              "      <td>0</td>\n",
              "      <td>8.737772</td>\n",
              "      <td>58.0</td>\n",
              "      <td>49</td>\n",
              "      <td>3.0</td>\n",
              "      <td>0.0</td>\n",
              "      <td>0</td>\n",
              "      <td>1</td>\n",
              "      <td>9</td>\n",
              "      <td>1</td>\n",
              "      <td>1</td>\n",
              "      <td>4</td>\n",
              "      <td>114.763392</td>\n",
              "    </tr>\n",
              "    <tr>\n",
              "      <th>19826</th>\n",
              "      <td>40</td>\n",
              "      <td>15778</td>\n",
              "      <td>0</td>\n",
              "      <td>1</td>\n",
              "      <td>0</td>\n",
              "      <td>0</td>\n",
              "      <td>0</td>\n",
              "      <td>62.828438</td>\n",
              "      <td>1</td>\n",
              "      <td>10.366098</td>\n",
              "      <td>59.0</td>\n",
              "      <td>50</td>\n",
              "      <td>3.0</td>\n",
              "      <td>0.0</td>\n",
              "      <td>0</td>\n",
              "      <td>1</td>\n",
              "      <td>9</td>\n",
              "      <td>1</td>\n",
              "      <td>1</td>\n",
              "      <td>4</td>\n",
              "      <td>114.763392</td>\n",
              "    </tr>\n",
              "  </tbody>\n",
              "</table>\n",
              "<p>19827 rows × 21 columns</p>\n",
              "</div>\n",
              "      <button class=\"colab-df-convert\" onclick=\"convertToInteractive('df-5eb6cd7a-188e-46e9-9304-b3f7f8b231bb')\"\n",
              "              title=\"Convert this dataframe to an interactive table.\"\n",
              "              style=\"display:none;\">\n",
              "        \n",
              "  <svg xmlns=\"http://www.w3.org/2000/svg\" height=\"24px\"viewBox=\"0 0 24 24\"\n",
              "       width=\"24px\">\n",
              "    <path d=\"M0 0h24v24H0V0z\" fill=\"none\"/>\n",
              "    <path d=\"M18.56 5.44l.94 2.06.94-2.06 2.06-.94-2.06-.94-.94-2.06-.94 2.06-2.06.94zm-11 1L8.5 8.5l.94-2.06 2.06-.94-2.06-.94L8.5 2.5l-.94 2.06-2.06.94zm10 10l.94 2.06.94-2.06 2.06-.94-2.06-.94-.94-2.06-.94 2.06-2.06.94z\"/><path d=\"M17.41 7.96l-1.37-1.37c-.4-.4-.92-.59-1.43-.59-.52 0-1.04.2-1.43.59L10.3 9.45l-7.72 7.72c-.78.78-.78 2.05 0 2.83L4 21.41c.39.39.9.59 1.41.59.51 0 1.02-.2 1.41-.59l7.78-7.78 2.81-2.81c.8-.78.8-2.07 0-2.86zM5.41 20L4 18.59l7.72-7.72 1.47 1.35L5.41 20z\"/>\n",
              "  </svg>\n",
              "      </button>\n",
              "      \n",
              "  <style>\n",
              "    .colab-df-container {\n",
              "      display:flex;\n",
              "      flex-wrap:wrap;\n",
              "      gap: 12px;\n",
              "    }\n",
              "\n",
              "    .colab-df-convert {\n",
              "      background-color: #E8F0FE;\n",
              "      border: none;\n",
              "      border-radius: 50%;\n",
              "      cursor: pointer;\n",
              "      display: none;\n",
              "      fill: #1967D2;\n",
              "      height: 32px;\n",
              "      padding: 0 0 0 0;\n",
              "      width: 32px;\n",
              "    }\n",
              "\n",
              "    .colab-df-convert:hover {\n",
              "      background-color: #E2EBFA;\n",
              "      box-shadow: 0px 1px 2px rgba(60, 64, 67, 0.3), 0px 1px 3px 1px rgba(60, 64, 67, 0.15);\n",
              "      fill: #174EA6;\n",
              "    }\n",
              "\n",
              "    [theme=dark] .colab-df-convert {\n",
              "      background-color: #3B4455;\n",
              "      fill: #D2E3FC;\n",
              "    }\n",
              "\n",
              "    [theme=dark] .colab-df-convert:hover {\n",
              "      background-color: #434B5C;\n",
              "      box-shadow: 0px 1px 3px 1px rgba(0, 0, 0, 0.15);\n",
              "      filter: drop-shadow(0px 1px 2px rgba(0, 0, 0, 0.3));\n",
              "      fill: #FFFFFF;\n",
              "    }\n",
              "  </style>\n",
              "\n",
              "      <script>\n",
              "        const buttonEl =\n",
              "          document.querySelector('#df-5eb6cd7a-188e-46e9-9304-b3f7f8b231bb button.colab-df-convert');\n",
              "        buttonEl.style.display =\n",
              "          google.colab.kernel.accessAllowed ? 'block' : 'none';\n",
              "\n",
              "        async function convertToInteractive(key) {\n",
              "          const element = document.querySelector('#df-5eb6cd7a-188e-46e9-9304-b3f7f8b231bb');\n",
              "          const dataTable =\n",
              "            await google.colab.kernel.invokeFunction('convertToInteractive',\n",
              "                                                     [key], {});\n",
              "          if (!dataTable) return;\n",
              "\n",
              "          const docLinkHtml = 'Like what you see? Visit the ' +\n",
              "            '<a target=\"_blank\" href=https://colab.research.google.com/notebooks/data_table.ipynb>data table notebook</a>'\n",
              "            + ' to learn more about interactive tables.';\n",
              "          element.innerHTML = '';\n",
              "          dataTable['output_type'] = 'display_data';\n",
              "          await google.colab.output.renderOutput(dataTable, element);\n",
              "          const docLink = document.createElement('div');\n",
              "          docLink.innerHTML = docLinkHtml;\n",
              "          element.appendChild(docLink);\n",
              "        }\n",
              "      </script>\n",
              "    </div>\n",
              "  </div>\n",
              "  "
            ],
            "text/plain": [
              "       locality_identifier  household_identifier  ...  land  hospital_distance\n",
              "0                       26                     5  ...     1         124.819966\n",
              "1                       26                     5  ...     1         124.819966\n",
              "2                       26                    11  ...     2         124.819966\n",
              "3                       26                    11  ...     2         124.819966\n",
              "4                       26                    13  ...     4         124.819966\n",
              "...                    ...                   ...  ...   ...                ...\n",
              "19822                   35                 15738  ...     2         162.748811\n",
              "19823                   40                 15769  ...     1         114.763392\n",
              "19824                   40                 15769  ...     1         114.763392\n",
              "19825                   40                 15778  ...     4         114.763392\n",
              "19826                   40                 15778  ...     4         114.763392\n",
              "\n",
              "[19827 rows x 21 columns]"
            ]
          },
          "metadata": {},
          "execution_count": 22
        }
      ],
      "source": [
        "encoded_df"
      ]
    },
    {
      "cell_type": "code",
      "execution_count": 23,
      "metadata": {
        "colab": {
          "base_uri": "https://localhost:8080/"
        },
        "id": "KFc7IRA-WAu-",
        "outputId": "545e5572-59be-4894-a7f6-88965d94e8f2"
      },
      "outputs": [
        {
          "output_type": "stream",
          "name": "stdout",
          "text": [
            "<class 'pandas.core.frame.DataFrame'>\n",
            "RangeIndex: 19827 entries, 0 to 19826\n",
            "Data columns (total 21 columns):\n",
            " #   Column                Non-Null Count  Dtype  \n",
            "---  ------                --------------  -----  \n",
            " 0   locality_identifier   19827 non-null  int64  \n",
            " 1   household_identifier  19827 non-null  int64  \n",
            " 2   treatment_locality    19827 non-null  uint8  \n",
            " 3   promotion_locality    19827 non-null  uint8  \n",
            " 4   eligible              19827 non-null  uint8  \n",
            " 5   enrolled              19827 non-null  uint8  \n",
            " 6   enrolled_rp           19827 non-null  int64  \n",
            " 7   poverty_index         19827 non-null  float64\n",
            " 8   round                 19827 non-null  uint8  \n",
            " 9   health_expenditures   19827 non-null  float64\n",
            " 10  age_hh                19827 non-null  float64\n",
            " 11  age_sp                19827 non-null  int64  \n",
            " 12  educ_hh               19827 non-null  float64\n",
            " 13  educ_sp               19827 non-null  float64\n",
            " 14  female_hh             19827 non-null  int64  \n",
            " 15  indigenous            19827 non-null  int64  \n",
            " 16  hhsize                19827 non-null  int64  \n",
            " 17  dirtfloor             19827 non-null  int64  \n",
            " 18  bathroom              19827 non-null  int64  \n",
            " 19  land                  19827 non-null  int64  \n",
            " 20  hospital_distance     19827 non-null  float64\n",
            "dtypes: float64(6), int64(10), uint8(5)\n",
            "memory usage: 2.5 MB\n"
          ]
        }
      ],
      "source": [
        "encoded_df.info()"
      ]
    },
    {
      "cell_type": "markdown",
      "metadata": {
        "id": "BV9dPRFnWIuK"
      },
      "source": [
        "Our dataset (`encoded_df`) now only contains numerical (`uint8`, `int64`, or `float64`), so it is exploitable by a regression tool."
      ]
    },
    {
      "cell_type": "markdown",
      "metadata": {
        "id": "BKvBZMwI8fo2"
      },
      "source": [
        "## Descriptive Statistics"
      ]
    },
    {
      "cell_type": "markdown",
      "metadata": {
        "id": "MCTpUI9uLFuu"
      },
      "source": [
        "We are looking for trend in our data explaining the way our multiples variables interact with `health_expenditures`."
      ]
    },
    {
      "cell_type": "markdown",
      "metadata": {
        "id": "W6Oso9jTIiOa"
      },
      "source": [
        "### Correlation"
      ]
    },
    {
      "cell_type": "markdown",
      "metadata": {
        "id": "N4qT-UPDLBqv"
      },
      "source": [
        "A method to quickly hover every variables together to find trends is to search for correlation value between each variables. This can be done using the `.corr()` method from *Pandas*."
      ]
    },
    {
      "cell_type": "markdown",
      "metadata": {
        "id": "YH2CAJQMIleR"
      },
      "source": [
        "#### Pearson method"
      ]
    },
    {
      "cell_type": "markdown",
      "metadata": {
        "id": "QGvvGZsIK_Es"
      },
      "source": [
        "The pearson correlation coefficient measures a linear correlation between two variables."
      ]
    },
    {
      "cell_type": "code",
      "execution_count": 24,
      "metadata": {
        "colab": {
          "base_uri": "https://localhost:8080/",
          "height": 491
        },
        "id": "WnpR5GjHASft",
        "outputId": "b2057171-e6af-4350-e554-d3d1e408f345"
      },
      "outputs": [
        {
          "output_type": "display_data",
          "data": {
            "image/png": "[encoded data removed]",
            "text/plain": [
              "<Figure size 504x504 with 2 Axes>"
            ]
          },
          "metadata": {
            "needs_background": "light"
          }
        }
      ],
      "source": [
        "# Create Pearson correlation map to vizualise the different correlation in between the column\n",
        "fig = plt.figure(figsize=(7, 7))\n",
        "sns.heatmap(encoded_df.corr(), vmax=1., square=True, cmap=sns.color_palette(\"coolwarm\", as_cmap=True))\n",
        "plt.title(\"Pearson correlation map\", fontsize=15)\n",
        "plt.show()"
      ]
    },
    {
      "cell_type": "code",
      "execution_count": 25,
      "metadata": {
        "colab": {
          "base_uri": "https://localhost:8080/",
          "height": 708
        },
        "id": "FRS5OCUCBIkK",
        "outputId": "6c80f8db-dd31-4f68-ae09-7a45417ecf03"
      },
      "outputs": [
        {
          "output_type": "execute_result",
          "data": {
            "text/html": [
              "\n",
              "  <div id=\"df-9a743bd7-c353-4c9e-a564-67e54a73e699\">\n",
              "    <div class=\"colab-df-container\">\n",
              "      <div>\n",
              "<style scoped>\n",
              "    .dataframe tbody tr th:only-of-type {\n",
              "        vertical-align: middle;\n",
              "    }\n",
              "\n",
              "    .dataframe tbody tr th {\n",
              "        vertical-align: top;\n",
              "    }\n",
              "\n",
              "    .dataframe thead th {\n",
              "        text-align: right;\n",
              "    }\n",
              "</style>\n",
              "<table border=\"1\" class=\"dataframe\">\n",
              "  <thead>\n",
              "    <tr style=\"text-align: right;\">\n",
              "      <th></th>\n",
              "      <th>health_expenditures</th>\n",
              "    </tr>\n",
              "  </thead>\n",
              "  <tbody>\n",
              "    <tr>\n",
              "      <th>locality_identifier</th>\n",
              "      <td>-0.025461</td>\n",
              "    </tr>\n",
              "    <tr>\n",
              "      <th>household_identifier</th>\n",
              "      <td>-0.033246</td>\n",
              "    </tr>\n",
              "    <tr>\n",
              "      <th>treatment_locality</th>\n",
              "      <td>0.182393</td>\n",
              "    </tr>\n",
              "    <tr>\n",
              "      <th>promotion_locality</th>\n",
              "      <td>-0.105620</td>\n",
              "    </tr>\n",
              "    <tr>\n",
              "      <th>eligible</th>\n",
              "      <td>-0.425658</td>\n",
              "    </tr>\n",
              "    <tr>\n",
              "      <th>enrolled</th>\n",
              "      <td>-0.412693</td>\n",
              "    </tr>\n",
              "    <tr>\n",
              "      <th>enrolled_rp</th>\n",
              "      <td>-0.406346</td>\n",
              "    </tr>\n",
              "    <tr>\n",
              "      <th>poverty_index</th>\n",
              "      <td>0.428248</td>\n",
              "    </tr>\n",
              "    <tr>\n",
              "      <th>round</th>\n",
              "      <td>-0.018930</td>\n",
              "    </tr>\n",
              "    <tr>\n",
              "      <th>health_expenditures</th>\n",
              "      <td>1.000000</td>\n",
              "    </tr>\n",
              "    <tr>\n",
              "      <th>age_hh</th>\n",
              "      <td>0.257817</td>\n",
              "    </tr>\n",
              "    <tr>\n",
              "      <th>age_sp</th>\n",
              "      <td>0.184925</td>\n",
              "    </tr>\n",
              "    <tr>\n",
              "      <th>educ_hh</th>\n",
              "      <td>-0.051597</td>\n",
              "    </tr>\n",
              "    <tr>\n",
              "      <th>educ_sp</th>\n",
              "      <td>-0.027431</td>\n",
              "    </tr>\n",
              "    <tr>\n",
              "      <th>female_hh</th>\n",
              "      <td>0.174227</td>\n",
              "    </tr>\n",
              "    <tr>\n",
              "      <th>indigenous</th>\n",
              "      <td>-0.189984</td>\n",
              "    </tr>\n",
              "    <tr>\n",
              "      <th>hhsize</th>\n",
              "      <td>-0.536961</td>\n",
              "    </tr>\n",
              "    <tr>\n",
              "      <th>dirtfloor</th>\n",
              "      <td>-0.194512</td>\n",
              "    </tr>\n",
              "    <tr>\n",
              "      <th>bathroom</th>\n",
              "      <td>0.034342</td>\n",
              "    </tr>\n",
              "    <tr>\n",
              "      <th>land</th>\n",
              "      <td>0.069479</td>\n",
              "    </tr>\n",
              "    <tr>\n",
              "      <th>hospital_distance</th>\n",
              "      <td>-0.061036</td>\n",
              "    </tr>\n",
              "  </tbody>\n",
              "</table>\n",
              "</div>\n",
              "      <button class=\"colab-df-convert\" onclick=\"convertToInteractive('df-9a743bd7-c353-4c9e-a564-67e54a73e699')\"\n",
              "              title=\"Convert this dataframe to an interactive table.\"\n",
              "              style=\"display:none;\">\n",
              "        \n",
              "  <svg xmlns=\"http://www.w3.org/2000/svg\" height=\"24px\"viewBox=\"0 0 24 24\"\n",
              "       width=\"24px\">\n",
              "    <path d=\"M0 0h24v24H0V0z\" fill=\"none\"/>\n",
              "    <path d=\"M18.56 5.44l.94 2.06.94-2.06 2.06-.94-2.06-.94-.94-2.06-.94 2.06-2.06.94zm-11 1L8.5 8.5l.94-2.06 2.06-.94-2.06-.94L8.5 2.5l-.94 2.06-2.06.94zm10 10l.94 2.06.94-2.06 2.06-.94-2.06-.94-.94-2.06-.94 2.06-2.06.94z\"/><path d=\"M17.41 7.96l-1.37-1.37c-.4-.4-.92-.59-1.43-.59-.52 0-1.04.2-1.43.59L10.3 9.45l-7.72 7.72c-.78.78-.78 2.05 0 2.83L4 21.41c.39.39.9.59 1.41.59.51 0 1.02-.2 1.41-.59l7.78-7.78 2.81-2.81c.8-.78.8-2.07 0-2.86zM5.41 20L4 18.59l7.72-7.72 1.47 1.35L5.41 20z\"/>\n",
              "  </svg>\n",
              "      </button>\n",
              "      \n",
              "  <style>\n",
              "    .colab-df-container {\n",
              "      display:flex;\n",
              "      flex-wrap:wrap;\n",
              "      gap: 12px;\n",
              "    }\n",
              "\n",
              "    .colab-df-convert {\n",
              "      background-color: #E8F0FE;\n",
              "      border: none;\n",
              "      border-radius: 50%;\n",
              "      cursor: pointer;\n",
              "      display: none;\n",
              "      fill: #1967D2;\n",
              "      height: 32px;\n",
              "      padding: 0 0 0 0;\n",
              "      width: 32px;\n",
              "    }\n",
              "\n",
              "    .colab-df-convert:hover {\n",
              "      background-color: #E2EBFA;\n",
              "      box-shadow: 0px 1px 2px rgba(60, 64, 67, 0.3), 0px 1px 3px 1px rgba(60, 64, 67, 0.15);\n",
              "      fill: #174EA6;\n",
              "    }\n",
              "\n",
              "    [theme=dark] .colab-df-convert {\n",
              "      background-color: #3B4455;\n",
              "      fill: #D2E3FC;\n",
              "    }\n",
              "\n",
              "    [theme=dark] .colab-df-convert:hover {\n",
              "      background-color: #434B5C;\n",
              "      box-shadow: 0px 1px 3px 1px rgba(0, 0, 0, 0.15);\n",
              "      filter: drop-shadow(0px 1px 2px rgba(0, 0, 0, 0.3));\n",
              "      fill: #FFFFFF;\n",
              "    }\n",
              "  </style>\n",
              "\n",
              "      <script>\n",
              "        const buttonEl =\n",
              "          document.querySelector('#df-9a743bd7-c353-4c9e-a564-67e54a73e699 button.colab-df-convert');\n",
              "        buttonEl.style.display =\n",
              "          google.colab.kernel.accessAllowed ? 'block' : 'none';\n",
              "\n",
              "        async function convertToInteractive(key) {\n",
              "          const element = document.querySelector('#df-9a743bd7-c353-4c9e-a564-67e54a73e699');\n",
              "          const dataTable =\n",
              "            await google.colab.kernel.invokeFunction('convertToInteractive',\n",
              "                                                     [key], {});\n",
              "          if (!dataTable) return;\n",
              "\n",
              "          const docLinkHtml = 'Like what you see? Visit the ' +\n",
              "            '<a target=\"_blank\" href=https://colab.research.google.com/notebooks/data_table.ipynb>data table notebook</a>'\n",
              "            + ' to learn more about interactive tables.';\n",
              "          element.innerHTML = '';\n",
              "          dataTable['output_type'] = 'display_data';\n",
              "          await google.colab.output.renderOutput(dataTable, element);\n",
              "          const docLink = document.createElement('div');\n",
              "          docLink.innerHTML = docLinkHtml;\n",
              "          element.appendChild(docLink);\n",
              "        }\n",
              "      </script>\n",
              "    </div>\n",
              "  </div>\n",
              "  "
            ],
            "text/plain": [
              "                      health_expenditures\n",
              "locality_identifier             -0.025461\n",
              "household_identifier            -0.033246\n",
              "treatment_locality               0.182393\n",
              "promotion_locality              -0.105620\n",
              "eligible                        -0.425658\n",
              "enrolled                        -0.412693\n",
              "enrolled_rp                     -0.406346\n",
              "poverty_index                    0.428248\n",
              "round                           -0.018930\n",
              "health_expenditures              1.000000\n",
              "age_hh                           0.257817\n",
              "age_sp                           0.184925\n",
              "educ_hh                         -0.051597\n",
              "educ_sp                         -0.027431\n",
              "female_hh                        0.174227\n",
              "indigenous                      -0.189984\n",
              "hhsize                          -0.536961\n",
              "dirtfloor                       -0.194512\n",
              "bathroom                         0.034342\n",
              "land                             0.069479\n",
              "hospital_distance               -0.061036"
            ]
          },
          "metadata": {},
          "execution_count": 25
        }
      ],
      "source": [
        "# Get all the correlation value (with pearson method) and filter on the column 'health_expenditures'\n",
        "corr_pearson = encoded_df.corr()\n",
        "corr_pearson[['health_expenditures']]"
      ]
    },
    {
      "cell_type": "markdown",
      "metadata": {
        "id": "Y4Uckj3sIokP"
      },
      "source": [
        "#### Spearman Method"
      ]
    },
    {
      "cell_type": "markdown",
      "metadata": {
        "id": "IG2aAF80K7CV"
      },
      "source": [
        "The Spearman correlation is studied when two statistical variables seem to be correlated without the relationship between the two variables being of affine type. It consists in finding a correlation coefficient, not between the values taken by the two variables but between the ranks of these values.\n",
        "\n",
        "Note that there is also the Kendall's method to obtain a correlation by rank."
      ]
    },
    {
      "cell_type": "code",
      "execution_count": 26,
      "metadata": {
        "colab": {
          "base_uri": "https://localhost:8080/",
          "height": 0
        },
        "id": "8CsyXqUUIn_9",
        "outputId": "336b15c9-2225-4be3-c1ec-9eaadf9f8a93"
      },
      "outputs": [
        {
          "output_type": "display_data",
          "data": {
            "image/png": "[encoded data removed]",
            "text/plain": [
              "<Figure size 504x504 with 2 Axes>"
            ]
          },
          "metadata": {
            "needs_background": "light"
          }
        }
      ],
      "source": [
        "# Create Spearman correlation map to vizualise the different correlation in between the column\n",
        "fig = plt.figure(figsize=(7, 7))\n",
        "sns.heatmap(encoded_df.corr(method=\"spearman\"), vmax=1., square=True, cmap=sns.color_palette(\"Spectral\", as_cmap=True))\n",
        "plt.title(\"Spearman correlation map\", fontsize=15)\n",
        "plt.show()"
      ]
    },
    {
      "cell_type": "code",
      "execution_count": 27,
      "metadata": {
        "colab": {
          "base_uri": "https://localhost:8080/",
          "height": 0
        },
        "id": "PxMKTunDIXBh",
        "outputId": "5f8c6afc-3ae9-486c-9d54-fc4232cde2f5"
      },
      "outputs": [
        {
          "output_type": "execute_result",
          "data": {
            "text/html": [
              "\n",
              "  <div id=\"df-4648ccf3-d6af-45d8-b9cb-14e4c3422841\">\n",
              "    <div class=\"colab-df-container\">\n",
              "      <div>\n",
              "<style scoped>\n",
              "    .dataframe tbody tr th:only-of-type {\n",
              "        vertical-align: middle;\n",
              "    }\n",
              "\n",
              "    .dataframe tbody tr th {\n",
              "        vertical-align: top;\n",
              "    }\n",
              "\n",
              "    .dataframe thead th {\n",
              "        text-align: right;\n",
              "    }\n",
              "</style>\n",
              "<table border=\"1\" class=\"dataframe\">\n",
              "  <thead>\n",
              "    <tr style=\"text-align: right;\">\n",
              "      <th></th>\n",
              "      <th>health_expenditures</th>\n",
              "    </tr>\n",
              "  </thead>\n",
              "  <tbody>\n",
              "    <tr>\n",
              "      <th>locality_identifier</th>\n",
              "      <td>-0.025230</td>\n",
              "    </tr>\n",
              "    <tr>\n",
              "      <th>household_identifier</th>\n",
              "      <td>-0.025524</td>\n",
              "    </tr>\n",
              "    <tr>\n",
              "      <th>treatment_locality</th>\n",
              "      <td>0.201720</td>\n",
              "    </tr>\n",
              "    <tr>\n",
              "      <th>promotion_locality</th>\n",
              "      <td>-0.118274</td>\n",
              "    </tr>\n",
              "    <tr>\n",
              "      <th>eligible</th>\n",
              "      <td>-0.471047</td>\n",
              "    </tr>\n",
              "    <tr>\n",
              "      <th>enrolled</th>\n",
              "      <td>-0.456721</td>\n",
              "    </tr>\n",
              "    <tr>\n",
              "      <th>enrolled_rp</th>\n",
              "      <td>-0.450176</td>\n",
              "    </tr>\n",
              "    <tr>\n",
              "      <th>poverty_index</th>\n",
              "      <td>0.493679</td>\n",
              "    </tr>\n",
              "    <tr>\n",
              "      <th>round</th>\n",
              "      <td>-0.109338</td>\n",
              "    </tr>\n",
              "    <tr>\n",
              "      <th>health_expenditures</th>\n",
              "      <td>1.000000</td>\n",
              "    </tr>\n",
              "    <tr>\n",
              "      <th>age_hh</th>\n",
              "      <td>0.262117</td>\n",
              "    </tr>\n",
              "    <tr>\n",
              "      <th>age_sp</th>\n",
              "      <td>0.212357</td>\n",
              "    </tr>\n",
              "    <tr>\n",
              "      <th>educ_hh</th>\n",
              "      <td>-0.072087</td>\n",
              "    </tr>\n",
              "    <tr>\n",
              "      <th>educ_sp</th>\n",
              "      <td>-0.026076</td>\n",
              "    </tr>\n",
              "    <tr>\n",
              "      <th>female_hh</th>\n",
              "      <td>0.178941</td>\n",
              "    </tr>\n",
              "    <tr>\n",
              "      <th>indigenous</th>\n",
              "      <td>-0.222276</td>\n",
              "    </tr>\n",
              "    <tr>\n",
              "      <th>hhsize</th>\n",
              "      <td>-0.610753</td>\n",
              "    </tr>\n",
              "    <tr>\n",
              "      <th>dirtfloor</th>\n",
              "      <td>-0.224411</td>\n",
              "    </tr>\n",
              "    <tr>\n",
              "      <th>bathroom</th>\n",
              "      <td>0.032493</td>\n",
              "    </tr>\n",
              "    <tr>\n",
              "      <th>land</th>\n",
              "      <td>0.038927</td>\n",
              "    </tr>\n",
              "    <tr>\n",
              "      <th>hospital_distance</th>\n",
              "      <td>-0.075659</td>\n",
              "    </tr>\n",
              "  </tbody>\n",
              "</table>\n",
              "</div>\n",
              "      <button class=\"colab-df-convert\" onclick=\"convertToInteractive('df-4648ccf3-d6af-45d8-b9cb-14e4c3422841')\"\n",
              "              title=\"Convert this dataframe to an interactive table.\"\n",
              "              style=\"display:none;\">\n",
              "        \n",
              "  <svg xmlns=\"http://www.w3.org/2000/svg\" height=\"24px\"viewBox=\"0 0 24 24\"\n",
              "       width=\"24px\">\n",
              "    <path d=\"M0 0h24v24H0V0z\" fill=\"none\"/>\n",
              "    <path d=\"M18.56 5.44l.94 2.06.94-2.06 2.06-.94-2.06-.94-.94-2.06-.94 2.06-2.06.94zm-11 1L8.5 8.5l.94-2.06 2.06-.94-2.06-.94L8.5 2.5l-.94 2.06-2.06.94zm10 10l.94 2.06.94-2.06 2.06-.94-2.06-.94-.94-2.06-.94 2.06-2.06.94z\"/><path d=\"M17.41 7.96l-1.37-1.37c-.4-.4-.92-.59-1.43-.59-.52 0-1.04.2-1.43.59L10.3 9.45l-7.72 7.72c-.78.78-.78 2.05 0 2.83L4 21.41c.39.39.9.59 1.41.59.51 0 1.02-.2 1.41-.59l7.78-7.78 2.81-2.81c.8-.78.8-2.07 0-2.86zM5.41 20L4 18.59l7.72-7.72 1.47 1.35L5.41 20z\"/>\n",
              "  </svg>\n",
              "      </button>\n",
              "      \n",
              "  <style>\n",
              "    .colab-df-container {\n",
              "      display:flex;\n",
              "      flex-wrap:wrap;\n",
              "      gap: 12px;\n",
              "    }\n",
              "\n",
              "    .colab-df-convert {\n",
              "      background-color: #E8F0FE;\n",
              "      border: none;\n",
              "      border-radius: 50%;\n",
              "      cursor: pointer;\n",
              "      display: none;\n",
              "      fill: #1967D2;\n",
              "      height: 32px;\n",
              "      padding: 0 0 0 0;\n",
              "      width: 32px;\n",
              "    }\n",
              "\n",
              "    .colab-df-convert:hover {\n",
              "      background-color: #E2EBFA;\n",
              "      box-shadow: 0px 1px 2px rgba(60, 64, 67, 0.3), 0px 1px 3px 1px rgba(60, 64, 67, 0.15);\n",
              "      fill: #174EA6;\n",
              "    }\n",
              "\n",
              "    [theme=dark] .colab-df-convert {\n",
              "      background-color: #3B4455;\n",
              "      fill: #D2E3FC;\n",
              "    }\n",
              "\n",
              "    [theme=dark] .colab-df-convert:hover {\n",
              "      background-color: #434B5C;\n",
              "      box-shadow: 0px 1px 3px 1px rgba(0, 0, 0, 0.15);\n",
              "      filter: drop-shadow(0px 1px 2px rgba(0, 0, 0, 0.3));\n",
              "      fill: #FFFFFF;\n",
              "    }\n",
              "  </style>\n",
              "\n",
              "      <script>\n",
              "        const buttonEl =\n",
              "          document.querySelector('#df-4648ccf3-d6af-45d8-b9cb-14e4c3422841 button.colab-df-convert');\n",
              "        buttonEl.style.display =\n",
              "          google.colab.kernel.accessAllowed ? 'block' : 'none';\n",
              "\n",
              "        async function convertToInteractive(key) {\n",
              "          const element = document.querySelector('#df-4648ccf3-d6af-45d8-b9cb-14e4c3422841');\n",
              "          const dataTable =\n",
              "            await google.colab.kernel.invokeFunction('convertToInteractive',\n",
              "                                                     [key], {});\n",
              "          if (!dataTable) return;\n",
              "\n",
              "          const docLinkHtml = 'Like what you see? Visit the ' +\n",
              "            '<a target=\"_blank\" href=https://colab.research.google.com/notebooks/data_table.ipynb>data table notebook</a>'\n",
              "            + ' to learn more about interactive tables.';\n",
              "          element.innerHTML = '';\n",
              "          dataTable['output_type'] = 'display_data';\n",
              "          await google.colab.output.renderOutput(dataTable, element);\n",
              "          const docLink = document.createElement('div');\n",
              "          docLink.innerHTML = docLinkHtml;\n",
              "          element.appendChild(docLink);\n",
              "        }\n",
              "      </script>\n",
              "    </div>\n",
              "  </div>\n",
              "  "
            ],
            "text/plain": [
              "                      health_expenditures\n",
              "locality_identifier             -0.025230\n",
              "household_identifier            -0.025524\n",
              "treatment_locality               0.201720\n",
              "promotion_locality              -0.118274\n",
              "eligible                        -0.471047\n",
              "enrolled                        -0.456721\n",
              "enrolled_rp                     -0.450176\n",
              "poverty_index                    0.493679\n",
              "round                           -0.109338\n",
              "health_expenditures              1.000000\n",
              "age_hh                           0.262117\n",
              "age_sp                           0.212357\n",
              "educ_hh                         -0.072087\n",
              "educ_sp                         -0.026076\n",
              "female_hh                        0.178941\n",
              "indigenous                      -0.222276\n",
              "hhsize                          -0.610753\n",
              "dirtfloor                       -0.224411\n",
              "bathroom                         0.032493\n",
              "land                             0.038927\n",
              "hospital_distance               -0.075659"
            ]
          },
          "metadata": {},
          "execution_count": 27
        }
      ],
      "source": [
        "# Get all the correlation value (with Spearman method) and filter on the column 'health_expenditures'\n",
        "corr_spearman = encoded_df.corr(method=\"spearman\")\n",
        "corr_spearman[['health_expenditures']]"
      ]
    },
    {
      "cell_type": "markdown",
      "metadata": {
        "id": "SXTInNk5JSBs"
      },
      "source": [
        "#### Observartion"
      ]
    },
    {
      "cell_type": "markdown",
      "metadata": {
        "id": "xP6whon-BXjd"
      },
      "source": [
        "Variable with a correlation higher than 0.4 are suposed impactful on our main variable (`health_expenditures`). Thus, we have:\n",
        "*   `eligible`: **Household eligible to enroll in HISP** (Pearson: -0.42; Spearman: -0.47)\n",
        "*   `enrolled`: **Household enrolled in HISP** (Pearson: -0.41; Spearman: -0.45)\n",
        "*   `enrolled_rp`: \t**Household enrolled in HISP following random promotion** (Pearson: -0.4; Spearman: -0.45)\n",
        "*   `poverty_index`: **1-100 scale of poverty** (Pearson: 0.42; Spearman: 0.49)\n",
        "*   `hhsize`: **Number of household members** (Pearson: -0.54; Spearman: -0.61)\n",
        "\n",
        "The higher the correlation the most positive impact the variable has on the `health_expenditure`, the lower (close to -1) the most negative impact it has. Near 0 correlation values have a negligibable impact.\n",
        "Which means that when `enrolled_rp` increase by 1, `health_expediture` decrease 0.4. On the contrary, when `poverty_index` increase by 1 `health_expenditure` increase by 0.42. "
      ]
    },
    {
      "cell_type": "markdown",
      "metadata": {
        "id": "Vv-O69YfKwNS"
      },
      "source": [
        "### Analysis"
      ]
    },
    {
      "cell_type": "markdown",
      "metadata": {
        "id": "UZOyIsgBQ3Ac"
      },
      "source": [
        "#### Household eligible to enroll in HISP"
      ]
    },
    {
      "cell_type": "code",
      "execution_count": 28,
      "metadata": {
        "colab": {
          "base_uri": "https://localhost:8080/",
          "height": 386
        },
        "id": "VcedOUF0Q6_l",
        "outputId": "5ac9d431-0da0-4c58-8992-bf8828bcfd92"
      },
      "outputs": [
        {
          "output_type": "execute_result",
          "data": {
            "text/plain": [
              "<seaborn.axisgrid.FacetGrid at 0x7f6b1f94db90>"
            ]
          },
          "metadata": {},
          "execution_count": 28
        },
        {
          "output_type": "display_data",
          "data": {
            "image/png": "[encoded data removed]",
            "text/plain": [
              "<Figure size 360x360 with 1 Axes>"
            ]
          },
          "metadata": {
            "needs_background": "light"
          }
        }
      ],
      "source": [
        "sns.catplot(x=\"eligible\", y=\"health_expenditures\", kind=\"violin\", data=df)"
      ]
    },
    {
      "cell_type": "markdown",
      "metadata": {
        "id": "o7trHuZjFm1u"
      },
      "source": [
        "#### Household enrolled in HISP"
      ]
    },
    {
      "cell_type": "code",
      "execution_count": 29,
      "metadata": {
        "colab": {
          "base_uri": "https://localhost:8080/",
          "height": 386
        },
        "id": "-7eoSONVE01z",
        "outputId": "c0611cb3-14e1-470c-8bca-ef01bc57c067"
      },
      "outputs": [
        {
          "output_type": "execute_result",
          "data": {
            "text/plain": [
              "<seaborn.axisgrid.FacetGrid at 0x7f6afab6bd90>"
            ]
          },
          "metadata": {},
          "execution_count": 29
        },
        {
          "output_type": "display_data",
          "data": {
            "image/png": "[encoded data removed]",
            "text/plain": [
              "<Figure size 452.875x360 with 1 Axes>"
            ]
          },
          "metadata": {
            "needs_background": "light"
          }
        }
      ],
      "source": [
        "sns.catplot(x=\"enrolled\", y=\"health_expenditures\", kind=\"violin\", hue=\"eligible\", data=df)"
      ]
    },
    {
      "cell_type": "markdown",
      "metadata": {
        "id": "Op8FpSnrFYV1"
      },
      "source": [
        "#### Household enrolled in HISP following random promotion"
      ]
    },
    {
      "cell_type": "code",
      "execution_count": 30,
      "metadata": {
        "colab": {
          "base_uri": "https://localhost:8080/",
          "height": 386
        },
        "id": "GhojHX8iDr7-",
        "outputId": "0bed77e7-4935-4f97-bb43-98d0d6721dd2"
      },
      "outputs": [
        {
          "output_type": "execute_result",
          "data": {
            "text/plain": [
              "<seaborn.axisgrid.FacetGrid at 0x7f6afaadd490>"
            ]
          },
          "metadata": {},
          "execution_count": 30
        },
        {
          "output_type": "display_data",
          "data": {
            "image/png": "[encoded data removed]",
            "text/plain": [
              "<Figure size 457.125x360 with 1 Axes>"
            ]
          },
          "metadata": {
            "needs_background": "light"
          }
        }
      ],
      "source": [
        "sns.catplot(x=\"enrolled_rp\", y=\"health_expenditures\", kind=\"violin\", hue=\"enrolled\", data=df)"
      ]
    },
    {
      "cell_type": "markdown",
      "metadata": {
        "id": "pgXZP4_DHeMj"
      },
      "source": [
        "Add plot description."
      ]
    },
    {
      "cell_type": "markdown",
      "metadata": {
        "id": "uh3HT47xFe59"
      },
      "source": [
        "#### 1-100 scale of poverty"
      ]
    },
    {
      "cell_type": "code",
      "execution_count": 31,
      "metadata": {
        "colab": {
          "base_uri": "https://localhost:8080/",
          "height": 458
        },
        "id": "_A9f3DxcEGpj",
        "outputId": "f184581d-8655-4648-bf09-10e937bd22b8"
      },
      "outputs": [
        {
          "output_type": "execute_result",
          "data": {
            "text/plain": [
              "<seaborn.axisgrid.JointGrid at 0x7f6afaa35610>"
            ]
          },
          "metadata": {},
          "execution_count": 31
        },
        {
          "output_type": "display_data",
          "data": {
            "image/png": "[encoded data removed]",
            "text/plain": [
              "<Figure size 432x432 with 3 Axes>"
            ]
          },
          "metadata": {
            "needs_background": "light"
          }
        }
      ],
      "source": [
        "sns.jointplot(x=\"poverty_index\", y=\"health_expenditures\", hue=\"enrolled\", data=df)"
      ]
    },
    {
      "cell_type": "markdown",
      "metadata": {
        "id": "ojiReHBKFjYz"
      },
      "source": [
        "#### Number of household members"
      ]
    },
    {
      "cell_type": "code",
      "execution_count": 32,
      "metadata": {
        "colab": {
          "base_uri": "https://localhost:8080/",
          "height": 458
        },
        "id": "ttrSzoUhEvx2",
        "outputId": "a63002ed-a9e5-4fdf-c70d-9d21e16d76e5"
      },
      "outputs": [
        {
          "output_type": "execute_result",
          "data": {
            "text/plain": [
              "<seaborn.axisgrid.JointGrid at 0x7f6afa8ea350>"
            ]
          },
          "metadata": {},
          "execution_count": 32
        },
        {
          "output_type": "display_data",
          "data": {
            "image/png": "[encoded data removed]",
            "text/plain": [
              "<Figure size 432x432 with 3 Axes>"
            ]
          },
          "metadata": {
            "needs_background": "light"
          }
        }
      ],
      "source": [
        "sns.jointplot(x=\"hhsize\", y=\"health_expenditures\", hue=\"enrolled\", data=df)"
      ]
    },
    {
      "cell_type": "markdown",
      "metadata": {
        "id": "XnU-UIxF8rT4"
      },
      "source": [
        "## Data preparation for Regression"
      ]
    },
    {
      "cell_type": "markdown",
      "source": [
        "### Drop unnecessary columns"
      ],
      "metadata": {
        "id": "B6xybvKtOL2q"
      }
    },
    {
      "cell_type": "markdown",
      "source": [
        "In addition, only the variables below will be used to train your model:\n",
        "* poverty_index \n",
        "* age_hh\n",
        "* age_sp\n",
        "* educ_hh\n",
        "* educ_sp\n",
        "* female_hh\n",
        "* indigenous\n",
        "* hhsize\n",
        "* dirtfloor\n",
        "* bathroom\n",
        "* land\n",
        "* hospital_distance\n",
        "\n",
        "Thus we can drop the other column."
      ],
      "metadata": {
        "id": "_kciRTABOOAb"
      }
    },
    {
      "cell_type": "code",
      "source": [
        "encoded_df = encoded_df[['poverty_index','age_hh','age_sp','educ_hh','educ_sp','female_hh','indigenous','hhsize','dirtfloor','bathroom','land','hospital_distance','health_expenditures','round']]"
      ],
      "metadata": {
        "id": "9MSF5I9vOhjz"
      },
      "execution_count": 33,
      "outputs": []
    },
    {
      "cell_type": "markdown",
      "source": [
        "We also can filter on only `round=before`."
      ],
      "metadata": {
        "id": "ZkjkhKsMPrk1"
      }
    },
    {
      "cell_type": "code",
      "source": [
        "encoded_df = encoded_df[encoded_df['round']==0]"
      ],
      "metadata": {
        "id": "deP-Er3jPvLe"
      },
      "execution_count": 34,
      "outputs": []
    },
    {
      "cell_type": "code",
      "source": [
        "encoded_df"
      ],
      "metadata": {
        "colab": {
          "base_uri": "https://localhost:8080/",
          "height": 424
        },
        "id": "NhbKKZPJQA5F",
        "outputId": "492b55db-58ee-42e2-abf2-2874c7ce609e"
      },
      "execution_count": 35,
      "outputs": [
        {
          "output_type": "execute_result",
          "data": {
            "text/html": [
              "\n",
              "  <div id=\"df-12566b1b-4938-46a9-a5b9-b41349c7c837\">\n",
              "    <div class=\"colab-df-container\">\n",
              "      <div>\n",
              "<style scoped>\n",
              "    .dataframe tbody tr th:only-of-type {\n",
              "        vertical-align: middle;\n",
              "    }\n",
              "\n",
              "    .dataframe tbody tr th {\n",
              "        vertical-align: top;\n",
              "    }\n",
              "\n",
              "    .dataframe thead th {\n",
              "        text-align: right;\n",
              "    }\n",
              "</style>\n",
              "<table border=\"1\" class=\"dataframe\">\n",
              "  <thead>\n",
              "    <tr style=\"text-align: right;\">\n",
              "      <th></th>\n",
              "      <th>poverty_index</th>\n",
              "      <th>age_hh</th>\n",
              "      <th>age_sp</th>\n",
              "      <th>educ_hh</th>\n",
              "      <th>educ_sp</th>\n",
              "      <th>female_hh</th>\n",
              "      <th>indigenous</th>\n",
              "      <th>hhsize</th>\n",
              "      <th>dirtfloor</th>\n",
              "      <th>bathroom</th>\n",
              "      <th>land</th>\n",
              "      <th>hospital_distance</th>\n",
              "      <th>health_expenditures</th>\n",
              "      <th>round</th>\n",
              "    </tr>\n",
              "  </thead>\n",
              "  <tbody>\n",
              "    <tr>\n",
              "      <th>0</th>\n",
              "      <td>55.950542</td>\n",
              "      <td>24.0</td>\n",
              "      <td>23</td>\n",
              "      <td>0.0</td>\n",
              "      <td>6.0</td>\n",
              "      <td>0</td>\n",
              "      <td>0</td>\n",
              "      <td>4</td>\n",
              "      <td>1</td>\n",
              "      <td>0</td>\n",
              "      <td>1</td>\n",
              "      <td>124.819966</td>\n",
              "      <td>15.185455</td>\n",
              "      <td>0</td>\n",
              "    </tr>\n",
              "    <tr>\n",
              "      <th>2</th>\n",
              "      <td>46.058731</td>\n",
              "      <td>30.0</td>\n",
              "      <td>26</td>\n",
              "      <td>4.0</td>\n",
              "      <td>0.0</td>\n",
              "      <td>0</td>\n",
              "      <td>0</td>\n",
              "      <td>6</td>\n",
              "      <td>1</td>\n",
              "      <td>0</td>\n",
              "      <td>2</td>\n",
              "      <td>124.819966</td>\n",
              "      <td>13.076257</td>\n",
              "      <td>0</td>\n",
              "    </tr>\n",
              "    <tr>\n",
              "      <th>5</th>\n",
              "      <td>54.095825</td>\n",
              "      <td>58.0</td>\n",
              "      <td>56</td>\n",
              "      <td>0.0</td>\n",
              "      <td>0.0</td>\n",
              "      <td>0</td>\n",
              "      <td>0</td>\n",
              "      <td>6</td>\n",
              "      <td>1</td>\n",
              "      <td>0</td>\n",
              "      <td>4</td>\n",
              "      <td>124.819966</td>\n",
              "      <td>15.286353</td>\n",
              "      <td>0</td>\n",
              "    </tr>\n",
              "    <tr>\n",
              "      <th>7</th>\n",
              "      <td>56.903400</td>\n",
              "      <td>35.0</td>\n",
              "      <td>24</td>\n",
              "      <td>3.0</td>\n",
              "      <td>0.0</td>\n",
              "      <td>0</td>\n",
              "      <td>0</td>\n",
              "      <td>7</td>\n",
              "      <td>1</td>\n",
              "      <td>0</td>\n",
              "      <td>2</td>\n",
              "      <td>124.819966</td>\n",
              "      <td>11.311761</td>\n",
              "      <td>0</td>\n",
              "    </tr>\n",
              "    <tr>\n",
              "      <th>8</th>\n",
              "      <td>46.908810</td>\n",
              "      <td>37.0</td>\n",
              "      <td>35</td>\n",
              "      <td>0.0</td>\n",
              "      <td>0.0</td>\n",
              "      <td>0</td>\n",
              "      <td>0</td>\n",
              "      <td>7</td>\n",
              "      <td>1</td>\n",
              "      <td>0</td>\n",
              "      <td>2</td>\n",
              "      <td>124.819966</td>\n",
              "      <td>11.223912</td>\n",
              "      <td>0</td>\n",
              "    </tr>\n",
              "    <tr>\n",
              "      <th>...</th>\n",
              "      <td>...</td>\n",
              "      <td>...</td>\n",
              "      <td>...</td>\n",
              "      <td>...</td>\n",
              "      <td>...</td>\n",
              "      <td>...</td>\n",
              "      <td>...</td>\n",
              "      <td>...</td>\n",
              "      <td>...</td>\n",
              "      <td>...</td>\n",
              "      <td>...</td>\n",
              "      <td>...</td>\n",
              "      <td>...</td>\n",
              "      <td>...</td>\n",
              "    </tr>\n",
              "    <tr>\n",
              "      <th>19818</th>\n",
              "      <td>74.980682</td>\n",
              "      <td>46.0</td>\n",
              "      <td>38</td>\n",
              "      <td>5.0</td>\n",
              "      <td>3.0</td>\n",
              "      <td>0</td>\n",
              "      <td>1</td>\n",
              "      <td>7</td>\n",
              "      <td>0</td>\n",
              "      <td>0</td>\n",
              "      <td>2</td>\n",
              "      <td>162.748811</td>\n",
              "      <td>14.214518</td>\n",
              "      <td>0</td>\n",
              "    </tr>\n",
              "    <tr>\n",
              "      <th>19820</th>\n",
              "      <td>58.153015</td>\n",
              "      <td>38.0</td>\n",
              "      <td>41</td>\n",
              "      <td>3.0</td>\n",
              "      <td>2.0</td>\n",
              "      <td>1</td>\n",
              "      <td>1</td>\n",
              "      <td>7</td>\n",
              "      <td>1</td>\n",
              "      <td>1</td>\n",
              "      <td>3</td>\n",
              "      <td>162.748811</td>\n",
              "      <td>13.606447</td>\n",
              "      <td>0</td>\n",
              "    </tr>\n",
              "    <tr>\n",
              "      <th>19822</th>\n",
              "      <td>59.737247</td>\n",
              "      <td>52.0</td>\n",
              "      <td>41</td>\n",
              "      <td>0.0</td>\n",
              "      <td>2.0</td>\n",
              "      <td>0</td>\n",
              "      <td>1</td>\n",
              "      <td>7</td>\n",
              "      <td>0</td>\n",
              "      <td>1</td>\n",
              "      <td>2</td>\n",
              "      <td>162.748811</td>\n",
              "      <td>16.811539</td>\n",
              "      <td>0</td>\n",
              "    </tr>\n",
              "    <tr>\n",
              "      <th>19823</th>\n",
              "      <td>62.055641</td>\n",
              "      <td>51.0</td>\n",
              "      <td>40</td>\n",
              "      <td>5.0</td>\n",
              "      <td>2.0</td>\n",
              "      <td>0</td>\n",
              "      <td>1</td>\n",
              "      <td>5</td>\n",
              "      <td>1</td>\n",
              "      <td>1</td>\n",
              "      <td>1</td>\n",
              "      <td>114.763392</td>\n",
              "      <td>15.906003</td>\n",
              "      <td>0</td>\n",
              "    </tr>\n",
              "    <tr>\n",
              "      <th>19825</th>\n",
              "      <td>62.828438</td>\n",
              "      <td>58.0</td>\n",
              "      <td>49</td>\n",
              "      <td>3.0</td>\n",
              "      <td>0.0</td>\n",
              "      <td>0</td>\n",
              "      <td>1</td>\n",
              "      <td>9</td>\n",
              "      <td>1</td>\n",
              "      <td>1</td>\n",
              "      <td>4</td>\n",
              "      <td>114.763392</td>\n",
              "      <td>8.737772</td>\n",
              "      <td>0</td>\n",
              "    </tr>\n",
              "  </tbody>\n",
              "</table>\n",
              "<p>9913 rows × 14 columns</p>\n",
              "</div>\n",
              "      <button class=\"colab-df-convert\" onclick=\"convertToInteractive('df-12566b1b-4938-46a9-a5b9-b41349c7c837')\"\n",
              "              title=\"Convert this dataframe to an interactive table.\"\n",
              "              style=\"display:none;\">\n",
              "        \n",
              "  <svg xmlns=\"http://www.w3.org/2000/svg\" height=\"24px\"viewBox=\"0 0 24 24\"\n",
              "       width=\"24px\">\n",
              "    <path d=\"M0 0h24v24H0V0z\" fill=\"none\"/>\n",
              "    <path d=\"M18.56 5.44l.94 2.06.94-2.06 2.06-.94-2.06-.94-.94-2.06-.94 2.06-2.06.94zm-11 1L8.5 8.5l.94-2.06 2.06-.94-2.06-.94L8.5 2.5l-.94 2.06-2.06.94zm10 10l.94 2.06.94-2.06 2.06-.94-2.06-.94-.94-2.06-.94 2.06-2.06.94z\"/><path d=\"M17.41 7.96l-1.37-1.37c-.4-.4-.92-.59-1.43-.59-.52 0-1.04.2-1.43.59L10.3 9.45l-7.72 7.72c-.78.78-.78 2.05 0 2.83L4 21.41c.39.39.9.59 1.41.59.51 0 1.02-.2 1.41-.59l7.78-7.78 2.81-2.81c.8-.78.8-2.07 0-2.86zM5.41 20L4 18.59l7.72-7.72 1.47 1.35L5.41 20z\"/>\n",
              "  </svg>\n",
              "      </button>\n",
              "      \n",
              "  <style>\n",
              "    .colab-df-container {\n",
              "      display:flex;\n",
              "      flex-wrap:wrap;\n",
              "      gap: 12px;\n",
              "    }\n",
              "\n",
              "    .colab-df-convert {\n",
              "      background-color: #E8F0FE;\n",
              "      border: none;\n",
              "      border-radius: 50%;\n",
              "      cursor: pointer;\n",
              "      display: none;\n",
              "      fill: #1967D2;\n",
              "      height: 32px;\n",
              "      padding: 0 0 0 0;\n",
              "      width: 32px;\n",
              "    }\n",
              "\n",
              "    .colab-df-convert:hover {\n",
              "      background-color: #E2EBFA;\n",
              "      box-shadow: 0px 1px 2px rgba(60, 64, 67, 0.3), 0px 1px 3px 1px rgba(60, 64, 67, 0.15);\n",
              "      fill: #174EA6;\n",
              "    }\n",
              "\n",
              "    [theme=dark] .colab-df-convert {\n",
              "      background-color: #3B4455;\n",
              "      fill: #D2E3FC;\n",
              "    }\n",
              "\n",
              "    [theme=dark] .colab-df-convert:hover {\n",
              "      background-color: #434B5C;\n",
              "      box-shadow: 0px 1px 3px 1px rgba(0, 0, 0, 0.15);\n",
              "      filter: drop-shadow(0px 1px 2px rgba(0, 0, 0, 0.3));\n",
              "      fill: #FFFFFF;\n",
              "    }\n",
              "  </style>\n",
              "\n",
              "      <script>\n",
              "        const buttonEl =\n",
              "          document.querySelector('#df-12566b1b-4938-46a9-a5b9-b41349c7c837 button.colab-df-convert');\n",
              "        buttonEl.style.display =\n",
              "          google.colab.kernel.accessAllowed ? 'block' : 'none';\n",
              "\n",
              "        async function convertToInteractive(key) {\n",
              "          const element = document.querySelector('#df-12566b1b-4938-46a9-a5b9-b41349c7c837');\n",
              "          const dataTable =\n",
              "            await google.colab.kernel.invokeFunction('convertToInteractive',\n",
              "                                                     [key], {});\n",
              "          if (!dataTable) return;\n",
              "\n",
              "          const docLinkHtml = 'Like what you see? Visit the ' +\n",
              "            '<a target=\"_blank\" href=https://colab.research.google.com/notebooks/data_table.ipynb>data table notebook</a>'\n",
              "            + ' to learn more about interactive tables.';\n",
              "          element.innerHTML = '';\n",
              "          dataTable['output_type'] = 'display_data';\n",
              "          await google.colab.output.renderOutput(dataTable, element);\n",
              "          const docLink = document.createElement('div');\n",
              "          docLink.innerHTML = docLinkHtml;\n",
              "          element.appendChild(docLink);\n",
              "        }\n",
              "      </script>\n",
              "    </div>\n",
              "  </div>\n",
              "  "
            ],
            "text/plain": [
              "       poverty_index  age_hh  ...  health_expenditures  round\n",
              "0          55.950542    24.0  ...            15.185455      0\n",
              "2          46.058731    30.0  ...            13.076257      0\n",
              "5          54.095825    58.0  ...            15.286353      0\n",
              "7          56.903400    35.0  ...            11.311761      0\n",
              "8          46.908810    37.0  ...            11.223912      0\n",
              "...              ...     ...  ...                  ...    ...\n",
              "19818      74.980682    46.0  ...            14.214518      0\n",
              "19820      58.153015    38.0  ...            13.606447      0\n",
              "19822      59.737247    52.0  ...            16.811539      0\n",
              "19823      62.055641    51.0  ...            15.906003      0\n",
              "19825      62.828438    58.0  ...             8.737772      0\n",
              "\n",
              "[9913 rows x 14 columns]"
            ]
          },
          "metadata": {},
          "execution_count": 35
        }
      ]
    },
    {
      "cell_type": "markdown",
      "metadata": {
        "id": "OUgUDlybH80P"
      },
      "source": [
        "### Split the Dataframe into a training and test sets"
      ]
    },
    {
      "cell_type": "markdown",
      "metadata": {
        "id": "8beX4tHkMNBz"
      },
      "source": [
        "Before using regression method on our data, we need to split it into two different set. One will be use to train our algorithm, the other to test it. We cannot use the same data for both since it would lead to the algorithm answering what he already knows and not what he had to predict."
      ]
    },
    {
      "cell_type": "code",
      "execution_count": 36,
      "metadata": {
        "id": "C2k6kSQTWlVp"
      },
      "outputs": [],
      "source": [
        "X = encoded_df.drop(\"health_expenditures\", axis=1)\n",
        "Y = encoded_df.health_expenditures"
      ]
    },
    {
      "cell_type": "code",
      "execution_count": 37,
      "metadata": {
        "id": "w0tYgfLDHmD6"
      },
      "outputs": [],
      "source": [
        "X_train, X_test, Y_train, Y_test = train_test_split(X, Y, test_size=0.2, random_state=42)"
      ]
    },
    {
      "cell_type": "code",
      "execution_count": 38,
      "metadata": {
        "colab": {
          "base_uri": "https://localhost:8080/"
        },
        "id": "BQu9sRs8XUrr",
        "outputId": "89252c2f-b958-4b9f-f8d3-33f9f2be7429"
      },
      "outputs": [
        {
          "output_type": "stream",
          "name": "stdout",
          "text": [
            " X_train = (7930, 13)\n",
            " X_test = (1983, 13)\n",
            " Y_train = (7930,)\n",
            " Y_test = (1983,)\n"
          ]
        }
      ],
      "source": [
        "print(f' X_train = {X_train.shape}\\n X_test = {X_test.shape}\\n Y_train = {Y_train.shape}\\n Y_test = {Y_test.shape}')"
      ]
    },
    {
      "cell_type": "markdown",
      "metadata": {
        "id": "HhMOUMEm885e"
      },
      "source": [
        "## Linear Model"
      ]
    },
    {
      "cell_type": "markdown",
      "metadata": {
        "id": "zma6gIxXjbWL"
      },
      "source": [
        "### Import"
      ]
    },
    {
      "cell_type": "code",
      "execution_count": 39,
      "metadata": {
        "id": "AEn74i-Xjf8-"
      },
      "outputs": [],
      "source": [
        "# importing module of linear regression \n",
        "from sklearn.linear_model import LinearRegression\n",
        "from sklearn.metrics import r2_score\n",
        "from sklearn.metrics import mean_squared_error"
      ]
    },
    {
      "cell_type": "markdown",
      "metadata": {
        "id": "jltVnQsZjley"
      },
      "source": [
        "### Creation of Linear Regression"
      ]
    },
    {
      "cell_type": "code",
      "execution_count": 40,
      "metadata": {
        "colab": {
          "base_uri": "https://localhost:8080/"
        },
        "id": "rLlJ_Wm08NMY",
        "outputId": "d0480432-5570-41e6-de8f-bf57c155c63b"
      },
      "outputs": [
        {
          "output_type": "execute_result",
          "data": {
            "text/plain": [
              "LinearRegression()"
            ]
          },
          "metadata": {},
          "execution_count": 40
        }
      ],
      "source": [
        "# cratinf an object of LinearRegression class\n",
        "LR = LinearRegression()\n",
        "# fitting the traning\n",
        "LR.fit(X_train, Y_train)"
      ]
    },
    {
      "cell_type": "code",
      "execution_count": 41,
      "metadata": {
        "colab": {
          "base_uri": "https://localhost:8080/"
        },
        "id": "2QeX7hydl-62",
        "outputId": "f1b795a5-3068-4f2c-d7c6-40bb7e4a2d80"
      },
      "outputs": [
        {
          "output_type": "execute_result",
          "data": {
            "text/plain": [
              "array([ 5.17886353e-02,  6.82224192e-02,  1.21679578e-02,  1.58499703e-01,\n",
              "       -5.14256028e-02,  1.64493460e+00, -2.74864908e+00, -2.00048242e+00,\n",
              "       -2.54898364e+00,  3.88853182e-01,  1.89496162e-01,  5.86077268e-04,\n",
              "        0.00000000e+00])"
            ]
          },
          "metadata": {},
          "execution_count": 41
        }
      ],
      "source": [
        "coef = LR.coef_\n",
        "coef"
      ]
    },
    {
      "cell_type": "code",
      "execution_count": 42,
      "metadata": {
        "colab": {
          "base_uri": "https://localhost:8080/"
        },
        "id": "ZlTbx8wfmBZZ",
        "outputId": "ce031a43-1e30-4cb8-aeb1-b1b43a871a4f"
      },
      "outputs": [
        {
          "output_type": "execute_result",
          "data": {
            "text/plain": [
              "22.32131751981288"
            ]
          },
          "metadata": {},
          "execution_count": 42
        }
      ],
      "source": [
        "LR.intercept_"
      ]
    },
    {
      "cell_type": "markdown",
      "metadata": {
        "id": "BLHs5InroSJ6"
      },
      "source": [
        "### Model values (coef & intercept)"
      ]
    },
    {
      "cell_type": "code",
      "execution_count": 43,
      "metadata": {
        "colab": {
          "base_uri": "https://localhost:8080/"
        },
        "id": "I7AvmK9wmWM6",
        "outputId": "2556610a-91a6-4124-ff4b-91edc553bccd"
      },
      "outputs": [
        {
          "output_type": "stream",
          "name": "stdout",
          "text": [
            "health_expedenditure =\n",
            "0.05*poverty_index+\n",
            "0.07*age_hh+\n",
            "0.01*age_sp+\n",
            "0.16*educ_hh+\n",
            "-0.05*educ_sp+\n",
            "1.64*female_hh+\n",
            "-2.75*indigenous+\n",
            "-2.00*hhsize+\n",
            "-2.55*dirtfloor+\n",
            "0.39*bathroom+\n",
            "0.19*land+\n",
            "0.00*hospital_distance+\n",
            "0.00*round+\n",
            "+22.32131751981288\n"
          ]
        }
      ],
      "source": [
        "print(\"health_expedenditure =\")\n",
        "for i, head in enumerate(LR.feature_names_in_):\n",
        "  print(f'{coef[i]:.2f}*{head}+')\n",
        "print(f'+{LR.intercept_}')"
      ]
    },
    {
      "cell_type": "markdown",
      "metadata": {
        "id": "MsblIvo4j121"
      },
      "source": [
        "### Prediction"
      ]
    },
    {
      "cell_type": "markdown",
      "metadata": {
        "id": "qrae3IuQoewT"
      },
      "source": [
        "Now that we have our linear regression model, we can try it out on our test data set."
      ]
    },
    {
      "cell_type": "code",
      "execution_count": 44,
      "metadata": {
        "colab": {
          "base_uri": "https://localhost:8080/"
        },
        "id": "1HWmjdfj9b-y",
        "outputId": "7804a495-a0e9-4136-ebca-b0247f3f948d"
      },
      "outputs": [
        {
          "output_type": "execute_result",
          "data": {
            "text/plain": [
              "array([21.76200269, 20.52409391, 18.73921597, ...,  9.83376104,\n",
              "       20.15336691,  7.48862422])"
            ]
          },
          "metadata": {},
          "execution_count": 44
        }
      ],
      "source": [
        "# prediction of Y \n",
        "Y_prediction = LR.predict(X_test)\n",
        "Y_prediction"
      ]
    },
    {
      "cell_type": "code",
      "execution_count": 45,
      "metadata": {
        "colab": {
          "base_uri": "https://localhost:8080/"
        },
        "id": "eCYNlkmMsWTr",
        "outputId": "88c7b77a-7a45-4c6e-afc5-2f03e12ffc6a"
      },
      "outputs": [
        {
          "output_type": "stream",
          "name": "stdout",
          "text": [
            "Real Y = 20.9176349639893 ; Model Y = 21.76200269415916 ; Diff = -0.8443677301698607\n",
            "Real Y = 21.0587882995605 ; Model Y = 20.52409390888394 ; Diff = 0.5346943906765596\n",
            "Real Y = 18.2669982910156 ; Model Y = 18.73921597349028 ; Diff = -0.4722176824746782\n",
            "Real Y = 18.2212982177734 ; Model Y = 17.63476283451625 ; Diff = 0.58653538325715\n",
            "Real Y = 26.1605434417725 ; Model Y = 29.69622494829349 ; Diff = -3.535681506520991\n",
            "Real Y = 10.4642553329468 ; Model Y = 9.887994864034892 ; Diff = 0.576260468911908\n",
            "Real Y = 16.3610668182373 ; Model Y = 16.819939180385227 ; Diff = -0.4588723621479254\n",
            "Real Y = 13.8961334228516 ; Model Y = 13.869769256708107 ; Diff = 0.026364166143492795\n",
            "Real Y = 17.3315181732178 ; Model Y = 17.204867079372672 ; Diff = 0.12665109384512618\n",
            "Real Y = 29.115798950195302 ; Model Y = 25.867021642878942 ; Diff = 3.2487773073163595\n",
            "Real Y = 10.6093883514404 ; Model Y = 10.78068319264408 ; Diff = -0.17129484120368055\n",
            "Real Y = 18.195119857788104 ; Model Y = 19.336438050812195 ; Diff = -1.141318193024091\n",
            "Real Y = 24.5055637359619 ; Model Y = 23.858134372153064 ; Diff = 0.6474293638088362\n",
            "Real Y = 14.0049886703491 ; Model Y = 14.524415872971465 ; Diff = -0.5194272026223654\n",
            "Real Y = 15.8706493377686 ; Model Y = 15.90080057375841 ; Diff = -0.030151235989809066\n",
            "Real Y = 24.5073623657227 ; Model Y = 24.966224083589356 ; Diff = -0.4588617178666574\n",
            "Real Y = 20.490648269653303 ; Model Y = 19.39673897407167 ; Diff = 1.093909295581632\n",
            "Real Y = 19.130474090576197 ; Model Y = 19.333795547066956 ; Diff = -0.20332145649075883\n",
            "Real Y = 21.566890716552702 ; Model Y = 22.127308333904484 ; Diff = -0.5604176173517814\n",
            "Real Y = 13.490736007690401 ; Model Y = 15.152882053471423 ; Diff = -1.6621460457810215\n",
            "Average diff=-0.1608728061051278\n"
          ]
        }
      ],
      "source": [
        "diff = []\n",
        "for i in range(20):\n",
        "  print(f'Real Y = {Y_test.to_numpy()[i]} ; Model Y = {Y_prediction[i]} ; Diff = {Y_test.to_numpy()[i]-Y_prediction[i]}')\n",
        "  diff.append(Y_test.to_numpy()[i]-Y_prediction[i])\n",
        "print(f'Average diff={sum(diff) / len(diff)}')"
      ]
    },
    {
      "cell_type": "markdown",
      "metadata": {
        "id": "CgclgdqRsXmG"
      },
      "source": [
        "### Score"
      ]
    },
    {
      "cell_type": "markdown",
      "metadata": {
        "id": "lhpQxWu9olch"
      },
      "source": [
        "To know if our model is precise, we can refer to its scores (𝚁², MSE, or RMSE)."
      ]
    },
    {
      "cell_type": "code",
      "execution_count": 46,
      "metadata": {
        "colab": {
          "base_uri": "https://localhost:8080/"
        },
        "id": "U7XS5lkx9utp",
        "outputId": "35666571-6e44-4174-f776-503a91932c90"
      },
      "outputs": [
        {
          "output_type": "stream",
          "name": "stdout",
          "text": [
            " r2 socre is  0.9618749584096511\n",
            " mean_sqrd_error is  1.201770438271254\n",
            " root_mean_squared error of is  1.096252907987593\n"
          ]
        }
      ],
      "source": [
        "# predicting the accuracy score\n",
        "score=r2_score(Y_test,Y_prediction)\n",
        "print(\" r2 socre is \",score)\n",
        "print(\" mean_sqrd_error is \",mean_squared_error(Y_test,Y_prediction))\n",
        "print(\" root_mean_squared error of is \",np.sqrt(mean_squared_error(Y_test,Y_prediction)))"
      ]
    },
    {
      "cell_type": "markdown",
      "metadata": {
        "id": "77OgW4JR-xyi"
      },
      "source": [
        "The Mean squared error is verry low also as the coefficient of correlation (r), which indicates that our model isn't that precise."
      ]
    },
    {
      "cell_type": "markdown",
      "metadata": {
        "id": "25dlZzfL8-sx"
      },
      "source": [
        "## Random Forest Regressor"
      ]
    },
    {
      "cell_type": "markdown",
      "metadata": {
        "id": "oJLS5AIIrpG_"
      },
      "source": [
        "### Import"
      ]
    },
    {
      "cell_type": "code",
      "execution_count": 47,
      "metadata": {
        "id": "NiP4GuZBrrRw"
      },
      "outputs": [],
      "source": [
        "# Import necessary library\n",
        "from sklearn.ensemble import RandomForestRegressor\n",
        "from sklearn.datasets import make_regression"
      ]
    },
    {
      "cell_type": "markdown",
      "metadata": {
        "id": "vVxdx6yNYXvy"
      },
      "source": [
        "### Model creation"
      ]
    },
    {
      "cell_type": "code",
      "execution_count": 48,
      "metadata": {
        "id": "W_RGk33fq7Xw"
      },
      "outputs": [],
      "source": [
        "rf = RandomForestRegressor()"
      ]
    },
    {
      "cell_type": "markdown",
      "metadata": {
        "id": "o2jccd0VsMGZ"
      },
      "source": [
        "### Fit"
      ]
    },
    {
      "cell_type": "code",
      "execution_count": 49,
      "metadata": {
        "colab": {
          "base_uri": "https://localhost:8080/"
        },
        "id": "COX2c_c-r-_L",
        "outputId": "2e954581-ccfd-42c9-f1eb-f7bc65696a42"
      },
      "outputs": [
        {
          "output_type": "execute_result",
          "data": {
            "text/plain": [
              "RandomForestRegressor()"
            ]
          },
          "metadata": {},
          "execution_count": 49
        }
      ],
      "source": [
        "rf.fit(X_train, Y_train)"
      ]
    },
    {
      "cell_type": "markdown",
      "metadata": {
        "id": "V9rJzNEwsNmi"
      },
      "source": [
        "### Prediction"
      ]
    },
    {
      "cell_type": "code",
      "execution_count": 50,
      "metadata": {
        "id": "DKyIa9OHsDpn"
      },
      "outputs": [],
      "source": [
        "rf_prediction = rf.predict(X_test)"
      ]
    },
    {
      "cell_type": "markdown",
      "metadata": {
        "id": "2iaJKRD8sQhg"
      },
      "source": [
        "### Scores"
      ]
    },
    {
      "cell_type": "code",
      "execution_count": 51,
      "metadata": {
        "colab": {
          "base_uri": "https://localhost:8080/"
        },
        "id": "gqY4lE5XsleJ",
        "outputId": "6a51ccee-0346-40cb-f3a8-4dec8b4ff49c"
      },
      "outputs": [
        {
          "output_type": "stream",
          "name": "stdout",
          "text": [
            " Score is  0.9830032071481262\n",
            " mean_sqrd_error is  0.5357697288380907\n",
            " root_mean_squared error of is  0.731962928595493\n"
          ]
        }
      ],
      "source": [
        "# predicting the accuracy score\n",
        "rf_score=rf.score(X_test,Y_test)\n",
        "print(\" Score is \",rf_score)\n",
        "print(\" mean_sqrd_error is \",mean_squared_error(Y_test,rf_prediction))\n",
        "print(\" root_mean_squared error of is \",np.sqrt(mean_squared_error(Y_test,rf_prediction)))"
      ]
    },
    {
      "cell_type": "markdown",
      "metadata": {
        "id": "PaPwuodSurT3"
      },
      "source": [
        "## Decision Tree regressor"
      ]
    },
    {
      "cell_type": "markdown",
      "metadata": {
        "id": "2_bzmAYSuvgL"
      },
      "source": [
        "### Import"
      ]
    },
    {
      "cell_type": "code",
      "execution_count": 52,
      "metadata": {
        "id": "KRbatdEturIW"
      },
      "outputs": [],
      "source": [
        "from sklearn.tree import DecisionTreeRegressor"
      ]
    },
    {
      "cell_type": "markdown",
      "metadata": {
        "id": "FshsV5Wduv1f"
      },
      "source": [
        "### Model Creation"
      ]
    },
    {
      "cell_type": "code",
      "execution_count": 53,
      "metadata": {
        "id": "u1Cq1iksu4z7"
      },
      "outputs": [],
      "source": [
        "dt = DecisionTreeRegressor()"
      ]
    },
    {
      "cell_type": "markdown",
      "metadata": {
        "id": "pa6ceVazuwPp"
      },
      "source": [
        "### Fit"
      ]
    },
    {
      "cell_type": "code",
      "execution_count": 54,
      "metadata": {
        "colab": {
          "base_uri": "https://localhost:8080/"
        },
        "id": "HXk-ITWDu5Pl",
        "outputId": "a1c53b5d-b091-4bb7-b752-3af32b911493"
      },
      "outputs": [
        {
          "output_type": "execute_result",
          "data": {
            "text/plain": [
              "DecisionTreeRegressor()"
            ]
          },
          "metadata": {},
          "execution_count": 54
        }
      ],
      "source": [
        "dt.fit(X_train, Y_train)"
      ]
    },
    {
      "cell_type": "markdown",
      "metadata": {
        "id": "5F3NXtnwuwgf"
      },
      "source": [
        "### Prediction"
      ]
    },
    {
      "cell_type": "code",
      "execution_count": 55,
      "metadata": {
        "id": "TJrSkBqxu5fU"
      },
      "outputs": [],
      "source": [
        "dt_prediction = dt.predict(X_test)"
      ]
    },
    {
      "cell_type": "markdown",
      "metadata": {
        "id": "HpL1z30NuwvI"
      },
      "source": [
        "### Scores"
      ]
    },
    {
      "cell_type": "code",
      "execution_count": 56,
      "metadata": {
        "colab": {
          "base_uri": "https://localhost:8080/"
        },
        "id": "xXxn9ctcu5xP",
        "outputId": "d891daa0-a1da-42c1-a1df-fd24cb963cc6"
      },
      "outputs": [
        {
          "output_type": "stream",
          "name": "stdout",
          "text": [
            " Score is  0.9700819687971787\n",
            " mean_sqrd_error is  0.9430705901165312\n",
            " root_mean_squared error of is  0.9711182163447101\n"
          ]
        }
      ],
      "source": [
        "# predicting the accuracy score\n",
        "dt_score=dt.score(X_test,Y_test)\n",
        "print(\" Score is \",dt_score)\n",
        "print(\" mean_sqrd_error is \",mean_squared_error(Y_test,dt_prediction))\n",
        "print(\" root_mean_squared error of is \",np.sqrt(mean_squared_error(Y_test,dt_prediction)))"
      ]
    },
    {
      "cell_type": "markdown",
      "source": [
        "### Neural network (test)"
      ],
      "metadata": {
        "id": "GDkCKFYaRHuL"
      }
    },
    {
      "cell_type": "code",
      "source": [
        "from sklearn.neural_network import MLPRegressor"
      ],
      "metadata": {
        "id": "GeXlQgKXHhNG"
      },
      "execution_count": 57,
      "outputs": []
    },
    {
      "cell_type": "code",
      "source": [
        "regr = MLPRegressor(random_state=1, max_iter=5000).fit(X_train, Y_train)"
      ],
      "metadata": {
        "id": "1OqVj84fc8kl"
      },
      "execution_count": 69,
      "outputs": []
    },
    {
      "cell_type": "code",
      "source": [
        "ml_prediction = regr.predict(X_test)"
      ],
      "metadata": {
        "id": "eHA3vvUfdA-V"
      },
      "execution_count": 70,
      "outputs": []
    },
    {
      "cell_type": "code",
      "source": [
        "regr.score(X_test, Y_test)"
      ],
      "metadata": {
        "colab": {
          "base_uri": "https://localhost:8080/"
        },
        "id": "GFCGdaBedF_6",
        "outputId": "82381d35-51e6-426a-9d85-86380f4b26ac"
      },
      "execution_count": 71,
      "outputs": [
        {
          "output_type": "execute_result",
          "data": {
            "text/plain": [
              "0.9763115410071908"
            ]
          },
          "metadata": {},
          "execution_count": 71
        }
      ]
    },
    {
      "cell_type": "markdown",
      "metadata": {
        "id": "U10gUp_V9BZt"
      },
      "source": [
        "## Models comparison\n"
      ]
    },
    {
      "cell_type": "markdown",
      "source": [
        "To compare the three models we just create, we can use fours indicators:\n",
        "*   MSE: Mean square error ;\n",
        "*   RMSE: Root Mean;\n",
        "*   MAE: Mean Absolute Error;\n",
        "*   MAPE: Mean absolute pourcentage error.\n",
        "\n",
        "MSE is calculated by the sum of square of prediction error which is real output minus predicted output and then divide by the number of data points. It gives you an absolute number on how much your predicted results deviate from the actual number. You cannot interpret many insights from one single result but it gives you a real number to compare against other model results and help you select the best regression model.\n",
        "\n",
        "Root Mean Square Error(RMSE) is the square root of MSE. It is used more commonly than MSE because firstly sometimes MSE value can be too big to compare easily. Secondly, MSE is calculated by the square of error, and thus square root brings it back to the same level of prediction error and makes it easier for interpretation.\n",
        "\n",
        "Mean Absolute Error(MAE) is similar to Mean Square Error(MSE). However, instead of the sum of square of error in MSE, MAE is taking the sum of the absolute value of error.\n",
        "\n",
        "MAPE (Mean Absolute Percentage Error) is an error metric used to measure the performance of regression machine learning models. It is a popular metric to use amongst data scientists as it returns the error as a percentage, making it both easy for end users to understand and simpler to compare model accuracy across use cases and datasets.\n",
        "\n",
        "In those three cases : **the lower, the better**."
      ],
      "metadata": {
        "id": "LeHGxJj86_Q3"
      }
    },
    {
      "cell_type": "markdown",
      "source": [
        "### Get scores using SKLearn.Metrics"
      ],
      "metadata": {
        "id": "YppCnF0o8F7_"
      }
    },
    {
      "cell_type": "code",
      "execution_count": 85,
      "metadata": {
        "id": "MGvITmloy_uw"
      },
      "outputs": [],
      "source": [
        "from sklearn.metrics import mean_absolute_error\n",
        "from sklearn.metrics import mean_absolute_percentage_error"
      ]
    },
    {
      "cell_type": "markdown",
      "source": [
        "#### Linear Regression"
      ],
      "metadata": {
        "id": "R4b6xrEeff-y"
      }
    },
    {
      "cell_type": "code",
      "execution_count": 88,
      "metadata": {
        "colab": {
          "base_uri": "https://localhost:8080/"
        },
        "id": "n-0ZE6BwxKUq",
        "outputId": "708da185-b024-4017-8871-66abecaed174"
      },
      "outputs": [
        {
          "output_type": "stream",
          "name": "stdout",
          "text": [
            "Linear regression MSE score : 1.201770\n",
            "Linear regression RMSE score : 1.096253\n",
            "Linear regression MAE score : 0.760838\n",
            "Linear regression MAPE score : 0.045176\n"
          ]
        }
      ],
      "source": [
        "print(\"Linear regression MSE score : %f\" % mean_squared_error(Y_test,Y_prediction))\n",
        "print(\"Linear regression RMSE score : %f\" % np.sqrt(mean_squared_error(Y_test,Y_prediction)))\n",
        "print(\"Linear regression MAE score : %f\" % mean_absolute_error(Y_test,Y_prediction))\n",
        "print(\"Linear regression MAPE score : %f\" % mean_absolute_percentage_error(Y_test, Y_prediction))"
      ]
    },
    {
      "cell_type": "markdown",
      "source": [
        "#### Random forest regression"
      ],
      "metadata": {
        "id": "e5Vmvupyfjd_"
      }
    },
    {
      "cell_type": "code",
      "execution_count": 87,
      "metadata": {
        "colab": {
          "base_uri": "https://localhost:8080/"
        },
        "id": "wXuV8eNwwKvx",
        "outputId": "27cfcd7c-7b38-4cc9-f808-dacfec0fb654"
      },
      "outputs": [
        {
          "output_type": "stream",
          "name": "stdout",
          "text": [
            "Random forest MSE score : 0.535770\n",
            "Random forest RMSE score : 0.731963\n",
            "Random forest MAE score : 0.454953\n",
            "Random forest MAPE score : 0.028339\n"
          ]
        }
      ],
      "source": [
        "print(\"Random forest MSE score : %f\" % mean_squared_error(Y_test,rf_prediction))\n",
        "print(\"Random forest RMSE score : %f\" % np.sqrt(mean_squared_error(Y_test,rf_prediction)))\n",
        "print(\"Random forest MAE score : %f\" % mean_absolute_error(Y_test,rf_prediction))\n",
        "print(\"Random forest MAPE score : %f\" % mean_absolute_percentage_error(Y_test, rf_prediction))"
      ]
    },
    {
      "cell_type": "markdown",
      "source": [
        "#### Decision Tree Regression"
      ],
      "metadata": {
        "id": "lxvujK1qfm9V"
      }
    },
    {
      "cell_type": "code",
      "execution_count": 89,
      "metadata": {
        "colab": {
          "base_uri": "https://localhost:8080/"
        },
        "id": "1pwjaLfbv6xx",
        "outputId": "a98d7faf-6d60-42a8-9495-e9f939f786b5"
      },
      "outputs": [
        {
          "output_type": "stream",
          "name": "stdout",
          "text": [
            "Decision tree MSE score : 0.943071\n",
            "Decision tree RMSE score : 0.971118\n",
            "Decision tree MAE score : 0.611063\n",
            "Decision tree MAPE score : 0.038100\n"
          ]
        }
      ],
      "source": [
        "print(\"Decision tree MSE score : %f\" % mean_squared_error(Y_test,dt_prediction))\n",
        "print(\"Decision tree RMSE score : %f\" % np.sqrt(mean_squared_error(Y_test,dt_prediction)))\n",
        "print(\"Decision tree MAE score : %f\" % mean_absolute_error(Y_test,dt_prediction))\n",
        "print(\"Decision tree MAPE score : %f\" % mean_absolute_percentage_error(Y_test, dt_prediction))"
      ]
    },
    {
      "cell_type": "markdown",
      "source": [
        "#### Machine Learning (Neural network) Regression"
      ],
      "metadata": {
        "id": "6fCKUD0FfpUh"
      }
    },
    {
      "cell_type": "code",
      "source": [
        "print(\"Machine Learning MSE score : %f\" % mean_squared_error(Y_test,ml_prediction))\n",
        "print(\"Machine Learning RMSE score : %f\" % np.sqrt(mean_squared_error(Y_test,ml_prediction)))\n",
        "print(\"Machine Learning MAE score : %f\" % mean_absolute_error(Y_test,ml_prediction))\n",
        "print(\"Machine learning MAPE score : %f\" % mean_absolute_percentage_error(Y_test, ml_prediction))"
      ],
      "metadata": {
        "colab": {
          "base_uri": "https://localhost:8080/"
        },
        "id": "NSzNEZhrdh5m",
        "outputId": "0cf4666a-9b41-41cf-c385-93a7fea0f6a5"
      },
      "execution_count": 90,
      "outputs": [
        {
          "output_type": "stream",
          "name": "stdout",
          "text": [
            "Machine Learning MSE score : 0.746703\n",
            "Machine Learning RMSE score : 0.864120\n",
            "Machine Learning MAE score : 0.597930\n",
            "Machine learning MAPE score : 0.035540\n"
          ]
        }
      ]
    },
    {
      "cell_type": "markdown",
      "source": [
        "### Who's the best ?"
      ],
      "metadata": {
        "id": "L20bYMGJ8J4c"
      }
    },
    {
      "cell_type": "markdown",
      "metadata": {
        "id": "nLgb3PmEzcHn"
      },
      "source": [
        "|      | Linear Regression | Random Forest Regression | Decision Tree Regression | Machine Learning Regression |\n",
        "|------|:-----------------:|:------------------------:|:------------------------:|:------------------------:|\n",
        "| MSE  |         1.201770 |                0.538323 |                0.939139 | 0.746703|\n",
        "| RMSE |          1.096253 |                 0.733705 |                 0.969092 | 0.864120|\n",
        "| MAE  |          0.760838 |                 0.456488 |                 0.607660 |0.597930|"
      ]
    },
    {
      "cell_type": "markdown",
      "metadata": {
        "id": "bsil13-40O8X"
      },
      "source": [
        "As we previously indicated, **the lower, the better**, thus we can evaluate that the best regressor tool used here is the **Random Forest Regressor**.\n",
        "\n",
        "Although we have to notice that the linear regression method gives the nearly same result as the Random forest. Except for the MAE where RF is aboout 25% better."
      ]
    },
    {
      "cell_type": "markdown",
      "source": [
        "### 100 values plot"
      ],
      "metadata": {
        "id": "8QU7ZAPD87GK"
      }
    },
    {
      "cell_type": "markdown",
      "source": [
        "Based on the fact that we are working with a lot of variables it is complicated to plot. We can plot on one intersting value, such as `poverty_index` or `age`."
      ],
      "metadata": {
        "id": "d8c__F1Y89Wl"
      }
    },
    {
      "cell_type": "markdown",
      "source": [
        "#### Poverty index"
      ],
      "metadata": {
        "id": "fEHn7pBdfWst"
      }
    },
    {
      "cell_type": "code",
      "source": [
        "plt.scatter(X_test.poverty_index[:100], Y_test[:100], color=\"grey\", label=\"Real\")\n",
        "plt.scatter(X_test.poverty_index[:100], Y_prediction[:100], color=\"blue\", label=\"Linear\")\n",
        "plt.scatter(X_test.poverty_index[:100], rf_prediction[:100], color=\"red\", label=\"Random Forest\")\n",
        "plt.scatter(X_test.poverty_index[:100], dt_prediction[:100], color=\"purple\", label=\"Decision Tree\")\n",
        "plt.scatter(X_test.poverty_index[:100], ml_prediction[:100], color=\"green\", label=\"Machine Learning\")\n",
        "\n",
        "plt.xlabel(\"Poverty Index\")\n",
        "plt.ylabel(\"Health Expenditures\")\n",
        "\n",
        "plt.legend()\n",
        "\n",
        "plt.title(\"Health Expenditure based on Poverty Index comparaison of different models\")\n",
        "\n",
        "plt.show()"
      ],
      "metadata": {
        "colab": {
          "base_uri": "https://localhost:8080/",
          "height": 295
        },
        "id": "wHdMjSYk889f",
        "outputId": "59b87bed-aae3-4a84-d330-b27f4631b5fe"
      },
      "execution_count": 73,
      "outputs": [
        {
          "output_type": "display_data",
          "data": {
            "image/png": "[encoded data removed]",
            "text/plain": [
              "<Figure size 432x288 with 1 Axes>"
            ]
          },
          "metadata": {
            "needs_background": "light"
          }
        }
      ]
    },
    {
      "cell_type": "code",
      "source": [
        "plt.scatter(X_test.poverty_index[:100], Y_test[:100], color=\"grey\", label=\"Real\")\n",
        "plt.scatter(X_test.poverty_index[:100], Y_prediction[:100], color=\"blue\", label=\"Linear\")\n",
        "\n",
        "\n",
        "plt.xlabel(\"Poverty Index\")\n",
        "plt.ylabel(\"Health Expenditures\")\n",
        "\n",
        "plt.legend()\n",
        "\n",
        "plt.title(\"Health Expenditure based on Poverty Index comparaison of different models\")\n",
        "\n",
        "plt.show()"
      ],
      "metadata": {
        "colab": {
          "base_uri": "https://localhost:8080/",
          "height": 295
        },
        "id": "BjuF2Cm9efcc",
        "outputId": "72fbdcc1-2160-430f-cdd4-a3e8a3569bf6"
      },
      "execution_count": 75,
      "outputs": [
        {
          "output_type": "display_data",
          "data": {
            "image/png": "[encoded data removed]",
            "text/plain": [
              "<Figure size 432x288 with 1 Axes>"
            ]
          },
          "metadata": {
            "needs_background": "light"
          }
        }
      ]
    },
    {
      "cell_type": "code",
      "source": [
        "plt.scatter(X_test.poverty_index[:100], Y_test[:100], color=\"grey\", label=\"Real\")\n",
        "plt.scatter(X_test.poverty_index[:100], rf_prediction[:100], color=\"red\", label=\"Random Forest\")\n",
        "\n",
        "plt.xlabel(\"Poverty Index\")\n",
        "plt.ylabel(\"Health Expenditures\")\n",
        "\n",
        "plt.legend()\n",
        "\n",
        "plt.title(\"Health Expenditure based on Poverty Index comparaison of different models\")\n",
        "\n",
        "plt.show()"
      ],
      "metadata": {
        "colab": {
          "base_uri": "https://localhost:8080/",
          "height": 295
        },
        "id": "JqkVF3cxegEa",
        "outputId": "13555560-f999-46c7-dfeb-7c4f6d82d5ae"
      },
      "execution_count": 76,
      "outputs": [
        {
          "output_type": "display_data",
          "data": {
            "image/png": "[encoded data removed]",
            "text/plain": [
              "<Figure size 432x288 with 1 Axes>"
            ]
          },
          "metadata": {
            "needs_background": "light"
          }
        }
      ]
    },
    {
      "cell_type": "code",
      "source": [
        "plt.scatter(X_test.poverty_index[:100], Y_test[:100], color=\"grey\", label=\"Real\")\n",
        "plt.scatter(X_test.poverty_index[:100], dt_prediction[:100], color=\"purple\", label=\"Decision Tree\")\n",
        "\n",
        "plt.xlabel(\"Poverty Index\")\n",
        "plt.ylabel(\"Health Expenditures\")\n",
        "\n",
        "plt.legend()\n",
        "\n",
        "plt.title(\"Health Expenditure based on Poverty Index comparaison of different models\")\n",
        "\n",
        "plt.show()"
      ],
      "metadata": {
        "colab": {
          "base_uri": "https://localhost:8080/",
          "height": 295
        },
        "id": "D3IVch83egz8",
        "outputId": "7d85b5a4-8213-4fba-f3a6-39115c820463"
      },
      "execution_count": 77,
      "outputs": [
        {
          "output_type": "display_data",
          "data": {
            "image/png": "[encoded data removed]",
            "text/plain": [
              "<Figure size 432x288 with 1 Axes>"
            ]
          },
          "metadata": {
            "needs_background": "light"
          }
        }
      ]
    },
    {
      "cell_type": "code",
      "source": [
        "plt.scatter(X_test.poverty_index[:100], Y_test[:100], color=\"grey\", label=\"Real\")\n",
        "plt.scatter(X_test.poverty_index[:100], ml_prediction[:100], color=\"green\", label=\"Machine Learning\")\n",
        "\n",
        "plt.xlabel(\"Poverty Index\")\n",
        "plt.ylabel(\"Health Expenditures\")\n",
        "\n",
        "plt.legend()\n",
        "\n",
        "plt.title(\"Health Expenditure based on Poverty Index comparaison of different models\")\n",
        "\n",
        "plt.show()"
      ],
      "metadata": {
        "colab": {
          "base_uri": "https://localhost:8080/",
          "height": 295
        },
        "id": "9rgN5PQCeZDK",
        "outputId": "86c07397-3334-443b-d50c-2da7d1d66b40"
      },
      "execution_count": 74,
      "outputs": [
        {
          "output_type": "display_data",
          "data": {
            "image/png": "[encoded data removed]",
            "text/plain": [
              "<Figure size 432x288 with 1 Axes>"
            ]
          },
          "metadata": {
            "needs_background": "light"
          }
        }
      ]
    },
    {
      "cell_type": "markdown",
      "source": [
        "#### Age"
      ],
      "metadata": {
        "id": "ZmUrvUjtfbjI"
      }
    },
    {
      "cell_type": "code",
      "source": [
        "plt.scatter(X_test.age_hh[:100], Y_test[:100], color=\"grey\", label=\"Real\")\n",
        "plt.scatter(X_test.age_hh[:100], Y_prediction[:100], color=\"blue\", label=\"Linear\")\n",
        "plt.scatter(X_test.age_hh[:100], rf_prediction[:100], color=\"red\", label=\"Random Forest\")\n",
        "plt.scatter(X_test.age_hh[:100], dt_prediction[:100], color=\"purple\", label=\"Decision Tree\")\n",
        "plt.scatter(X_test.age_hh[:100], ml_prediction[:100], color=\"green\", label=\"Machine Learning\")\n",
        "\n",
        "plt.xlabel(\"Age\")\n",
        "plt.ylabel(\"Health Expenditures\")\n",
        "\n",
        "plt.legend()\n",
        "\n",
        "plt.title(\"Health Expenditure based on Age comparaison of different models\")\n",
        "\n",
        "plt.show()"
      ],
      "metadata": {
        "colab": {
          "base_uri": "https://localhost:8080/",
          "height": 295
        },
        "id": "fSFx0iLM_zdu",
        "outputId": "00903fea-c028-4fa5-93cd-8630c3885abe"
      },
      "execution_count": 79,
      "outputs": [
        {
          "output_type": "display_data",
          "data": {
            "image/png": "[encoded data removed]",
            "text/plain": [
              "<Figure size 432x288 with 1 Axes>"
            ]
          },
          "metadata": {
            "needs_background": "light"
          }
        }
      ]
    },
    {
      "cell_type": "code",
      "source": [
        "plt.scatter(X_test.age_hh[:100], Y_test[:100], color=\"grey\", label=\"Real\")\n",
        "plt.scatter(X_test.age_hh[:100], Y_prediction[:100], color=\"blue\", label=\"Linear\")\n",
        "\n",
        "plt.xlabel(\"Age\")\n",
        "plt.ylabel(\"Health Expenditures\")\n",
        "\n",
        "plt.legend()\n",
        "\n",
        "plt.title(\"Health Expenditure based on Age comparaison of different models\")\n",
        "\n",
        "plt.show()"
      ],
      "metadata": {
        "colab": {
          "base_uri": "https://localhost:8080/",
          "height": 295
        },
        "id": "NMmXP0fwe3Ks",
        "outputId": "a24a1d88-53ba-43bc-95f5-6b43613b641f"
      },
      "execution_count": 80,
      "outputs": [
        {
          "output_type": "display_data",
          "data": {
            "image/png": "[encoded data removed]",
            "text/plain": [
              "<Figure size 432x288 with 1 Axes>"
            ]
          },
          "metadata": {
            "needs_background": "light"
          }
        }
      ]
    },
    {
      "cell_type": "code",
      "source": [
        "plt.scatter(X_test.age_hh[:100], Y_test[:100], color=\"grey\", label=\"Real\")\n",
        "plt.scatter(X_test.age_hh[:100], rf_prediction[:100], color=\"red\", label=\"Random Forest\")\n",
        "\n",
        "plt.xlabel(\"Age\")\n",
        "plt.ylabel(\"Health Expenditures\")\n",
        "\n",
        "plt.legend()\n",
        "\n",
        "plt.title(\"Health Expenditure based on Age comparaison of different models\")\n",
        "\n",
        "plt.show()"
      ],
      "metadata": {
        "colab": {
          "base_uri": "https://localhost:8080/",
          "height": 295
        },
        "id": "qdVik344e3yg",
        "outputId": "dc62a302-05a7-45a5-ff42-531728cea2b6"
      },
      "execution_count": 81,
      "outputs": [
        {
          "output_type": "display_data",
          "data": {
            "image/png": "[encoded data removed]",
            "text/plain": [
              "<Figure size 432x288 with 1 Axes>"
            ]
          },
          "metadata": {
            "needs_background": "light"
          }
        }
      ]
    },
    {
      "cell_type": "code",
      "source": [
        "plt.scatter(X_test.age_hh[:100], Y_test[:100], color=\"grey\", label=\"Real\")\n",
        "plt.scatter(X_test.age_hh[:100], dt_prediction[:100], color=\"purple\", label=\"Decision Tree\")\n",
        "\n",
        "plt.xlabel(\"Age\")\n",
        "plt.ylabel(\"Health Expenditures\")\n",
        "\n",
        "plt.legend()\n",
        "\n",
        "plt.title(\"Health Expenditure based on Age comparaison of different models\")\n",
        "\n",
        "plt.show()"
      ],
      "metadata": {
        "colab": {
          "base_uri": "https://localhost:8080/",
          "height": 295
        },
        "id": "MCxkdzOxe4Tg",
        "outputId": "49639a36-9966-416c-db33-5017cd772b72"
      },
      "execution_count": 83,
      "outputs": [
        {
          "output_type": "display_data",
          "data": {
            "image/png": "[encoded data removed]",
            "text/plain": [
              "<Figure size 432x288 with 1 Axes>"
            ]
          },
          "metadata": {
            "needs_background": "light"
          }
        }
      ]
    },
    {
      "cell_type": "code",
      "source": [
        "plt.scatter(X_test.age_hh[:100], Y_test[:100], color=\"grey\", label=\"Real\")\n",
        "plt.scatter(X_test.age_hh[:100], ml_prediction[:100], color=\"green\", label=\"Machine Learning\")\n",
        "\n",
        "plt.xlabel(\"Age\")\n",
        "plt.ylabel(\"Health Expenditures\")\n",
        "\n",
        "plt.legend()\n",
        "\n",
        "plt.title(\"Health Expenditure based on Age comparaison of different models\")\n",
        "\n",
        "plt.show()"
      ],
      "metadata": {
        "colab": {
          "base_uri": "https://localhost:8080/",
          "height": 295
        },
        "id": "7385gSXKe41W",
        "outputId": "3be4a9f6-0253-42fc-f9bd-524c2967a2ba"
      },
      "execution_count": 84,
      "outputs": [
        {
          "output_type": "display_data",
          "data": {
            "image/png": "[encoded data removed]",
            "text/plain": [
              "<Figure size 432x288 with 1 Axes>"
            ]
          },
          "metadata": {
            "needs_background": "light"
          }
        }
      ]
    }
  ],
  "metadata": {
    "colab": {
      "collapsed_sections": [],
      "name": "data_mining_final_project_garance_mathieu.ipynb",
      "toc_visible": true,
      "provenance": [],
      "include_colab_link": true
    },
    "kernelspec": {
      "display_name": "Python 3",
      "name": "python3"
    },
    "language_info": {
      "name": "python"
    }
  },
  "nbformat": 4,
  "nbformat_minor": 0
}